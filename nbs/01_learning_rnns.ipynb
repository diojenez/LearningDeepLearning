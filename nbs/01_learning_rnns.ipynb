{
 "cells": [
  {
   "cell_type": "markdown",
   "id": "831f3753-0bd7-43ea-840f-32a22cec5933",
   "metadata": {
    "id": "831f3753-0bd7-43ea-840f-32a22cec5933"
   },
   "source": [
    "# Learning RNNs"
   ]
  },
  {
   "cell_type": "markdown",
   "id": "c36a847a",
   "metadata": {
    "id": "c36a847a"
   },
   "source": [
    "This notebook will mirror the content in Chapter 12 (\"A Language Model from Scatch\") of [*Deep Learning for Coders with fastai & PyTorch*](https://github.com/fastai/fastbook) by Jeremy Howard & Sylvain Gugger, as well as Jeremy's [\"Practical Deep Learning\"](https://course.fast.ai/) course.\n",
    "\n",
    "In an attempt to make sure I understand what is going on under the hood, I'll avoid using the conveniences provided by fastai. That being said, I am not implementing things from scratch and consider anything in Pytorch as fair game.\n",
    "\n",
    "I'll also make it my own by trying to use different datasets and adding anything else that occurs to me that might make the models perform better. We'll see what actually works."
   ]
  },
  {
   "cell_type": "markdown",
   "id": "c8dfa1fb-2d8d-4402-85b6-949fa36a72ed",
   "metadata": {
    "id": "c8dfa1fb-2d8d-4402-85b6-949fa36a72ed"
   },
   "source": [
    "## Prep"
   ]
  },
  {
   "cell_type": "code",
   "execution_count": 1,
   "id": "2e334783-df67-4728-88d6-db28037697d0",
   "metadata": {
    "colab": {
     "base_uri": "https://localhost:8080/"
    },
    "executionInfo": {
     "elapsed": 56219,
     "status": "ok",
     "timestamp": 1694534080565,
     "user": {
      "displayName": "Alex Dow",
      "userId": "06741101372127917949"
     },
     "user_tz": 420
    },
    "id": "2e334783-df67-4728-88d6-db28037697d0",
    "outputId": "659d904a-65f0-494e-c130-dc041975a40b"
   },
   "outputs": [
    {
     "name": "stdout",
     "output_type": "stream",
     "text": [
      "Mounted at /content/drive\n",
      "Collecting datasets\n",
      "  Downloading datasets-2.14.5-py3-none-any.whl (519 kB)\n",
      "\u001b[2K     \u001b[90m━━━━━━━━━━━━━━━━━━━━━━━━━━━━━━━━━━━━━━━\u001b[0m \u001b[32m519.6/519.6 kB\u001b[0m \u001b[31m8.3 MB/s\u001b[0m eta \u001b[36m0:00:00\u001b[0m\n",
      "\u001b[?25hRequirement already satisfied: numpy>=1.17 in /usr/local/lib/python3.10/dist-packages (from datasets) (1.23.5)\n",
      "Requirement already satisfied: pyarrow>=8.0.0 in /usr/local/lib/python3.10/dist-packages (from datasets) (9.0.0)\n",
      "Collecting dill<0.3.8,>=0.3.0 (from datasets)\n",
      "  Downloading dill-0.3.7-py3-none-any.whl (115 kB)\n",
      "\u001b[2K     \u001b[90m━━━━━━━━━━━━━━━━━━━━━━━━━━━━━━━━━━━━━━━\u001b[0m \u001b[32m115.3/115.3 kB\u001b[0m \u001b[31m9.0 MB/s\u001b[0m eta \u001b[36m0:00:00\u001b[0m\n",
      "\u001b[?25hRequirement already satisfied: pandas in /usr/local/lib/python3.10/dist-packages (from datasets) (1.5.3)\n",
      "Requirement already satisfied: requests>=2.19.0 in /usr/local/lib/python3.10/dist-packages (from datasets) (2.31.0)\n",
      "Requirement already satisfied: tqdm>=4.62.1 in /usr/local/lib/python3.10/dist-packages (from datasets) (4.66.1)\n",
      "Collecting xxhash (from datasets)\n",
      "  Downloading xxhash-3.3.0-cp310-cp310-manylinux_2_17_x86_64.manylinux2014_x86_64.whl (194 kB)\n",
      "\u001b[2K     \u001b[90m━━━━━━━━━━━━━━━━━━━━━━━━━━━━━━━━━━━━━━\u001b[0m \u001b[32m194.1/194.1 kB\u001b[0m \u001b[31m11.9 MB/s\u001b[0m eta \u001b[36m0:00:00\u001b[0m\n",
      "\u001b[?25hCollecting multiprocess (from datasets)\n",
      "  Downloading multiprocess-0.70.15-py310-none-any.whl (134 kB)\n",
      "\u001b[2K     \u001b[90m━━━━━━━━━━━━━━━━━━━━━━━━━━━━━━━━━━━━━━\u001b[0m \u001b[32m134.8/134.8 kB\u001b[0m \u001b[31m16.0 MB/s\u001b[0m eta \u001b[36m0:00:00\u001b[0m\n",
      "\u001b[?25hRequirement already satisfied: fsspec[http]<2023.9.0,>=2023.1.0 in /usr/local/lib/python3.10/dist-packages (from datasets) (2023.6.0)\n",
      "Requirement already satisfied: aiohttp in /usr/local/lib/python3.10/dist-packages (from datasets) (3.8.5)\n",
      "Collecting huggingface-hub<1.0.0,>=0.14.0 (from datasets)\n",
      "  Downloading huggingface_hub-0.17.1-py3-none-any.whl (294 kB)\n",
      "\u001b[2K     \u001b[90m━━━━━━━━━━━━━━━━━━━━━━━━━━━━━━━━━━━━━━\u001b[0m \u001b[32m294.8/294.8 kB\u001b[0m \u001b[31m14.7 MB/s\u001b[0m eta \u001b[36m0:00:00\u001b[0m\n",
      "\u001b[?25hRequirement already satisfied: packaging in /usr/local/lib/python3.10/dist-packages (from datasets) (23.1)\n",
      "Requirement already satisfied: pyyaml>=5.1 in /usr/local/lib/python3.10/dist-packages (from datasets) (6.0.1)\n",
      "Requirement already satisfied: attrs>=17.3.0 in /usr/local/lib/python3.10/dist-packages (from aiohttp->datasets) (23.1.0)\n",
      "Requirement already satisfied: charset-normalizer<4.0,>=2.0 in /usr/local/lib/python3.10/dist-packages (from aiohttp->datasets) (3.2.0)\n",
      "Requirement already satisfied: multidict<7.0,>=4.5 in /usr/local/lib/python3.10/dist-packages (from aiohttp->datasets) (6.0.4)\n",
      "Requirement already satisfied: async-timeout<5.0,>=4.0.0a3 in /usr/local/lib/python3.10/dist-packages (from aiohttp->datasets) (4.0.3)\n",
      "Requirement already satisfied: yarl<2.0,>=1.0 in /usr/local/lib/python3.10/dist-packages (from aiohttp->datasets) (1.9.2)\n",
      "Requirement already satisfied: frozenlist>=1.1.1 in /usr/local/lib/python3.10/dist-packages (from aiohttp->datasets) (1.4.0)\n",
      "Requirement already satisfied: aiosignal>=1.1.2 in /usr/local/lib/python3.10/dist-packages (from aiohttp->datasets) (1.3.1)\n",
      "Requirement already satisfied: filelock in /usr/local/lib/python3.10/dist-packages (from huggingface-hub<1.0.0,>=0.14.0->datasets) (3.12.2)\n",
      "Requirement already satisfied: typing-extensions>=3.7.4.3 in /usr/local/lib/python3.10/dist-packages (from huggingface-hub<1.0.0,>=0.14.0->datasets) (4.5.0)\n",
      "Requirement already satisfied: idna<4,>=2.5 in /usr/local/lib/python3.10/dist-packages (from requests>=2.19.0->datasets) (3.4)\n",
      "Requirement already satisfied: urllib3<3,>=1.21.1 in /usr/local/lib/python3.10/dist-packages (from requests>=2.19.0->datasets) (2.0.4)\n",
      "Requirement already satisfied: certifi>=2017.4.17 in /usr/local/lib/python3.10/dist-packages (from requests>=2.19.0->datasets) (2023.7.22)\n",
      "Requirement already satisfied: python-dateutil>=2.8.1 in /usr/local/lib/python3.10/dist-packages (from pandas->datasets) (2.8.2)\n",
      "Requirement already satisfied: pytz>=2020.1 in /usr/local/lib/python3.10/dist-packages (from pandas->datasets) (2023.3.post1)\n",
      "Requirement already satisfied: six>=1.5 in /usr/local/lib/python3.10/dist-packages (from python-dateutil>=2.8.1->pandas->datasets) (1.16.0)\n",
      "Installing collected packages: xxhash, dill, multiprocess, huggingface-hub, datasets\n",
      "Successfully installed datasets-2.14.5 dill-0.3.7 huggingface-hub-0.17.1 multiprocess-0.70.15 xxhash-3.3.0\n",
      "Collecting transformers\n",
      "  Downloading transformers-4.33.1-py3-none-any.whl (7.6 MB)\n",
      "\u001b[2K     \u001b[90m━━━━━━━━━━━━━━━━━━━━━━━━━━━━━━━━━━━━━━━━\u001b[0m \u001b[32m7.6/7.6 MB\u001b[0m \u001b[31m27.8 MB/s\u001b[0m eta \u001b[36m0:00:00\u001b[0m\n",
      "\u001b[?25hRequirement already satisfied: filelock in /usr/local/lib/python3.10/dist-packages (from transformers) (3.12.2)\n",
      "Requirement already satisfied: huggingface-hub<1.0,>=0.15.1 in /usr/local/lib/python3.10/dist-packages (from transformers) (0.17.1)\n",
      "Requirement already satisfied: numpy>=1.17 in /usr/local/lib/python3.10/dist-packages (from transformers) (1.23.5)\n",
      "Requirement already satisfied: packaging>=20.0 in /usr/local/lib/python3.10/dist-packages (from transformers) (23.1)\n",
      "Requirement already satisfied: pyyaml>=5.1 in /usr/local/lib/python3.10/dist-packages (from transformers) (6.0.1)\n",
      "Requirement already satisfied: regex!=2019.12.17 in /usr/local/lib/python3.10/dist-packages (from transformers) (2023.6.3)\n",
      "Requirement already satisfied: requests in /usr/local/lib/python3.10/dist-packages (from transformers) (2.31.0)\n",
      "Collecting tokenizers!=0.11.3,<0.14,>=0.11.1 (from transformers)\n",
      "  Downloading tokenizers-0.13.3-cp310-cp310-manylinux_2_17_x86_64.manylinux2014_x86_64.whl (7.8 MB)\n",
      "\u001b[2K     \u001b[90m━━━━━━━━━━━━━━━━━━━━━━━━━━━━━━━━━━━━━━━━\u001b[0m \u001b[32m7.8/7.8 MB\u001b[0m \u001b[31m70.4 MB/s\u001b[0m eta \u001b[36m0:00:00\u001b[0m\n",
      "\u001b[?25hCollecting safetensors>=0.3.1 (from transformers)\n",
      "  Downloading safetensors-0.3.3-cp310-cp310-manylinux_2_17_x86_64.manylinux2014_x86_64.whl (1.3 MB)\n",
      "\u001b[2K     \u001b[90m━━━━━━━━━━━━━━━━━━━━━━━━━━━━━━━━━━━━━━━━\u001b[0m \u001b[32m1.3/1.3 MB\u001b[0m \u001b[31m76.7 MB/s\u001b[0m eta \u001b[36m0:00:00\u001b[0m\n",
      "\u001b[?25hRequirement already satisfied: tqdm>=4.27 in /usr/local/lib/python3.10/dist-packages (from transformers) (4.66.1)\n",
      "Requirement already satisfied: fsspec in /usr/local/lib/python3.10/dist-packages (from huggingface-hub<1.0,>=0.15.1->transformers) (2023.6.0)\n",
      "Requirement already satisfied: typing-extensions>=3.7.4.3 in /usr/local/lib/python3.10/dist-packages (from huggingface-hub<1.0,>=0.15.1->transformers) (4.5.0)\n",
      "Requirement already satisfied: charset-normalizer<4,>=2 in /usr/local/lib/python3.10/dist-packages (from requests->transformers) (3.2.0)\n",
      "Requirement already satisfied: idna<4,>=2.5 in /usr/local/lib/python3.10/dist-packages (from requests->transformers) (3.4)\n",
      "Requirement already satisfied: urllib3<3,>=1.21.1 in /usr/local/lib/python3.10/dist-packages (from requests->transformers) (2.0.4)\n",
      "Requirement already satisfied: certifi>=2017.4.17 in /usr/local/lib/python3.10/dist-packages (from requests->transformers) (2023.7.22)\n",
      "Installing collected packages: tokenizers, safetensors, transformers\n",
      "Successfully installed safetensors-0.3.3 tokenizers-0.13.3 transformers-4.33.1\n"
     ]
    }
   ],
   "source": [
    "try:\n",
    "    import google.colab\n",
    "    IN_COLAB = True\n",
    "except:\n",
    "    IN_COLAB = False\n",
    "\n",
    "if IN_COLAB:\n",
    "    from google.colab import drive\n",
    "    drive.mount('/content/drive')\n",
    "    project_path = \"/content/drive/MyDrive/Projects/code/LearningDeepLearning/nbs\"\n",
    "    !pip install datasets\n",
    "    !pip install transformers\n",
    "else:\n",
    "    project_path = \".\""
   ]
  },
  {
   "cell_type": "markdown",
   "id": "dd7f4135-cb37-4f06-ac22-93d8ac4bf6e4",
   "metadata": {
    "id": "dd7f4135-cb37-4f06-ac22-93d8ac4bf6e4"
   },
   "source": [
    "## Imports"
   ]
  },
  {
   "cell_type": "code",
   "execution_count": 2,
   "id": "1504f41b-63bf-438f-a8d5-e48c56c1c057",
   "metadata": {
    "executionInfo": {
     "elapsed": 6541,
     "status": "ok",
     "timestamp": 1694534086910,
     "user": {
      "displayName": "Alex Dow",
      "userId": "06741101372127917949"
     },
     "user_tz": 420
    },
    "id": "1504f41b-63bf-438f-a8d5-e48c56c1c057"
   },
   "outputs": [],
   "source": [
    "import os\n",
    "from pathlib import Path\n",
    "from collections import defaultdict\n",
    "from psutil import virtual_memory\n",
    "from functools import partial\n",
    "import time\n",
    "import pandas as pd\n",
    "import pickle\n",
    "\n",
    "import torch\n",
    "import torch.nn as nn\n",
    "from torch.nn import functional as F\n",
    "from torch import tensor\n",
    "from torch.utils.data import DataLoader\n",
    "\n",
    "from datasets import Dataset, DatasetDict, load_dataset, load_from_disk\n",
    "from transformers import GPT2Tokenizer"
   ]
  },
  {
   "cell_type": "markdown",
   "id": "1af3da2d",
   "metadata": {
    "id": "1af3da2d"
   },
   "source": [
    "# Data Prep: TinyStories\n",
    "\n",
    "TinyStories is a dataset developed by Ronen Eldan and Yuanzhi Li and described in their paper [\"TinyStories: How Small Can Language Models Be and Still Speak Coherent English?\"](https://arxiv.org/abs/2305.07759). From the paper, TinyStories is \"a synthetic dataset of short stories that only contain words that a typical 3 to 4-year-olds usually understand, generated by GPT-3.5 and GPT-4.\" The paper goes on to show that they can train \"small\" language models (<10 million parameters) that nevertheless \"produce fluent and consistent stories with several paragraphs that are diverse and have almost perfect grammer, and demonstrate reasoning capabilities.\"\n",
    "\n",
    "We're starting with very rudimentary models with much simpler architecture and even fewer parameters, but let's see how good we can make this."
   ]
  },
  {
   "cell_type": "code",
   "execution_count": 3,
   "id": "c77ca12b-475a-4d94-bbc8-eee1a16e11e1",
   "metadata": {
    "executionInfo": {
     "elapsed": 3,
     "status": "ok",
     "timestamp": 1694534086910,
     "user": {
      "displayName": "Alex Dow",
      "userId": "06741101372127917949"
     },
     "user_tz": 420
    },
    "id": "c77ca12b-475a-4d94-bbc8-eee1a16e11e1"
   },
   "outputs": [],
   "source": [
    "token_limit = 192e4 # limiting amount of data used to speed things up, can relax later"
   ]
  },
  {
   "cell_type": "markdown",
   "id": "f10d439c",
   "metadata": {
    "id": "f10d439c"
   },
   "source": [
    "## Load and inspect dataset"
   ]
  },
  {
   "cell_type": "code",
   "execution_count": 344,
   "id": "98a7a693-4a8e-499e-a87d-5679e2cfc1b5",
   "metadata": {
    "executionInfo": {
     "elapsed": 368,
     "status": "ok",
     "timestamp": 1694534087275,
     "user": {
      "displayName": "Alex Dow",
      "userId": "06741101372127917949"
     },
     "user_tz": 420
    },
    "id": "98a7a693-4a8e-499e-a87d-5679e2cfc1b5"
   },
   "outputs": [],
   "source": [
    "project_dir = Path(project_path)\n",
    "data_dir = Path(project_dir/'data')\n",
    "data_dir.mkdir(exist_ok=True)"
   ]
  },
  {
   "cell_type": "code",
   "execution_count": 345,
   "id": "9b28f9b9-a3ea-4afe-aff9-41f59ee3deda",
   "metadata": {
    "executionInfo": {
     "elapsed": 7,
     "status": "ok",
     "timestamp": 1694534087275,
     "user": {
      "displayName": "Alex Dow",
      "userId": "06741101372127917949"
     },
     "user_tz": 420
    },
    "id": "9b28f9b9-a3ea-4afe-aff9-41f59ee3deda"
   },
   "outputs": [],
   "source": [
    "train_fn = \"TinyStoriesV2-GPT4-train.txt\"\n",
    "train_url = \"https://huggingface.co/datasets/roneneldan/TinyStories/resolve/main/TinyStoriesV2-GPT4-train.txt\"\n",
    "test_fn = \"TinyStoriesV2-GPT4-valid.txt\"\n",
    "test_url = \"https://huggingface.co/datasets/roneneldan/TinyStories/resolve/main/TinyStoriesV2-GPT4-valid.txt\""
   ]
  },
  {
   "cell_type": "code",
   "execution_count": 346,
   "id": "24HjamdKf3Lp",
   "metadata": {
    "colab": {
     "base_uri": "https://localhost:8080/"
    },
    "executionInfo": {
     "elapsed": 7,
     "status": "ok",
     "timestamp": 1694534087275,
     "user": {
      "displayName": "Alex Dow",
      "userId": "06741101372127917949"
     },
     "user_tz": 420
    },
    "id": "24HjamdKf3Lp",
    "outputId": "48817fc2-1072-4d9c-d425-ec237af10754"
   },
   "outputs": [
    {
     "data": {
      "text/plain": [
       "PosixPath('data/TinyStoriesV2-GPT4-train.txt')"
      ]
     },
     "execution_count": 346,
     "metadata": {},
     "output_type": "execute_result"
    }
   ],
   "source": [
    "data_dir/train_fn"
   ]
  },
  {
   "cell_type": "code",
   "execution_count": 7,
   "id": "98b2aa11-4ade-45e5-8174-c272cd07de4d",
   "metadata": {
    "executionInfo": {
     "elapsed": 476,
     "status": "ok",
     "timestamp": 1694534087750,
     "user": {
      "displayName": "Alex Dow",
      "userId": "06741101372127917949"
     },
     "user_tz": 420
    },
    "id": "98b2aa11-4ade-45e5-8174-c272cd07de4d"
   },
   "outputs": [],
   "source": [
    "if not os.path.exists(data_dir/train_fn):\n",
    "    os.system(f'wget {train_url} -O {data_dir/train_fn} --progress=dot:mega')\n",
    "if not os.path.exists(data_dir/test_fn):\n",
    "    os.system(f'wget {test_url} -O {data_dir/test_fn} --progress=dot:mega')"
   ]
  },
  {
   "cell_type": "code",
   "execution_count": 8,
   "id": "d7c4d075-3376-46ae-b989-ae3e10fbd110",
   "metadata": {
    "executionInfo": {
     "elapsed": 2,
     "status": "ok",
     "timestamp": 1694534087750,
     "user": {
      "displayName": "Alex Dow",
      "userId": "06741101372127917949"
     },
     "user_tz": 420
    },
    "id": "d7c4d075-3376-46ae-b989-ae3e10fbd110"
   },
   "outputs": [],
   "source": [
    "# note: if last doc doesn't end in endoftext then it is omitted\n",
    "def tinystories_generator(file_path, skip_first=False):\n",
    "    current_doc = \"\"\n",
    "    is_first = True\n",
    "    with open(file_path, \"r\") as f:\n",
    "        for line in f:\n",
    "            if line.startswith(\"<|endoftext|>\"):\n",
    "                if not skip_first or not is_first:\n",
    "                    yield {\"text\": current_doc.strip() + \"<|endoftext|>\"}\n",
    "                is_first = False\n",
    "                current_doc = \"\"\n",
    "            else:\n",
    "                current_doc += line"
   ]
  },
  {
   "cell_type": "code",
   "execution_count": 9,
   "id": "2daf1b40-255e-45de-99a5-e8b572be075a",
   "metadata": {
    "colab": {
     "base_uri": "https://localhost:8080/",
     "height": 81,
     "referenced_widgets": [
      "2be467c180ac41dea84c8371f2e5b715",
      "5d3f8bbeab3d4d0aaf03baedea6b9a93",
      "fdc0f74887c54a0685a3857c25d26c24",
      "360d22be1fc44c8a8a54a24c41df4e1c",
      "60d86fc9ec3c4b5daa17015dfe79e0e9",
      "da0dcd0b2ea84a108b9bbe6bae93e392",
      "69bde1bb40c74add93faaf1a5ade9ce5",
      "7cbcbca973054204a58e340fe4ad83b4",
      "a3f7148bb90b450488e92e58c7f4ea52",
      "3ba01cec556c46b9bb7eaff3461c5adf",
      "f5b0bbb9629642b3b1dd990fa1a81be7",
      "6dc6a8d254044ebcb3717482941b8dba",
      "d4c40208ce24484d980cfc7ee6ecf6ba",
      "b67008a6c6ba4003a52912b8ee9e436d",
      "6a726e6e13bf4167a59c90d0e0ffd3b6",
      "12a247ff0fc247a68565d9a40f46bd32",
      "6a561d79ee40404bb42bdf5a58ab8735",
      "f0661ee032ec4a049059eb6501b9597a",
      "0e80175b6664409ba0f1a9490cc14b05",
      "3a124b2f20884e87bdcdb5f7856e0895",
      "fe0b40e84ae544ebbfc7da86915f0f32",
      "ad7bc6d5e1c9446d972bf45125d1ade6"
     ]
    },
    "executionInfo": {
     "elapsed": 66709,
     "status": "ok",
     "timestamp": 1694534154458,
     "user": {
      "displayName": "Alex Dow",
      "userId": "06741101372127917949"
     },
     "user_tz": 420
    },
    "id": "2daf1b40-255e-45de-99a5-e8b572be075a",
    "outputId": "bb586711-09c9-4f0e-d6fe-51ec917b2947"
   },
   "outputs": [
    {
     "data": {
      "application/vnd.jupyter.widget-view+json": {
       "model_id": "2be467c180ac41dea84c8371f2e5b715",
       "version_major": 2,
       "version_minor": 0
      },
      "text/plain": [
       "Generating train split: 0 examples [00:00, ? examples/s]"
      ]
     },
     "metadata": {},
     "output_type": "display_data"
    },
    {
     "data": {
      "application/vnd.jupyter.widget-view+json": {
       "model_id": "6dc6a8d254044ebcb3717482941b8dba",
       "version_major": 2,
       "version_minor": 0
      },
      "text/plain": [
       "Generating train split: 0 examples [00:00, ? examples/s]"
      ]
     },
     "metadata": {},
     "output_type": "display_data"
    }
   ],
   "source": [
    "train_ds = Dataset.from_generator(partial(tinystories_generator, file_path=data_dir/train_fn))\n",
    "test_ds = Dataset.from_generator(partial(tinystories_generator, file_path=data_dir/test_fn, skip_first=True))\n",
    "\n",
    "ds = DatasetDict({\n",
    "    'train': train_ds,\n",
    "    'test': test_ds\n",
    "})"
   ]
  },
  {
   "cell_type": "code",
   "execution_count": 10,
   "id": "3c1ed443-6dac-4c0f-bbba-906493353b1d",
   "metadata": {
    "colab": {
     "base_uri": "https://localhost:8080/"
    },
    "executionInfo": {
     "elapsed": 36,
     "status": "ok",
     "timestamp": 1694534154459,
     "user": {
      "displayName": "Alex Dow",
      "userId": "06741101372127917949"
     },
     "user_tz": 420
    },
    "id": "3c1ed443-6dac-4c0f-bbba-906493353b1d",
    "outputId": "04ecf6b8-eb39-4844-d2a7-f2a30b009d95"
   },
   "outputs": [
    {
     "data": {
      "text/plain": [
       "DatasetDict({\n",
       "    train: Dataset({\n",
       "        features: ['text'],\n",
       "        num_rows: 2717699\n",
       "    })\n",
       "    test: Dataset({\n",
       "        features: ['text'],\n",
       "        num_rows: 27629\n",
       "    })\n",
       "})"
      ]
     },
     "execution_count": 10,
     "metadata": {},
     "output_type": "execute_result"
    }
   ],
   "source": [
    "ds"
   ]
  },
  {
   "cell_type": "code",
   "execution_count": 11,
   "id": "3d279b44",
   "metadata": {
    "colab": {
     "base_uri": "https://localhost:8080/"
    },
    "executionInfo": {
     "elapsed": 18,
     "status": "ok",
     "timestamp": 1694534154459,
     "user": {
      "displayName": "Alex Dow",
      "userId": "06741101372127917949"
     },
     "user_tz": 420
    },
    "id": "3d279b44",
    "outputId": "f1acf790-f49e-4e93-f3b1-875a6e475847"
   },
   "outputs": [
    {
     "data": {
      "text/plain": [
       "[\"Once upon a time there was a little boy named Ben. Ben loved to explore the world around him. He saw many amazing things, like beautiful vases that were on display in a store. One day, Ben was walking through the store when he came across a very special vase. When Ben saw it he was amazed!  \\nHe said, “Wow, that is a really amazing vase! Can I buy it?” \\nThe shopkeeper smiled and said, “Of course you can. You can take it home and show all your friends how amazing it is!”\\nSo Ben took the vase home and he was so proud of it! He called his friends over and showed them the amazing vase. All his friends thought the vase was beautiful and couldn't believe how lucky Ben was. \\nAnd that's how Ben found an amazing vase in the store!<|endoftext|>\",\n",
       " 'Once upon a time, there was a reliable otter named Ollie. He lived in a river with his family. They all loved to play and swim together.\\nOne day, Ollie\\'s mom said, \"Ollie, hurry and get some fish for dinner!\" Ollie swam fast to catch fish. He saw his friend, the duck. \"Hi, Ollie!\" said the duck. \"Hi, duck!\" said Ollie. \"I need to hurry and catch fish for my family.\"\\nWhile Ollie was catching fish, he found a big shiny stone. He thought, \"This is not a fish, but it is so pretty!\" Ollie took the shiny stone home to show his family. They all looked at the shiny stone and smiled. The shiny stone made everyone happy, and they forgot about the fish for dinner.<|endoftext|>']"
      ]
     },
     "execution_count": 11,
     "metadata": {},
     "output_type": "execute_result"
    }
   ],
   "source": [
    "ds['train'][0:2]['text']"
   ]
  },
  {
   "cell_type": "code",
   "execution_count": 12,
   "id": "af141777",
   "metadata": {
    "colab": {
     "base_uri": "https://localhost:8080/"
    },
    "executionInfo": {
     "elapsed": 351,
     "status": "ok",
     "timestamp": 1694534154796,
     "user": {
      "displayName": "Alex Dow",
      "userId": "06741101372127917949"
     },
     "user_tz": 420
    },
    "id": "af141777",
    "outputId": "f186d95b-0334-4d9e-bab5-4b591c3d6304"
   },
   "outputs": [
    {
     "data": {
      "text/plain": [
       "{'text': ['Once upon a time, in a warm and sunny place, there was a big pit. A little boy named Tom liked to play near the pit. One day, Tom lost his red ball. He was very sad.\\nTom asked his friend, Sam, to help him search for the ball. They looked high and low, but they could not find the ball. Tom said, \"I think my ball fell into the pit.\"\\nSam and Tom went close to the pit. They were scared, but they wanted to find the red ball. They looked into the pit, but it was too dark to see. Tom said, \"We must go in and search for my ball.\"\\nThey went into the pit to search. It was dark and scary. They could not find the ball. They tried to get out, but the pit was too deep. Tom and Sam were stuck in the pit. They called for help, but no one could hear them. They were sad and scared, and they never got out of the pit.<|endoftext|>',\n",
       "  'Tom and Lily were playing with their toys in the living room. They liked to build towers and bridges with their blocks and cars. Tom was very proud of his tall tower. He wanted to make it even taller, so he reached for more blocks.\\n\"Tom, can I have some blocks too?\" Lily asked. She wanted to make a bridge for her cars.\\n\"No, these are mine. Go find your own,\" Tom said. He did not want to share with his sister. He pulled the blocks closer to him.\\nLily felt sad and angry. She did not think Tom was being nice. She looked at his tower and had an idea. She decided to pull one of the blocks at the bottom of the tower.\\nSuddenly, the tower fell down with a loud crash. All the blocks and cars scattered on the floor. Tom and Lily were shocked. They felt the floor shake and heard a rumble. It was an earthquake!\\n\"Mommy! Daddy!\" they cried. They were scared and ran to their parents, who were in the kitchen.\\n\"Are you okay, kids?\" Mommy asked. She hugged them and checked if they were hurt.\\n\"We\\'re okay, Mommy. But our toys are broken,\" Lily said.\\n\"I\\'m sorry, Lily. But toys are not important. You are important. We are safe and together. That\\'s what matters,\" Mommy said.\\nTom felt sorry for what he did. He realized he was selfish and mean to his sister. He saw how scared she was during the earthquake. He wanted to make her happy.\\n\"Lily, I\\'m sorry I did not share with you. You can have all the blocks you want. I love you, sister,\" Tom said.\\nLily smiled and hugged him. She forgave him and thanked him. She loved him too.\\nThey went back to the living room and cleaned up their toys. They decided to build something together. They made a big house with a garden and a fence. They put their cars and dolls inside. They were happy and proud of their work.\\nMommy and Daddy came to see their house. They praised them and gave them a treat. It was a lemon cake. It was sour, but they liked it. They learned that sharing is caring, and that family is sweet.<|endoftext|>']}"
      ]
     },
     "execution_count": 12,
     "metadata": {},
     "output_type": "execute_result"
    }
   ],
   "source": [
    "ds['test'][0:2]"
   ]
  },
  {
   "cell_type": "markdown",
   "id": "431865c3",
   "metadata": {
    "id": "431865c3",
    "jp-MarkdownHeadingCollapsed": true
   },
   "source": [
    "## Tokenize and inspect tokens"
   ]
  },
  {
   "cell_type": "code",
   "execution_count": 13,
   "id": "851721a1",
   "metadata": {
    "colab": {
     "base_uri": "https://localhost:8080/",
     "height": 177,
     "referenced_widgets": [
      "a380e30f9f7f4997a84e22ad8de3dcb7",
      "cc11805c6b9b4a548dedcc4d96c2a23f",
      "4375987be9384451a66910b16726bc5f",
      "aded652451844d9ba0483a8481b288cc",
      "07727398e3a54d9194802b256eba51d4",
      "6103a66095c14f718bd64a5ae9f6f902",
      "4f3aba312bfc4c4bb53f63089025e57e",
      "79832ffcbadf4f2d8672ccb0c61454d2",
      "83d1a660ed004b4aaad7b5c32b3855f7",
      "1f16c91721024104ba77437c29128371",
      "e48da240437a485e9ed42afc90ef1a6f",
      "1665fede7373400a8afaae4f664cc9e7",
      "1baf6bd75d2341b8aa00344d622c4007",
      "4750fde4a3bf45dfb28ae71d37c31689",
      "2d659766e6c84e1abf2b6a613da46243",
      "564c2567badf4ce7b628880eb22b366e",
      "50eaa9f0ff4148c0a81195e5108a191f",
      "186e56b96b9745d6a48fe9596a64e383",
      "b4122330c6c545ba83c913bde50ce418",
      "043fc46ce2b343dfaf525526dabcc806",
      "f1de52e5ac4345f19e159853265ecd86",
      "71a929da757844a1964e7de55447c8c6",
      "304d3df9ac674039a7e09852b1748453",
      "24bc9edfc8114ccdb1f4a3a9e152b5f2",
      "8abdfd425a7f43d8aa49b8f3b4573a40",
      "7837b2c05c4043febe5990b9423fcc6e",
      "4c730edf6c7445d08f97c41d1bcbebd8",
      "fa4fcd79427f4eea8d58c8cd7e64045b",
      "a21eae30729b4e84a7d15447ac256c7d",
      "e649a26d05184ca7a336d8dc13ac47fb",
      "ac4bdd8fcd794f57b1f3a4f7f60cc872",
      "4c7e53c56f304ef59a704cfdf898f570",
      "5bc384bda83e4a738d4ba081248be90b",
      "ee23e3248803464bac4f3b296c75f750",
      "835976c99663435fbded19cfcead0008",
      "641f1ce867314d9bbb82b00faee1d067",
      "ba5be020cd5b42529d3aaf21669105cb",
      "3a56e46d6a2f4e8da8fb4a3ae38fb177",
      "a1cc5acf134541ffa3cffb3ac95704dc",
      "c2d947cd71554e8a812eb04a665bf29c",
      "396e5ac49f194ce1925cce0870c356d0",
      "750f1d0d0e6c47da8314cebbb80f2204",
      "fb89563f211b494aabddaadaa1c08823",
      "ad861c226c92402eb9f45407cbbfa865",
      "0f448af6fafd4a6aa99d070b964d3c1d",
      "415ecd6c4d2148ce913607d70a2f3ad6",
      "4c42e49a85974413a8653d6b99b4c889",
      "a6b18678e7014bfbbffc40451a48b947",
      "0c2fc45c87bd49ce97bf7b09c482dc38",
      "862927a8b9d14544bd27fded529b6f30",
      "b6cd83681bf74639a5d40f6ae151aa36",
      "0ffad6680f7a4c57adc0c082f187d26b",
      "6cd5223c2e4e47e8ad0377cdb3323a82",
      "4c21857c0f734a3da00c62e0689f2c25",
      "d2284797c2e14f129bdefd38290f4616"
     ]
    },
    "executionInfo": {
     "elapsed": 2006,
     "status": "ok",
     "timestamp": 1694534156798,
     "user": {
      "displayName": "Alex Dow",
      "userId": "06741101372127917949"
     },
     "user_tz": 420
    },
    "id": "851721a1",
    "outputId": "f1df0064-a9d8-41c1-adc8-5e754fb0d7e9"
   },
   "outputs": [
    {
     "data": {
      "application/vnd.jupyter.widget-view+json": {
       "model_id": "a380e30f9f7f4997a84e22ad8de3dcb7",
       "version_major": 2,
       "version_minor": 0
      },
      "text/plain": [
       "Downloading (…)olve/main/vocab.json:   0%|          | 0.00/798k [00:00<?, ?B/s]"
      ]
     },
     "metadata": {},
     "output_type": "display_data"
    },
    {
     "data": {
      "application/vnd.jupyter.widget-view+json": {
       "model_id": "1665fede7373400a8afaae4f664cc9e7",
       "version_major": 2,
       "version_minor": 0
      },
      "text/plain": [
       "Downloading (…)olve/main/merges.txt:   0%|          | 0.00/456k [00:00<?, ?B/s]"
      ]
     },
     "metadata": {},
     "output_type": "display_data"
    },
    {
     "data": {
      "application/vnd.jupyter.widget-view+json": {
       "model_id": "304d3df9ac674039a7e09852b1748453",
       "version_major": 2,
       "version_minor": 0
      },
      "text/plain": [
       "Downloading (…)cial_tokens_map.json:   0%|          | 0.00/90.0 [00:00<?, ?B/s]"
      ]
     },
     "metadata": {},
     "output_type": "display_data"
    },
    {
     "data": {
      "application/vnd.jupyter.widget-view+json": {
       "model_id": "ee23e3248803464bac4f3b296c75f750",
       "version_major": 2,
       "version_minor": 0
      },
      "text/plain": [
       "Downloading (…)okenizer_config.json:   0%|          | 0.00/200 [00:00<?, ?B/s]"
      ]
     },
     "metadata": {},
     "output_type": "display_data"
    },
    {
     "data": {
      "application/vnd.jupyter.widget-view+json": {
       "model_id": "0f448af6fafd4a6aa99d070b964d3c1d",
       "version_major": 2,
       "version_minor": 0
      },
      "text/plain": [
       "Downloading (…)lve/main/config.json:   0%|          | 0.00/1.35k [00:00<?, ?B/s]"
      ]
     },
     "metadata": {},
     "output_type": "display_data"
    }
   ],
   "source": [
    "# Load the pretrained GPT-Neo tokenizer as is used in the TinyStories paper\n",
    "tokenizer = GPT2Tokenizer.from_pretrained(\"EleutherAI/gpt-neo-1.3B\")"
   ]
  },
  {
   "cell_type": "code",
   "execution_count": 14,
   "id": "8ec44f7a",
   "metadata": {
    "colab": {
     "base_uri": "https://localhost:8080/"
    },
    "executionInfo": {
     "elapsed": 6,
     "status": "ok",
     "timestamp": 1694534156798,
     "user": {
      "displayName": "Alex Dow",
      "userId": "06741101372127917949"
     },
     "user_tz": 420
    },
    "id": "8ec44f7a",
    "outputId": "ea641a0e-75d9-4fac-f973-d9b1ed83e93c"
   },
   "outputs": [
    {
     "data": {
      "text/plain": [
       "50257"
      ]
     },
     "execution_count": 14,
     "metadata": {},
     "output_type": "execute_result"
    }
   ],
   "source": [
    "tokenizer.vocab_size"
   ]
  },
  {
   "cell_type": "code",
   "execution_count": 15,
   "id": "6a5765ae-42f1-484b-a90b-068305ecc848",
   "metadata": {
    "executionInfo": {
     "elapsed": 40617,
     "status": "ok",
     "timestamp": 1694534197410,
     "user": {
      "displayName": "Alex Dow",
      "userId": "06741101372127917949"
     },
     "user_tz": 420
    },
    "id": "6a5765ae-42f1-484b-a90b-068305ecc848"
   },
   "outputs": [],
   "source": [
    "tds_filename = 'tinystories_tokenized_gpt-neo-1.3B'\n",
    "if os.path.exists(data_dir/tds_filename):\n",
    "    tds = load_from_disk(data_dir/tds_filename)\n",
    "else:\n",
    "    tds = ds.map(lambda e: tokenizer(e['text']), batched=True, remove_columns=\"text\")\n",
    "    tds.save_to_disk(data_dir/tds_filename)"
   ]
  },
  {
   "cell_type": "code",
   "execution_count": 16,
   "id": "632df647",
   "metadata": {
    "colab": {
     "base_uri": "https://localhost:8080/"
    },
    "executionInfo": {
     "elapsed": 4,
     "status": "ok",
     "timestamp": 1694534197410,
     "user": {
      "displayName": "Alex Dow",
      "userId": "06741101372127917949"
     },
     "user_tz": 420
    },
    "id": "632df647",
    "outputId": "f7fa1710-96ab-4944-d07f-74de49347535"
   },
   "outputs": [
    {
     "data": {
      "text/plain": [
       "DatasetDict({\n",
       "    train: Dataset({\n",
       "        features: ['input_ids', 'attention_mask'],\n",
       "        num_rows: 2717699\n",
       "    })\n",
       "    test: Dataset({\n",
       "        features: ['input_ids', 'attention_mask'],\n",
       "        num_rows: 27629\n",
       "    })\n",
       "})"
      ]
     },
     "execution_count": 16,
     "metadata": {},
     "output_type": "execute_result"
    }
   ],
   "source": [
    "tds"
   ]
  },
  {
   "cell_type": "code",
   "execution_count": 17,
   "id": "bfc342b4",
   "metadata": {
    "colab": {
     "base_uri": "https://localhost:8080/",
     "height": 424
    },
    "executionInfo": {
     "elapsed": 437,
     "status": "ok",
     "timestamp": 1694534197845,
     "user": {
      "displayName": "Alex Dow",
      "userId": "06741101372127917949"
     },
     "user_tz": 420
    },
    "id": "bfc342b4",
    "outputId": "a4e443b3-3698-418a-9d78-bb150b0a1fa1"
   },
   "outputs": [
    {
     "data": {
      "text/html": [
       "\n",
       "  <div id=\"df-6cb5cfcb-0341-40c7-aca4-5da76f6f6a47\" class=\"colab-df-container\">\n",
       "    <div>\n",
       "<style scoped>\n",
       "    .dataframe tbody tr th:only-of-type {\n",
       "        vertical-align: middle;\n",
       "    }\n",
       "\n",
       "    .dataframe tbody tr th {\n",
       "        vertical-align: top;\n",
       "    }\n",
       "\n",
       "    .dataframe thead th {\n",
       "        text-align: right;\n",
       "    }\n",
       "</style>\n",
       "<table border=\"1\" class=\"dataframe\">\n",
       "  <thead>\n",
       "    <tr style=\"text-align: right;\">\n",
       "      <th></th>\n",
       "      <th>token</th>\n",
       "      <th>freq</th>\n",
       "      <th>token_str</th>\n",
       "      <th>cdf</th>\n",
       "    </tr>\n",
       "  </thead>\n",
       "  <tbody>\n",
       "    <tr>\n",
       "      <th>0</th>\n",
       "      <td>13</td>\n",
       "      <td>41825583</td>\n",
       "      <td>.</td>\n",
       "      <td>0.077245</td>\n",
       "    </tr>\n",
       "    <tr>\n",
       "      <th>1</th>\n",
       "      <td>11</td>\n",
       "      <td>23298942</td>\n",
       "      <td>,</td>\n",
       "      <td>0.120274</td>\n",
       "    </tr>\n",
       "    <tr>\n",
       "      <th>2</th>\n",
       "      <td>262</td>\n",
       "      <td>20828658</td>\n",
       "      <td>the</td>\n",
       "      <td>0.158741</td>\n",
       "    </tr>\n",
       "    <tr>\n",
       "      <th>3</th>\n",
       "      <td>290</td>\n",
       "      <td>19476061</td>\n",
       "      <td>and</td>\n",
       "      <td>0.194709</td>\n",
       "    </tr>\n",
       "    <tr>\n",
       "      <th>4</th>\n",
       "      <td>257</td>\n",
       "      <td>15074432</td>\n",
       "      <td>a</td>\n",
       "      <td>0.222549</td>\n",
       "    </tr>\n",
       "    <tr>\n",
       "      <th>...</th>\n",
       "      <td>...</td>\n",
       "      <td>...</td>\n",
       "      <td>...</td>\n",
       "      <td>...</td>\n",
       "    </tr>\n",
       "    <tr>\n",
       "      <th>27989</th>\n",
       "      <td>35172</td>\n",
       "      <td>1</td>\n",
       "      <td>Elves</td>\n",
       "      <td>1.000000</td>\n",
       "    </tr>\n",
       "    <tr>\n",
       "      <th>27990</th>\n",
       "      <td>16976</td>\n",
       "      <td>1</td>\n",
       "      <td>specialized</td>\n",
       "      <td>1.000000</td>\n",
       "    </tr>\n",
       "    <tr>\n",
       "      <th>27991</th>\n",
       "      <td>21942</td>\n",
       "      <td>1</td>\n",
       "      <td>injustice</td>\n",
       "      <td>1.000000</td>\n",
       "    </tr>\n",
       "    <tr>\n",
       "      <th>27992</th>\n",
       "      <td>38868</td>\n",
       "      <td>1</td>\n",
       "      <td>adier</td>\n",
       "      <td>1.000000</td>\n",
       "    </tr>\n",
       "    <tr>\n",
       "      <th>27993</th>\n",
       "      <td>45761</td>\n",
       "      <td>1</td>\n",
       "      <td>YING</td>\n",
       "      <td>1.000000</td>\n",
       "    </tr>\n",
       "  </tbody>\n",
       "</table>\n",
       "<p>27994 rows × 4 columns</p>\n",
       "</div>\n",
       "    <div class=\"colab-df-buttons\">\n",
       "\n",
       "  <div class=\"colab-df-container\">\n",
       "    <button class=\"colab-df-convert\" onclick=\"convertToInteractive('df-6cb5cfcb-0341-40c7-aca4-5da76f6f6a47')\"\n",
       "            title=\"Convert this dataframe to an interactive table.\"\n",
       "            style=\"display:none;\">\n",
       "\n",
       "  <svg xmlns=\"http://www.w3.org/2000/svg\" height=\"24px\" viewBox=\"0 -960 960 960\">\n",
       "    <path d=\"M120-120v-720h720v720H120Zm60-500h600v-160H180v160Zm220 220h160v-160H400v160Zm0 220h160v-160H400v160ZM180-400h160v-160H180v160Zm440 0h160v-160H620v160ZM180-180h160v-160H180v160Zm440 0h160v-160H620v160Z\"/>\n",
       "  </svg>\n",
       "    </button>\n",
       "\n",
       "  <style>\n",
       "    .colab-df-container {\n",
       "      display:flex;\n",
       "      gap: 12px;\n",
       "    }\n",
       "\n",
       "    .colab-df-convert {\n",
       "      background-color: #E8F0FE;\n",
       "      border: none;\n",
       "      border-radius: 50%;\n",
       "      cursor: pointer;\n",
       "      display: none;\n",
       "      fill: #1967D2;\n",
       "      height: 32px;\n",
       "      padding: 0 0 0 0;\n",
       "      width: 32px;\n",
       "    }\n",
       "\n",
       "    .colab-df-convert:hover {\n",
       "      background-color: #E2EBFA;\n",
       "      box-shadow: 0px 1px 2px rgba(60, 64, 67, 0.3), 0px 1px 3px 1px rgba(60, 64, 67, 0.15);\n",
       "      fill: #174EA6;\n",
       "    }\n",
       "\n",
       "    .colab-df-buttons div {\n",
       "      margin-bottom: 4px;\n",
       "    }\n",
       "\n",
       "    [theme=dark] .colab-df-convert {\n",
       "      background-color: #3B4455;\n",
       "      fill: #D2E3FC;\n",
       "    }\n",
       "\n",
       "    [theme=dark] .colab-df-convert:hover {\n",
       "      background-color: #434B5C;\n",
       "      box-shadow: 0px 1px 3px 1px rgba(0, 0, 0, 0.15);\n",
       "      filter: drop-shadow(0px 1px 2px rgba(0, 0, 0, 0.3));\n",
       "      fill: #FFFFFF;\n",
       "    }\n",
       "  </style>\n",
       "\n",
       "    <script>\n",
       "      const buttonEl =\n",
       "        document.querySelector('#df-6cb5cfcb-0341-40c7-aca4-5da76f6f6a47 button.colab-df-convert');\n",
       "      buttonEl.style.display =\n",
       "        google.colab.kernel.accessAllowed ? 'block' : 'none';\n",
       "\n",
       "      async function convertToInteractive(key) {\n",
       "        const element = document.querySelector('#df-6cb5cfcb-0341-40c7-aca4-5da76f6f6a47');\n",
       "        const dataTable =\n",
       "          await google.colab.kernel.invokeFunction('convertToInteractive',\n",
       "                                                    [key], {});\n",
       "        if (!dataTable) return;\n",
       "\n",
       "        const docLinkHtml = 'Like what you see? Visit the ' +\n",
       "          '<a target=\"_blank\" href=https://colab.research.google.com/notebooks/data_table.ipynb>data table notebook</a>'\n",
       "          + ' to learn more about interactive tables.';\n",
       "        element.innerHTML = '';\n",
       "        dataTable['output_type'] = 'display_data';\n",
       "        await google.colab.output.renderOutput(dataTable, element);\n",
       "        const docLink = document.createElement('div');\n",
       "        docLink.innerHTML = docLinkHtml;\n",
       "        element.appendChild(docLink);\n",
       "      }\n",
       "    </script>\n",
       "  </div>\n",
       "\n",
       "\n",
       "<div id=\"df-ae945d26-32d0-47e9-993b-1d39733817be\">\n",
       "  <button class=\"colab-df-quickchart\" onclick=\"quickchart('df-ae945d26-32d0-47e9-993b-1d39733817be')\"\n",
       "            title=\"Suggest charts.\"\n",
       "            style=\"display:none;\">\n",
       "\n",
       "<svg xmlns=\"http://www.w3.org/2000/svg\" height=\"24px\"viewBox=\"0 0 24 24\"\n",
       "     width=\"24px\">\n",
       "    <g>\n",
       "        <path d=\"M19 3H5c-1.1 0-2 .9-2 2v14c0 1.1.9 2 2 2h14c1.1 0 2-.9 2-2V5c0-1.1-.9-2-2-2zM9 17H7v-7h2v7zm4 0h-2V7h2v10zm4 0h-2v-4h2v4z\"/>\n",
       "    </g>\n",
       "</svg>\n",
       "  </button>\n",
       "\n",
       "<style>\n",
       "  .colab-df-quickchart {\n",
       "      --bg-color: #E8F0FE;\n",
       "      --fill-color: #1967D2;\n",
       "      --hover-bg-color: #E2EBFA;\n",
       "      --hover-fill-color: #174EA6;\n",
       "      --disabled-fill-color: #AAA;\n",
       "      --disabled-bg-color: #DDD;\n",
       "  }\n",
       "\n",
       "  [theme=dark] .colab-df-quickchart {\n",
       "      --bg-color: #3B4455;\n",
       "      --fill-color: #D2E3FC;\n",
       "      --hover-bg-color: #434B5C;\n",
       "      --hover-fill-color: #FFFFFF;\n",
       "      --disabled-bg-color: #3B4455;\n",
       "      --disabled-fill-color: #666;\n",
       "  }\n",
       "\n",
       "  .colab-df-quickchart {\n",
       "    background-color: var(--bg-color);\n",
       "    border: none;\n",
       "    border-radius: 50%;\n",
       "    cursor: pointer;\n",
       "    display: none;\n",
       "    fill: var(--fill-color);\n",
       "    height: 32px;\n",
       "    padding: 0;\n",
       "    width: 32px;\n",
       "  }\n",
       "\n",
       "  .colab-df-quickchart:hover {\n",
       "    background-color: var(--hover-bg-color);\n",
       "    box-shadow: 0 1px 2px rgba(60, 64, 67, 0.3), 0 1px 3px 1px rgba(60, 64, 67, 0.15);\n",
       "    fill: var(--button-hover-fill-color);\n",
       "  }\n",
       "\n",
       "  .colab-df-quickchart-complete:disabled,\n",
       "  .colab-df-quickchart-complete:disabled:hover {\n",
       "    background-color: var(--disabled-bg-color);\n",
       "    fill: var(--disabled-fill-color);\n",
       "    box-shadow: none;\n",
       "  }\n",
       "\n",
       "  .colab-df-spinner {\n",
       "    border: 2px solid var(--fill-color);\n",
       "    border-color: transparent;\n",
       "    border-bottom-color: var(--fill-color);\n",
       "    animation:\n",
       "      spin 1s steps(1) infinite;\n",
       "  }\n",
       "\n",
       "  @keyframes spin {\n",
       "    0% {\n",
       "      border-color: transparent;\n",
       "      border-bottom-color: var(--fill-color);\n",
       "      border-left-color: var(--fill-color);\n",
       "    }\n",
       "    20% {\n",
       "      border-color: transparent;\n",
       "      border-left-color: var(--fill-color);\n",
       "      border-top-color: var(--fill-color);\n",
       "    }\n",
       "    30% {\n",
       "      border-color: transparent;\n",
       "      border-left-color: var(--fill-color);\n",
       "      border-top-color: var(--fill-color);\n",
       "      border-right-color: var(--fill-color);\n",
       "    }\n",
       "    40% {\n",
       "      border-color: transparent;\n",
       "      border-right-color: var(--fill-color);\n",
       "      border-top-color: var(--fill-color);\n",
       "    }\n",
       "    60% {\n",
       "      border-color: transparent;\n",
       "      border-right-color: var(--fill-color);\n",
       "    }\n",
       "    80% {\n",
       "      border-color: transparent;\n",
       "      border-right-color: var(--fill-color);\n",
       "      border-bottom-color: var(--fill-color);\n",
       "    }\n",
       "    90% {\n",
       "      border-color: transparent;\n",
       "      border-bottom-color: var(--fill-color);\n",
       "    }\n",
       "  }\n",
       "</style>\n",
       "\n",
       "  <script>\n",
       "    async function quickchart(key) {\n",
       "      const quickchartButtonEl =\n",
       "        document.querySelector('#' + key + ' button');\n",
       "      quickchartButtonEl.disabled = true;  // To prevent multiple clicks.\n",
       "      quickchartButtonEl.classList.add('colab-df-spinner');\n",
       "      try {\n",
       "        const charts = await google.colab.kernel.invokeFunction(\n",
       "            'suggestCharts', [key], {});\n",
       "      } catch (error) {\n",
       "        console.error('Error during call to suggestCharts:', error);\n",
       "      }\n",
       "      quickchartButtonEl.classList.remove('colab-df-spinner');\n",
       "      quickchartButtonEl.classList.add('colab-df-quickchart-complete');\n",
       "    }\n",
       "    (() => {\n",
       "      let quickchartButtonEl =\n",
       "        document.querySelector('#df-ae945d26-32d0-47e9-993b-1d39733817be button');\n",
       "      quickchartButtonEl.style.display =\n",
       "        google.colab.kernel.accessAllowed ? 'block' : 'none';\n",
       "    })();\n",
       "  </script>\n",
       "</div>\n",
       "\n",
       "  <div id=\"id_e3a220bc-4bb9-420c-8b09-2bc87586a5b1\">\n",
       "    <style>\n",
       "      .colab-df-generate {\n",
       "        background-color: #E8F0FE;\n",
       "        border: none;\n",
       "        border-radius: 50%;\n",
       "        cursor: pointer;\n",
       "        display: none;\n",
       "        fill: #1967D2;\n",
       "        height: 32px;\n",
       "        padding: 0 0 0 0;\n",
       "        width: 32px;\n",
       "      }\n",
       "\n",
       "      .colab-df-generate:hover {\n",
       "        background-color: #E2EBFA;\n",
       "        box-shadow: 0px 1px 2px rgba(60, 64, 67, 0.3), 0px 1px 3px 1px rgba(60, 64, 67, 0.15);\n",
       "        fill: #174EA6;\n",
       "      }\n",
       "\n",
       "      [theme=dark] .colab-df-generate {\n",
       "        background-color: #3B4455;\n",
       "        fill: #D2E3FC;\n",
       "      }\n",
       "\n",
       "      [theme=dark] .colab-df-generate:hover {\n",
       "        background-color: #434B5C;\n",
       "        box-shadow: 0px 1px 3px 1px rgba(0, 0, 0, 0.15);\n",
       "        filter: drop-shadow(0px 1px 2px rgba(0, 0, 0, 0.3));\n",
       "        fill: #FFFFFF;\n",
       "      }\n",
       "    </style>\n",
       "    <button class=\"colab-df-generate\" onclick=\"generateWithVariable('tf')\"\n",
       "            title=\"Generate code using this dataframe.\"\n",
       "            style=\"display:none;\">\n",
       "\n",
       "  <svg xmlns=\"http://www.w3.org/2000/svg\" height=\"24px\"viewBox=\"0 0 24 24\"\n",
       "       width=\"24px\">\n",
       "    <path d=\"M7,19H8.4L18.45,9,17,7.55,7,17.6ZM5,21V16.75L18.45,3.32a2,2,0,0,1,2.83,0l1.4,1.43a1.91,1.91,0,0,1,.58,1.4,1.91,1.91,0,0,1-.58,1.4L9.25,21ZM18.45,9,17,7.55Zm-12,3A5.31,5.31,0,0,0,4.9,8.1,5.31,5.31,0,0,0,1,6.5,5.31,5.31,0,0,0,4.9,4.9,5.31,5.31,0,0,0,6.5,1,5.31,5.31,0,0,0,8.1,4.9,5.31,5.31,0,0,0,12,6.5,5.46,5.46,0,0,0,6.5,12Z\"/>\n",
       "  </svg>\n",
       "    </button>\n",
       "    <script>\n",
       "      (() => {\n",
       "      const buttonEl =\n",
       "        document.querySelector('#id_e3a220bc-4bb9-420c-8b09-2bc87586a5b1 button.colab-df-generate');\n",
       "      buttonEl.style.display =\n",
       "        google.colab.kernel.accessAllowed ? 'block' : 'none';\n",
       "\n",
       "      buttonEl.onclick = () => {\n",
       "        google.colab.notebook.generateWithVariable('tf');\n",
       "      }\n",
       "      })();\n",
       "    </script>\n",
       "  </div>\n",
       "\n",
       "    </div>\n",
       "  </div>\n"
      ],
      "text/plain": [
       "       token      freq     token_str       cdf\n",
       "0         13  41825583             .  0.077245\n",
       "1         11  23298942             ,  0.120274\n",
       "2        262  20828658           the  0.158741\n",
       "3        290  19476061           and  0.194709\n",
       "4        257  15074432             a  0.222549\n",
       "...      ...       ...           ...       ...\n",
       "27989  35172         1         Elves  1.000000\n",
       "27990  16976         1   specialized  1.000000\n",
       "27991  21942         1     injustice  1.000000\n",
       "27992  38868         1         adier  1.000000\n",
       "27993  45761         1          YING  1.000000\n",
       "\n",
       "[27994 rows x 4 columns]"
      ]
     },
     "execution_count": 17,
     "metadata": {},
     "output_type": "execute_result"
    }
   ],
   "source": [
    "tf_fn = 'tokenfreq_tinystories_tokenized_gpt-neo-1.3B.pkl'\n",
    "if os.path.exists(data_dir/tf_fn):\n",
    "    tf = pd.read_pickle(data_dir/tf_fn)\n",
    "else:\n",
    "    # Initialize a defaultdict to keep track of the frequency of each token\n",
    "    token_freq = defaultdict(int)\n",
    "    # Define a function to update the token frequencies\n",
    "    def update_freqs(batch):\n",
    "        for token_list in batch['input_ids']:\n",
    "            for token_id in token_list:\n",
    "                token_freq[token_id] += 1\n",
    "        return {}\n",
    "    # Apply the function to the dataset\n",
    "    tds['train'].map(update_freqs, batched=True, batch_size=10000)\n",
    "    # Put it in a dataframe and compute cdf\n",
    "    tf = pd.DataFrame(dict(token_freq).items(), columns=('token', 'freq'))\n",
    "    tf['token'] = tf['token'].astype('category')\n",
    "    tf['token_str'] = tf['token'].apply(tokenizer.decode)\n",
    "    tf.sort_values('freq', ascending=False, inplace=True)\n",
    "    tf.reset_index(inplace=True, drop=True)\n",
    "    tf['cdf'] = tf['freq'].cumsum() / tf['freq'].sum()\n",
    "    # Save to disk\n",
    "    tf.to_pickle(data_dir/tf_fn)\n",
    "tf"
   ]
  },
  {
   "cell_type": "code",
   "execution_count": 18,
   "id": "8aa6ac14",
   "metadata": {
    "colab": {
     "base_uri": "https://localhost:8080/"
    },
    "executionInfo": {
     "elapsed": 12,
     "status": "ok",
     "timestamp": 1694534197845,
     "user": {
      "displayName": "Alex Dow",
      "userId": "06741101372127917949"
     },
     "user_tz": 420
    },
    "id": "8aa6ac14",
    "outputId": "6b81df51-a624-4fd9-d006-6a237e388917"
   },
   "outputs": [
    {
     "data": {
      "text/plain": [
       "(27994, 50257)"
      ]
     },
     "execution_count": 18,
     "metadata": {},
     "output_type": "execute_result"
    }
   ],
   "source": [
    "# 28k tokens in the training set vs. 50k in the tokenizer vocab\n",
    "len(tf), tokenizer.vocab_size"
   ]
  },
  {
   "cell_type": "code",
   "execution_count": 19,
   "id": "f19d7f01",
   "metadata": {
    "colab": {
     "base_uri": "https://localhost:8080/",
     "height": 363
    },
    "executionInfo": {
     "elapsed": 9,
     "status": "ok",
     "timestamp": 1694534197846,
     "user": {
      "displayName": "Alex Dow",
      "userId": "06741101372127917949"
     },
     "user_tz": 420
    },
    "id": "f19d7f01",
    "outputId": "7370a445-fb29-4673-ae77-58d684caf48d"
   },
   "outputs": [
    {
     "data": {
      "text/html": [
       "\n",
       "  <div id=\"df-7f24d3ca-0f67-49e9-ab68-46071c655f1d\" class=\"colab-df-container\">\n",
       "    <div>\n",
       "<style scoped>\n",
       "    .dataframe tbody tr th:only-of-type {\n",
       "        vertical-align: middle;\n",
       "    }\n",
       "\n",
       "    .dataframe tbody tr th {\n",
       "        vertical-align: top;\n",
       "    }\n",
       "\n",
       "    .dataframe thead th {\n",
       "        text-align: right;\n",
       "    }\n",
       "</style>\n",
       "<table border=\"1\" class=\"dataframe\">\n",
       "  <thead>\n",
       "    <tr style=\"text-align: right;\">\n",
       "      <th></th>\n",
       "      <th>token</th>\n",
       "      <th>freq</th>\n",
       "      <th>token_str</th>\n",
       "      <th>cdf</th>\n",
       "    </tr>\n",
       "  </thead>\n",
       "  <tbody>\n",
       "    <tr>\n",
       "      <th>0</th>\n",
       "      <td>13</td>\n",
       "      <td>41825583</td>\n",
       "      <td>.</td>\n",
       "      <td>0.077245</td>\n",
       "    </tr>\n",
       "    <tr>\n",
       "      <th>1</th>\n",
       "      <td>11</td>\n",
       "      <td>23298942</td>\n",
       "      <td>,</td>\n",
       "      <td>0.120274</td>\n",
       "    </tr>\n",
       "    <tr>\n",
       "      <th>2</th>\n",
       "      <td>262</td>\n",
       "      <td>20828658</td>\n",
       "      <td>the</td>\n",
       "      <td>0.158741</td>\n",
       "    </tr>\n",
       "    <tr>\n",
       "      <th>3</th>\n",
       "      <td>290</td>\n",
       "      <td>19476061</td>\n",
       "      <td>and</td>\n",
       "      <td>0.194709</td>\n",
       "    </tr>\n",
       "    <tr>\n",
       "      <th>4</th>\n",
       "      <td>257</td>\n",
       "      <td>15074432</td>\n",
       "      <td>a</td>\n",
       "      <td>0.222549</td>\n",
       "    </tr>\n",
       "    <tr>\n",
       "      <th>5</th>\n",
       "      <td>284</td>\n",
       "      <td>14906882</td>\n",
       "      <td>to</td>\n",
       "      <td>0.250080</td>\n",
       "    </tr>\n",
       "    <tr>\n",
       "      <th>6</th>\n",
       "      <td>373</td>\n",
       "      <td>10594487</td>\n",
       "      <td>was</td>\n",
       "      <td>0.269646</td>\n",
       "    </tr>\n",
       "    <tr>\n",
       "      <th>7</th>\n",
       "      <td>198</td>\n",
       "      <td>9119907</td>\n",
       "      <td>\\n</td>\n",
       "      <td>0.286489</td>\n",
       "    </tr>\n",
       "    <tr>\n",
       "      <th>8</th>\n",
       "      <td>1119</td>\n",
       "      <td>5226509</td>\n",
       "      <td>They</td>\n",
       "      <td>0.296141</td>\n",
       "    </tr>\n",
       "    <tr>\n",
       "      <th>9</th>\n",
       "      <td>340</td>\n",
       "      <td>5141200</td>\n",
       "      <td>it</td>\n",
       "      <td>0.305636</td>\n",
       "    </tr>\n",
       "  </tbody>\n",
       "</table>\n",
       "</div>\n",
       "    <div class=\"colab-df-buttons\">\n",
       "\n",
       "  <div class=\"colab-df-container\">\n",
       "    <button class=\"colab-df-convert\" onclick=\"convertToInteractive('df-7f24d3ca-0f67-49e9-ab68-46071c655f1d')\"\n",
       "            title=\"Convert this dataframe to an interactive table.\"\n",
       "            style=\"display:none;\">\n",
       "\n",
       "  <svg xmlns=\"http://www.w3.org/2000/svg\" height=\"24px\" viewBox=\"0 -960 960 960\">\n",
       "    <path d=\"M120-120v-720h720v720H120Zm60-500h600v-160H180v160Zm220 220h160v-160H400v160Zm0 220h160v-160H400v160ZM180-400h160v-160H180v160Zm440 0h160v-160H620v160ZM180-180h160v-160H180v160Zm440 0h160v-160H620v160Z\"/>\n",
       "  </svg>\n",
       "    </button>\n",
       "\n",
       "  <style>\n",
       "    .colab-df-container {\n",
       "      display:flex;\n",
       "      gap: 12px;\n",
       "    }\n",
       "\n",
       "    .colab-df-convert {\n",
       "      background-color: #E8F0FE;\n",
       "      border: none;\n",
       "      border-radius: 50%;\n",
       "      cursor: pointer;\n",
       "      display: none;\n",
       "      fill: #1967D2;\n",
       "      height: 32px;\n",
       "      padding: 0 0 0 0;\n",
       "      width: 32px;\n",
       "    }\n",
       "\n",
       "    .colab-df-convert:hover {\n",
       "      background-color: #E2EBFA;\n",
       "      box-shadow: 0px 1px 2px rgba(60, 64, 67, 0.3), 0px 1px 3px 1px rgba(60, 64, 67, 0.15);\n",
       "      fill: #174EA6;\n",
       "    }\n",
       "\n",
       "    .colab-df-buttons div {\n",
       "      margin-bottom: 4px;\n",
       "    }\n",
       "\n",
       "    [theme=dark] .colab-df-convert {\n",
       "      background-color: #3B4455;\n",
       "      fill: #D2E3FC;\n",
       "    }\n",
       "\n",
       "    [theme=dark] .colab-df-convert:hover {\n",
       "      background-color: #434B5C;\n",
       "      box-shadow: 0px 1px 3px 1px rgba(0, 0, 0, 0.15);\n",
       "      filter: drop-shadow(0px 1px 2px rgba(0, 0, 0, 0.3));\n",
       "      fill: #FFFFFF;\n",
       "    }\n",
       "  </style>\n",
       "\n",
       "    <script>\n",
       "      const buttonEl =\n",
       "        document.querySelector('#df-7f24d3ca-0f67-49e9-ab68-46071c655f1d button.colab-df-convert');\n",
       "      buttonEl.style.display =\n",
       "        google.colab.kernel.accessAllowed ? 'block' : 'none';\n",
       "\n",
       "      async function convertToInteractive(key) {\n",
       "        const element = document.querySelector('#df-7f24d3ca-0f67-49e9-ab68-46071c655f1d');\n",
       "        const dataTable =\n",
       "          await google.colab.kernel.invokeFunction('convertToInteractive',\n",
       "                                                    [key], {});\n",
       "        if (!dataTable) return;\n",
       "\n",
       "        const docLinkHtml = 'Like what you see? Visit the ' +\n",
       "          '<a target=\"_blank\" href=https://colab.research.google.com/notebooks/data_table.ipynb>data table notebook</a>'\n",
       "          + ' to learn more about interactive tables.';\n",
       "        element.innerHTML = '';\n",
       "        dataTable['output_type'] = 'display_data';\n",
       "        await google.colab.output.renderOutput(dataTable, element);\n",
       "        const docLink = document.createElement('div');\n",
       "        docLink.innerHTML = docLinkHtml;\n",
       "        element.appendChild(docLink);\n",
       "      }\n",
       "    </script>\n",
       "  </div>\n",
       "\n",
       "\n",
       "<div id=\"df-08998f3e-f902-46f3-a284-7c30dcb6b80f\">\n",
       "  <button class=\"colab-df-quickchart\" onclick=\"quickchart('df-08998f3e-f902-46f3-a284-7c30dcb6b80f')\"\n",
       "            title=\"Suggest charts.\"\n",
       "            style=\"display:none;\">\n",
       "\n",
       "<svg xmlns=\"http://www.w3.org/2000/svg\" height=\"24px\"viewBox=\"0 0 24 24\"\n",
       "     width=\"24px\">\n",
       "    <g>\n",
       "        <path d=\"M19 3H5c-1.1 0-2 .9-2 2v14c0 1.1.9 2 2 2h14c1.1 0 2-.9 2-2V5c0-1.1-.9-2-2-2zM9 17H7v-7h2v7zm4 0h-2V7h2v10zm4 0h-2v-4h2v4z\"/>\n",
       "    </g>\n",
       "</svg>\n",
       "  </button>\n",
       "\n",
       "<style>\n",
       "  .colab-df-quickchart {\n",
       "      --bg-color: #E8F0FE;\n",
       "      --fill-color: #1967D2;\n",
       "      --hover-bg-color: #E2EBFA;\n",
       "      --hover-fill-color: #174EA6;\n",
       "      --disabled-fill-color: #AAA;\n",
       "      --disabled-bg-color: #DDD;\n",
       "  }\n",
       "\n",
       "  [theme=dark] .colab-df-quickchart {\n",
       "      --bg-color: #3B4455;\n",
       "      --fill-color: #D2E3FC;\n",
       "      --hover-bg-color: #434B5C;\n",
       "      --hover-fill-color: #FFFFFF;\n",
       "      --disabled-bg-color: #3B4455;\n",
       "      --disabled-fill-color: #666;\n",
       "  }\n",
       "\n",
       "  .colab-df-quickchart {\n",
       "    background-color: var(--bg-color);\n",
       "    border: none;\n",
       "    border-radius: 50%;\n",
       "    cursor: pointer;\n",
       "    display: none;\n",
       "    fill: var(--fill-color);\n",
       "    height: 32px;\n",
       "    padding: 0;\n",
       "    width: 32px;\n",
       "  }\n",
       "\n",
       "  .colab-df-quickchart:hover {\n",
       "    background-color: var(--hover-bg-color);\n",
       "    box-shadow: 0 1px 2px rgba(60, 64, 67, 0.3), 0 1px 3px 1px rgba(60, 64, 67, 0.15);\n",
       "    fill: var(--button-hover-fill-color);\n",
       "  }\n",
       "\n",
       "  .colab-df-quickchart-complete:disabled,\n",
       "  .colab-df-quickchart-complete:disabled:hover {\n",
       "    background-color: var(--disabled-bg-color);\n",
       "    fill: var(--disabled-fill-color);\n",
       "    box-shadow: none;\n",
       "  }\n",
       "\n",
       "  .colab-df-spinner {\n",
       "    border: 2px solid var(--fill-color);\n",
       "    border-color: transparent;\n",
       "    border-bottom-color: var(--fill-color);\n",
       "    animation:\n",
       "      spin 1s steps(1) infinite;\n",
       "  }\n",
       "\n",
       "  @keyframes spin {\n",
       "    0% {\n",
       "      border-color: transparent;\n",
       "      border-bottom-color: var(--fill-color);\n",
       "      border-left-color: var(--fill-color);\n",
       "    }\n",
       "    20% {\n",
       "      border-color: transparent;\n",
       "      border-left-color: var(--fill-color);\n",
       "      border-top-color: var(--fill-color);\n",
       "    }\n",
       "    30% {\n",
       "      border-color: transparent;\n",
       "      border-left-color: var(--fill-color);\n",
       "      border-top-color: var(--fill-color);\n",
       "      border-right-color: var(--fill-color);\n",
       "    }\n",
       "    40% {\n",
       "      border-color: transparent;\n",
       "      border-right-color: var(--fill-color);\n",
       "      border-top-color: var(--fill-color);\n",
       "    }\n",
       "    60% {\n",
       "      border-color: transparent;\n",
       "      border-right-color: var(--fill-color);\n",
       "    }\n",
       "    80% {\n",
       "      border-color: transparent;\n",
       "      border-right-color: var(--fill-color);\n",
       "      border-bottom-color: var(--fill-color);\n",
       "    }\n",
       "    90% {\n",
       "      border-color: transparent;\n",
       "      border-bottom-color: var(--fill-color);\n",
       "    }\n",
       "  }\n",
       "</style>\n",
       "\n",
       "  <script>\n",
       "    async function quickchart(key) {\n",
       "      const quickchartButtonEl =\n",
       "        document.querySelector('#' + key + ' button');\n",
       "      quickchartButtonEl.disabled = true;  // To prevent multiple clicks.\n",
       "      quickchartButtonEl.classList.add('colab-df-spinner');\n",
       "      try {\n",
       "        const charts = await google.colab.kernel.invokeFunction(\n",
       "            'suggestCharts', [key], {});\n",
       "      } catch (error) {\n",
       "        console.error('Error during call to suggestCharts:', error);\n",
       "      }\n",
       "      quickchartButtonEl.classList.remove('colab-df-spinner');\n",
       "      quickchartButtonEl.classList.add('colab-df-quickchart-complete');\n",
       "    }\n",
       "    (() => {\n",
       "      let quickchartButtonEl =\n",
       "        document.querySelector('#df-08998f3e-f902-46f3-a284-7c30dcb6b80f button');\n",
       "      quickchartButtonEl.style.display =\n",
       "        google.colab.kernel.accessAllowed ? 'block' : 'none';\n",
       "    })();\n",
       "  </script>\n",
       "</div>\n",
       "\n",
       "    </div>\n",
       "  </div>\n"
      ],
      "text/plain": [
       "  token      freq token_str       cdf\n",
       "0    13  41825583         .  0.077245\n",
       "1    11  23298942         ,  0.120274\n",
       "2   262  20828658       the  0.158741\n",
       "3   290  19476061       and  0.194709\n",
       "4   257  15074432         a  0.222549\n",
       "5   284  14906882        to  0.250080\n",
       "6   373  10594487       was  0.269646\n",
       "7   198   9119907        \\n  0.286489\n",
       "8  1119   5226509      They  0.296141\n",
       "9   340   5141200        it  0.305636"
      ]
     },
     "execution_count": 19,
     "metadata": {},
     "output_type": "execute_result"
    }
   ],
   "source": [
    "# top ten tokens by frequency, accounting for 30% of all tokens\n",
    "tf.head(10)"
   ]
  },
  {
   "cell_type": "code",
   "execution_count": 20,
   "id": "1bd653bd",
   "metadata": {
    "colab": {
     "base_uri": "https://localhost:8080/"
    },
    "executionInfo": {
     "elapsed": 5,
     "status": "ok",
     "timestamp": 1694534198139,
     "user": {
      "displayName": "Alex Dow",
      "userId": "06741101372127917949"
     },
     "user_tz": 420
    },
    "id": "1bd653bd",
    "outputId": "db168db8-f6ed-47b7-b881-135ae6cb9a41"
   },
   "outputs": [
    {
     "data": {
      "text/plain": [
       "token           20037\n",
       "freq          1995606\n",
       "token_str        Lily\n",
       "cdf          0.501679\n",
       "Name: 44, dtype: object"
      ]
     },
     "execution_count": 20,
     "metadata": {},
     "output_type": "execute_result"
    }
   ],
   "source": [
    "# the top 44 account for 50% of all tokens\n",
    "tf.iloc[(0.5 - tf['cdf']).abs().argmin()]"
   ]
  },
  {
   "cell_type": "code",
   "execution_count": 21,
   "id": "e88e9884",
   "metadata": {
    "colab": {
     "base_uri": "https://localhost:8080/"
    },
    "executionInfo": {
     "elapsed": 6,
     "status": "ok",
     "timestamp": 1694534198140,
     "user": {
      "displayName": "Alex Dow",
      "userId": "06741101372127917949"
     },
     "user_tz": 420
    },
    "id": "e88e9884",
    "outputId": "73c09fd7-af1e-43c7-a589-367526a8373f"
   },
   "outputs": [
    {
     "data": {
      "text/plain": [
       "token           1382\n",
       "freq           58844\n",
       "token_str      build\n",
       "cdf          0.89995\n",
       "Name: 793, dtype: object"
      ]
     },
     "execution_count": 21,
     "metadata": {},
     "output_type": "execute_result"
    }
   ],
   "source": [
    "# the top ~800 account for 90% of all tokens\n",
    "tf.iloc[(0.9 - tf['cdf']).abs().argmin()]"
   ]
  },
  {
   "cell_type": "code",
   "execution_count": 22,
   "id": "24a99f0d",
   "metadata": {
    "colab": {
     "base_uri": "https://localhost:8080/"
    },
    "executionInfo": {
     "elapsed": 5,
     "status": "ok",
     "timestamp": 1694534198140,
     "user": {
      "displayName": "Alex Dow",
      "userId": "06741101372127917949"
     },
     "user_tz": 420
    },
    "id": "24a99f0d",
    "outputId": "dd4c80ab-9d1e-48aa-945c-84b43db69e60"
   },
   "outputs": [
    {
     "data": {
      "text/plain": [
       "token           10291\n",
       "freq             3663\n",
       "token_str     wanting\n",
       "cdf          0.990001\n",
       "Name: 3709, dtype: object"
      ]
     },
     "execution_count": 22,
     "metadata": {},
     "output_type": "execute_result"
    }
   ],
   "source": [
    "# the top ~3700 account for 99% of all tokens\n",
    "tf.iloc[(0.99 - tf['cdf']).abs().argmin()]"
   ]
  },
  {
   "cell_type": "code",
   "execution_count": 23,
   "id": "bb6c0cbb",
   "metadata": {
    "colab": {
     "base_uri": "https://localhost:8080/"
    },
    "executionInfo": {
     "elapsed": 5,
     "status": "ok",
     "timestamp": 1694534198140,
     "user": {
      "displayName": "Alex Dow",
      "userId": "06741101372127917949"
     },
     "user_tz": 420
    },
    "id": "bb6c0cbb",
    "outputId": "b0119053-2a45-4eb9-c6d3-eb5256d86734"
   },
   "outputs": [
    {
     "data": {
      "text/plain": [
       "token             3033\n",
       "freq               119\n",
       "token_str     features\n",
       "cdf           0.999304\n",
       "Name: 10000, dtype: object"
      ]
     },
     "execution_count": 23,
     "metadata": {},
     "output_type": "execute_result"
    }
   ],
   "source": [
    "# the top 10k tokens account for 99.93% of tokens, tokens past this appear <120 times in the training set\n",
    "tf.iloc[10000]"
   ]
  },
  {
   "cell_type": "code",
   "execution_count": 24,
   "id": "6ee25fee",
   "metadata": {
    "colab": {
     "base_uri": "https://localhost:8080/"
    },
    "executionInfo": {
     "elapsed": 4,
     "status": "ok",
     "timestamp": 1694534198140,
     "user": {
      "displayName": "Alex Dow",
      "userId": "06741101372127917949"
     },
     "user_tz": 420
    },
    "id": "6ee25fee",
    "outputId": "e2d35ef5-22a7-4dcf-e38b-57bebcb34243"
   },
   "outputs": [
    {
     "data": {
      "text/plain": [
       "(3175, 10009)"
      ]
     },
     "execution_count": 24,
     "metadata": {},
     "output_type": "execute_result"
    }
   ],
   "source": [
    "# 3k tokens only appear once, 10k appear 10 or fewer times\n",
    "(tf['freq'] == 1).sum(), (tf['freq'] <= 10).sum()"
   ]
  },
  {
   "cell_type": "markdown",
   "id": "67486d40",
   "metadata": {
    "id": "67486d40"
   },
   "source": [
    "# Training LMModel 3 (RNN with Backpropogation Through Time)"
   ]
  },
  {
   "cell_type": "code",
   "execution_count": null,
   "id": "15960101-6487-4b1e-8733-812a6af90498",
   "metadata": {
    "id": "15960101-6487-4b1e-8733-812a6af90498"
   },
   "outputs": [],
   "source": [
    "bs = 64\n",
    "lr = 3e-3\n",
    "epochs = 1\n",
    "seq_len = 3"
   ]
  },
  {
   "cell_type": "code",
   "execution_count": null,
   "id": "2934a3e0-5741-48ad-b176-4824aba3634a",
   "metadata": {
    "colab": {
     "base_uri": "https://localhost:8080/"
    },
    "executionInfo": {
     "elapsed": 6,
     "status": "ok",
     "timestamp": 1693082116192,
     "user": {
      "displayName": "Alex Dow",
      "userId": "06741101372127917949"
     },
     "user_tz": 420
    },
    "id": "2934a3e0-5741-48ad-b176-4824aba3634a",
    "outputId": "6056d731-bcd9-4eef-cb0b-c3d1955b9490"
   },
   "outputs": [
    {
     "data": {
      "text/plain": [
       "50257"
      ]
     },
     "execution_count": 26,
     "metadata": {},
     "output_type": "execute_result"
    }
   ],
   "source": [
    "vocab_size = tokenizer.vocab_size\n",
    "vocab_size"
   ]
  },
  {
   "cell_type": "code",
   "execution_count": null,
   "id": "0ca7deba",
   "metadata": {
    "colab": {
     "base_uri": "https://localhost:8080/"
    },
    "executionInfo": {
     "elapsed": 487,
     "status": "ok",
     "timestamp": 1693082116673,
     "user": {
      "displayName": "Alex Dow",
      "userId": "06741101372127917949"
     },
     "user_tz": 420
    },
    "id": "0ca7deba",
    "outputId": "18ceb107-b3b6-4cdc-f408-f24d1c174fe6"
   },
   "outputs": [
    {
     "data": {
      "text/plain": [
       "('cuda', 'NVIDIA A100-SXM4-40GB')"
      ]
     },
     "execution_count": 27,
     "metadata": {},
     "output_type": "execute_result"
    }
   ],
   "source": [
    "if torch.backends.mps.is_available():\n",
    "    def_device = device_name = 'mps'\n",
    "elif torch.cuda.is_available():\n",
    "    def_device = 'cuda'\n",
    "    device_name = torch.cuda.get_device_name(0)\n",
    "else:\n",
    "    def_device = device_name = 'cpu'\n",
    "def_device, device_name"
   ]
  },
  {
   "cell_type": "code",
   "execution_count": null,
   "id": "cccab3a7",
   "metadata": {
    "colab": {
     "base_uri": "https://localhost:8080/"
    },
    "executionInfo": {
     "elapsed": 3,
     "status": "ok",
     "timestamp": 1693082116673,
     "user": {
      "displayName": "Alex Dow",
      "userId": "06741101372127917949"
     },
     "user_tz": 420
    },
    "id": "cccab3a7",
    "outputId": "9096d549-bfb3-4292-9def-816d65212d0e"
   },
   "outputs": [
    {
     "data": {
      "text/plain": [
       "89.636769792"
      ]
     },
     "execution_count": 28,
     "metadata": {},
     "output_type": "execute_result"
    }
   ],
   "source": [
    "virtual_memory().total / 1e9"
   ]
  },
  {
   "cell_type": "code",
   "execution_count": null,
   "id": "15d8fff6-15cc-404a-b6fd-a87a018fc3f6",
   "metadata": {
    "id": "15d8fff6-15cc-404a-b6fd-a87a018fc3f6"
   },
   "outputs": [],
   "source": [
    "def get_sequences_from_doc(doc, seq_len=3):\n",
    "    return [(doc[i:i+seq_len], doc[i+seq_len]) for i in range(0,len(doc)-seq_len-1,seq_len)]\n",
    "\n",
    "def get_sequences_from_ds(ds, token_limit):\n",
    "    seqs = []\n",
    "    for doc in ds:\n",
    "        i = 0 if len(seqs)==0 else i+1\n",
    "        seqs.extend(get_sequences_from_doc(tensor(doc['input_ids']), seq_len))\n",
    "        if i % 1000 == 0:\n",
    "            print(f'{len(seqs)}/{token_limit} done')\n",
    "        if len(seqs)*seq_len >= token_limit:\n",
    "            break\n",
    "    return seqs"
   ]
  },
  {
   "cell_type": "code",
   "execution_count": null,
   "id": "d96bf479-6a44-4a2f-92f4-49229ebfc3c2",
   "metadata": {
    "colab": {
     "base_uri": "https://localhost:8080/"
    },
    "executionInfo": {
     "elapsed": 16754,
     "status": "ok",
     "timestamp": 1693082133425,
     "user": {
      "displayName": "Alex Dow",
      "userId": "06741101372127917949"
     },
     "user_tz": 420
    },
    "id": "d96bf479-6a44-4a2f-92f4-49229ebfc3c2",
    "outputId": "d3153239-2e07-43be-db6a-6ec03930f6c3"
   },
   "outputs": [
    {
     "name": "stdout",
     "output_type": "stream",
     "text": [
      "train\n",
      "62/1920000.0 done\n",
      "65885/1920000.0 done\n",
      "132398/1920000.0 done\n",
      "198478/1920000.0 done\n",
      "265368/1920000.0 done\n",
      "331051/1920000.0 done\n",
      "396882/1920000.0 done\n",
      "462737/1920000.0 done\n",
      "529767/1920000.0 done\n",
      "596213/1920000.0 done\n",
      "test\n",
      "69/1920000.0 done\n",
      "64681/1920000.0 done\n",
      "129571/1920000.0 done\n",
      "194245/1920000.0 done\n",
      "259498/1920000.0 done\n",
      "324271/1920000.0 done\n",
      "389586/1920000.0 done\n",
      "453914/1920000.0 done\n",
      "519785/1920000.0 done\n",
      "585284/1920000.0 done\n"
     ]
    }
   ],
   "source": [
    "print('train')\n",
    "train_seqs = get_sequences_from_ds(tds['train'], token_limit)\n",
    "print('test')\n",
    "test_seqs = get_sequences_from_ds(tds['test'], token_limit)"
   ]
  },
  {
   "cell_type": "code",
   "execution_count": null,
   "id": "86f2fbbc-c55d-4326-b262-99c6717ab06c",
   "metadata": {
    "colab": {
     "base_uri": "https://localhost:8080/"
    },
    "executionInfo": {
     "elapsed": 5,
     "status": "ok",
     "timestamp": 1693082133425,
     "user": {
      "displayName": "Alex Dow",
      "userId": "06741101372127917949"
     },
     "user_tz": 420
    },
    "id": "86f2fbbc-c55d-4326-b262-99c6717ab06c",
    "outputId": "b88b26e9-18fa-4fe9-a7b0-5fe8a1edaf3d"
   },
   "outputs": [
    {
     "data": {
      "text/plain": [
       "(640015, 640006)"
      ]
     },
     "execution_count": 31,
     "metadata": {},
     "output_type": "execute_result"
    }
   ],
   "source": [
    "len(train_seqs), len(test_seqs)"
   ]
  },
  {
   "cell_type": "code",
   "execution_count": 33,
   "id": "de105d13-559d-4e97-b867-3ec3b9751e0e",
   "metadata": {
    "executionInfo": {
     "elapsed": 344,
     "status": "ok",
     "timestamp": 1694534385821,
     "user": {
      "displayName": "Alex Dow",
      "userId": "06741101372127917949"
     },
     "user_tz": 420
    },
    "id": "de105d13-559d-4e97-b867-3ec3b9751e0e"
   },
   "outputs": [],
   "source": [
    "def group_chunks(ds, bs):\n",
    "  m = len(ds)//bs\n",
    "  new_ds = []\n",
    "  for i in range(m): new_ds += ds[i:m*bs:m]\n",
    "  return new_ds"
   ]
  },
  {
   "cell_type": "code",
   "execution_count": null,
   "id": "13b74f68-3cfc-42eb-bcc9-0cac539fba60",
   "metadata": {
    "id": "13b74f68-3cfc-42eb-bcc9-0cac539fba60"
   },
   "outputs": [],
   "source": [
    "train_dl = DataLoader(group_chunks(train_seqs, bs), batch_size=bs, shuffle=False, drop_last=True)\n",
    "test_dl = DataLoader(group_chunks(train_seqs, bs), batch_size=bs, shuffle=False, drop_last=True)"
   ]
  },
  {
   "cell_type": "code",
   "execution_count": null,
   "id": "bf0ef008-ad16-4a95-8934-a3432067215b",
   "metadata": {
    "colab": {
     "base_uri": "https://localhost:8080/"
    },
    "executionInfo": {
     "elapsed": 4,
     "status": "ok",
     "timestamp": 1693082133425,
     "user": {
      "displayName": "Alex Dow",
      "userId": "06741101372127917949"
     },
     "user_tz": 420
    },
    "id": "bf0ef008-ad16-4a95-8934-a3432067215b",
    "outputId": "807890d1-ad51-45ca-b6ab-fe9f8eba0863"
   },
   "outputs": [
    {
     "data": {
      "text/plain": [
       "(10000, 10000)"
      ]
     },
     "execution_count": 34,
     "metadata": {},
     "output_type": "execute_result"
    }
   ],
   "source": [
    "len(train_dl), len(test_dl)"
   ]
  },
  {
   "cell_type": "code",
   "execution_count": null,
   "id": "976971c3-e17d-4b15-950d-fbb67aa963a1",
   "metadata": {
    "id": "976971c3-e17d-4b15-950d-fbb67aa963a1"
   },
   "outputs": [],
   "source": [
    "class LMModel3(nn.Module):\n",
    "    def __init__(self, vocab_sz, n_hidden):\n",
    "      super().__init__()\n",
    "      self.i_h = nn.Embedding(vocab_sz, n_hidden)\n",
    "      self.h_h = nn.Linear(n_hidden, n_hidden)\n",
    "      self.h_o = nn.Linear(n_hidden,vocab_sz)\n",
    "      self.h = 0\n",
    "\n",
    "    def forward(self, x):\n",
    "        for i in range(3):\n",
    "            self.h = self.h + self.i_h(x[:,i])\n",
    "            self.h = F.relu(self.h_h(self.h))\n",
    "        out = self.h_o(self.h)\n",
    "        self.h = self.h.detach()\n",
    "        return out\n",
    "\n",
    "    def reset(self): self.h = 0\n",
    "\n",
    "    def generate(self, idx, max_new_tokens):\n",
    "        # idx is (B, T) array of indices in the current context\n",
    "        for _ in range(max_new_tokens):\n",
    "            # get the predictions based on 3 most recent tokens\n",
    "            logits = self(idx[:,-3:]) # (B, C)\n",
    "            # apply softmax to get probabilities\n",
    "            probs = F.softmax(logits, dim=-1) # (B, C)\n",
    "            # sample from the distribution\n",
    "            idx_next = torch.multinomial(probs, num_samples=1) # (B, 1)\n",
    "            # append sampled index to the running sequence\n",
    "            idx = torch.cat((idx, idx_next), dim=1) # (B, T+1)\n",
    "        return idx"
   ]
  },
  {
   "cell_type": "code",
   "execution_count": null,
   "id": "bc1bcf27-3835-4dfe-8b16-d46773abe72f",
   "metadata": {
    "id": "bc1bcf27-3835-4dfe-8b16-d46773abe72f"
   },
   "outputs": [],
   "source": [
    "model = LMModel3(vocab_size, 64).to(def_device)\n",
    "criterion = nn.CrossEntropyLoss()\n",
    "optimizer = torch.optim.SGD(model.parameters(), lr = lr, momentum = 0.9)"
   ]
  },
  {
   "cell_type": "code",
   "execution_count": null,
   "id": "70f4f98e-f57a-483a-b7b5-d1111a132416",
   "metadata": {
    "colab": {
     "base_uri": "https://localhost:8080/"
    },
    "executionInfo": {
     "elapsed": 6,
     "status": "ok",
     "timestamp": 1693082138133,
     "user": {
      "displayName": "Alex Dow",
      "userId": "06741101372127917949"
     },
     "user_tz": 420
    },
    "id": "70f4f98e-f57a-483a-b7b5-d1111a132416",
    "outputId": "9b8dd800-11b0-40b5-a66d-ec23287b441b"
   },
   "outputs": [
    {
     "data": {
      "text/plain": [
       "LMModel3(\n",
       "  (i_h): Embedding(50257, 64)\n",
       "  (h_h): Linear(in_features=64, out_features=64, bias=True)\n",
       "  (h_o): Linear(in_features=64, out_features=50257, bias=True)\n",
       ")"
      ]
     },
     "execution_count": 37,
     "metadata": {},
     "output_type": "execute_result"
    }
   ],
   "source": [
    "model"
   ]
  },
  {
   "cell_type": "code",
   "execution_count": 34,
   "id": "1d4270d0-6e32-4577-b195-ed45c56ced2f",
   "metadata": {
    "executionInfo": {
     "elapsed": 285,
     "status": "ok",
     "timestamp": 1694534390636,
     "user": {
      "displayName": "Alex Dow",
      "userId": "06741101372127917949"
     },
     "user_tz": 420
    },
    "id": "1d4270d0-6e32-4577-b195-ed45c56ced2f"
   },
   "outputs": [],
   "source": [
    "def get_params(model):\n",
    "    return sum(p.numel() for p in model.parameters() if p.requires_grad)"
   ]
  },
  {
   "cell_type": "code",
   "execution_count": null,
   "id": "c11d7975-7a38-45f1-89d1-a1b153e9b533",
   "metadata": {
    "colab": {
     "base_uri": "https://localhost:8080/"
    },
    "executionInfo": {
     "elapsed": 32889,
     "status": "ok",
     "timestamp": 1693082171018,
     "user": {
      "displayName": "Alex Dow",
      "userId": "06741101372127917949"
     },
     "user_tz": 420
    },
    "id": "c11d7975-7a38-45f1-89d1-a1b153e9b533",
    "outputId": "772a1a37-28d6-436e-aab0-25e8c01fef7c"
   },
   "outputs": [
    {
     "name": "stdout",
     "output_type": "stream",
     "text": [
      "\t[1,   200] loss: 10.512\n",
      "\t[1,   400] loss: 9.494\n",
      "\t[1,   600] loss: 8.719\n",
      "\t[1,   800] loss: 8.150\n",
      "\t[1,  1000] loss: 7.779\n",
      "\t[1,  1200] loss: 7.505\n",
      "\t[1,  1400] loss: 7.276\n",
      "\t[1,  1600] loss: 7.087\n",
      "\t[1,  1800] loss: 6.936\n",
      "\t[1,  2000] loss: 6.806\n",
      "\t[1,  2200] loss: 6.685\n",
      "\t[1,  2400] loss: 6.578\n",
      "\t[1,  2600] loss: 6.482\n",
      "\t[1,  2800] loss: 6.401\n",
      "\t[1,  3000] loss: 6.324\n",
      "\t[1,  3200] loss: 6.256\n",
      "\t[1,  3400] loss: 6.196\n",
      "\t[1,  3600] loss: 6.138\n",
      "\t[1,  3800] loss: 6.084\n",
      "\t[1,  4000] loss: 6.038\n",
      "\t[1,  4200] loss: 5.988\n",
      "\t[1,  4400] loss: 5.946\n",
      "\t[1,  4600] loss: 5.904\n",
      "\t[1,  4800] loss: 5.868\n",
      "\t[1,  5000] loss: 5.831\n",
      "\t[1,  5200] loss: 5.794\n",
      "\t[1,  5400] loss: 5.762\n",
      "\t[1,  5600] loss: 5.730\n",
      "\t[1,  5800] loss: 5.701\n",
      "\t[1,  6000] loss: 5.673\n",
      "\t[1,  6200] loss: 5.643\n",
      "\t[1,  6400] loss: 5.617\n",
      "\t[1,  6600] loss: 5.593\n",
      "\t[1,  6800] loss: 5.571\n",
      "\t[1,  7000] loss: 5.549\n",
      "\t[1,  7200] loss: 5.528\n",
      "\t[1,  7400] loss: 5.507\n",
      "\t[1,  7600] loss: 5.486\n",
      "\t[1,  7800] loss: 5.466\n",
      "\t[1,  8000] loss: 5.447\n",
      "\t[1,  8200] loss: 5.430\n",
      "\t[1,  8400] loss: 5.412\n",
      "\t[1,  8600] loss: 5.396\n",
      "\t[1,  8800] loss: 5.380\n",
      "\t[1,  9000] loss: 5.364\n",
      "\t[1,  9200] loss: 5.347\n",
      "\t[1,  9400] loss: 5.333\n",
      "\t[1,  9600] loss: 5.319\n",
      "\t[1,  9800] loss: 5.304\n",
      "\t[1, 10000] loss: 5.291\n",
      "[1, 10000] train loss: 5.291 valid loss: 4.613 valid i: 9999 accuracy: 0.230\n",
      "Finished Training\n",
      "33.035804748535156 seconds\n",
      "CPU times: user 30.2 s, sys: 819 ms, total: 31.1 s\n",
      "Wall time: 33 s\n"
     ]
    }
   ],
   "source": [
    "%%time\n",
    "start_time = time.time()\n",
    "for epoch in range(epochs):\n",
    "    running_loss = 0.0\n",
    "    for i, data in enumerate(train_dl, 0):\n",
    "        # get the inputs; data is a list of [inputs, labels]\n",
    "        inputs, labels = data\n",
    "        # zero the parameter gradients\n",
    "        optimizer.zero_grad()\n",
    "        # forward (calc predictions) + backward (calc loss & gradients) +\n",
    "        # optimize (step the weights)\n",
    "        outputs = model(inputs.to(def_device))\n",
    "        loss = criterion(outputs, labels.to(def_device))\n",
    "        loss.backward()\n",
    "        optimizer.step()\n",
    "        # tally loss\n",
    "        running_loss += loss.item()\n",
    "        if i % 200 == 199:    # print every 200 mini-batches\n",
    "          print(f'\\t[{epoch + 1}, {i + 1:5d}] loss: {running_loss / i:.3f}')\n",
    "    # reset hidden state before validation\n",
    "    model.reset()\n",
    "    # calc validation loss and accuracy\n",
    "    running_valid_loss = 0.0\n",
    "    correct = 0\n",
    "    total = 0\n",
    "    with torch.no_grad():\n",
    "        for valid_i, valid_data in enumerate(test_dl, 0):\n",
    "            inputs, labels = valid_data\n",
    "            outputs = model(inputs.to(def_device))\n",
    "            valid_loss = criterion(outputs, labels.to(def_device))\n",
    "            running_valid_loss += valid_loss.item()\n",
    "            _, predicted = torch.max(outputs, 1)\n",
    "            total += labels.size(0)\n",
    "            correct += (predicted == labels.to(def_device)).sum().item()\n",
    "    # print stats\n",
    "    print(f'[{epoch + 1}, {i + 1:5d}] train loss: {running_loss / i:.3f} valid loss: {running_valid_loss / valid_i:.3f} valid i: {valid_i} accuracy: {correct / total:.3f}')\n",
    "    # reset hidden state before next epoch\n",
    "    model.reset()\n",
    "print('Finished Training')\n",
    "end_time = time.time()\n",
    "print(f'{end_time - start_time} seconds')"
   ]
  },
  {
   "cell_type": "code",
   "execution_count": null,
   "id": "e987893c-ffd2-4d92-a2a0-04943c7d1b67",
   "metadata": {
    "id": "e987893c-ffd2-4d92-a2a0-04943c7d1b67"
   },
   "outputs": [],
   "source": [
    "# do some generation\n",
    "prompt = tensor(tds['train'][0]['input_ids'][:3])\n",
    "gen_txt = model.generate(idx = prompt.view(1,3).to(def_device), max_new_tokens=20)[0].tolist()\n",
    "print(tokenizer.decode(gen_txt))"
   ]
  },
  {
   "cell_type": "markdown",
   "id": "e21005f9-31ab-463f-8e2d-86db39b3d85f",
   "metadata": {
    "id": "e21005f9-31ab-463f-8e2d-86db39b3d85f"
   },
   "source": [
    "**Log results**"
   ]
  },
  {
   "cell_type": "code",
   "execution_count": null,
   "id": "db84c460-f974-48d3-9a56-d417bbb4db64",
   "metadata": {
    "id": "db84c460-f974-48d3-9a56-d417bbb4db64"
   },
   "outputs": [],
   "source": [
    "log_dir = Path(project_dir/'logs')\n",
    "log_dir.mkdir(exist_ok=True)"
   ]
  },
  {
   "cell_type": "code",
   "execution_count": null,
   "id": "f6324302-2f7c-42a8-8d25-b1f904c9d9f1",
   "metadata": {
    "id": "f6324302-2f7c-42a8-8d25-b1f904c9d9f1"
   },
   "outputs": [],
   "source": [
    "log_path = log_dir/'log.pkl'\n",
    "if os.path.exists(log_path):\n",
    "    log = pd.read_pickle(log_path)\n",
    "else:\n",
    "    log = pd.DataFrame(columns=['model', 'params', 'device_name', 'vocab_size', 'train_tokens', 'test_tokens', 'batch_size',\n",
    "                                'epochs', 'train_time', 'train_loss', 'test_loss', 'accuracy', 'sample'])"
   ]
  },
  {
   "cell_type": "code",
   "execution_count": null,
   "id": "c07d2140-fbef-47ed-ac9d-925dedc9af5d",
   "metadata": {
    "id": "c07d2140-fbef-47ed-ac9d-925dedc9af5d"
   },
   "outputs": [],
   "source": [
    "log = \\\n",
    "pd.concat([log,\n",
    "           pd.DataFrame({'model': model.__class__.__name__, 'params': get_params(model),'device_name': device_name,\n",
    "                         'vocab_size': tokenizer.vocab_size, 'train_tokens': seq_len*len(train_dl)*bs,\n",
    "                         'test_tokens': seq_len*len(test_dl)*bs,\n",
    "                         'batch_size': bs, 'epochs':epochs, 'train_time': end_time-start_time,\n",
    "                         'train_loss': running_loss / i, 'test_loss': running_valid_loss / valid_i, 'accuracy': correct / total,\n",
    "                         'sample': tokenizer.decode(gen_txt)}, index=[len(log)])\n",
    "          ])"
   ]
  },
  {
   "cell_type": "code",
   "execution_count": null,
   "id": "85e244a3-fa6d-4aac-90ed-3c9697134b74",
   "metadata": {
    "colab": {
     "base_uri": "https://localhost:8080/",
     "height": 611
    },
    "executionInfo": {
     "elapsed": 5,
     "status": "ok",
     "timestamp": 1693082173731,
     "user": {
      "displayName": "Alex Dow",
      "userId": "06741101372127917949"
     },
     "user_tz": 420
    },
    "id": "85e244a3-fa6d-4aac-90ed-3c9697134b74",
    "outputId": "99174949-539b-4fed-e5b3-b087e038dd82"
   },
   "outputs": [
    {
     "data": {
      "text/html": [
       "\n",
       "  <div id=\"df-36fb282f-3db6-4ae1-962d-8c9c0acc1f1a\" class=\"colab-df-container\">\n",
       "    <div>\n",
       "<style scoped>\n",
       "    .dataframe tbody tr th:only-of-type {\n",
       "        vertical-align: middle;\n",
       "    }\n",
       "\n",
       "    .dataframe tbody tr th {\n",
       "        vertical-align: top;\n",
       "    }\n",
       "\n",
       "    .dataframe thead th {\n",
       "        text-align: right;\n",
       "    }\n",
       "</style>\n",
       "<table border=\"1\" class=\"dataframe\">\n",
       "  <thead>\n",
       "    <tr style=\"text-align: right;\">\n",
       "      <th></th>\n",
       "      <th>model</th>\n",
       "      <th>params</th>\n",
       "      <th>device_name</th>\n",
       "      <th>vocab_size</th>\n",
       "      <th>train_tokens</th>\n",
       "      <th>test_tokens</th>\n",
       "      <th>batch_size</th>\n",
       "      <th>epochs</th>\n",
       "      <th>train_time</th>\n",
       "      <th>train_loss</th>\n",
       "      <th>test_loss</th>\n",
       "      <th>accuracy</th>\n",
       "      <th>sample</th>\n",
       "    </tr>\n",
       "  </thead>\n",
       "  <tbody>\n",
       "    <tr>\n",
       "      <th>0</th>\n",
       "      <td>LMModel3</td>\n",
       "      <td>6487313</td>\n",
       "      <td>mps</td>\n",
       "      <td>50257</td>\n",
       "      <td>1920000</td>\n",
       "      <td>1920000</td>\n",
       "      <td>64</td>\n",
       "      <td>1</td>\n",
       "      <td>284.984944</td>\n",
       "      <td>5.295207</td>\n",
       "      <td>4.621000</td>\n",
       "      <td>0.231564</td>\n",
       "      <td>Once upon a time colorful. They thinks it.\\nOn...</td>\n",
       "    </tr>\n",
       "    <tr>\n",
       "      <th>1</th>\n",
       "      <td>LMModel3</td>\n",
       "      <td>6487313</td>\n",
       "      <td>Tesla T4</td>\n",
       "      <td>50257</td>\n",
       "      <td>1920000</td>\n",
       "      <td>1920000</td>\n",
       "      <td>64</td>\n",
       "      <td>1</td>\n",
       "      <td>53.554449</td>\n",
       "      <td>5.290185</td>\n",
       "      <td>4.608912</td>\n",
       "      <td>0.233263</td>\n",
       "      <td>Once upon a time on the toys in and theyAUD so...</td>\n",
       "    </tr>\n",
       "    <tr>\n",
       "      <th>2</th>\n",
       "      <td>LMModel3</td>\n",
       "      <td>6487313</td>\n",
       "      <td>Tesla V100-SXM2-16GB</td>\n",
       "      <td>50257</td>\n",
       "      <td>1920000</td>\n",
       "      <td>1920000</td>\n",
       "      <td>64</td>\n",
       "      <td>1</td>\n",
       "      <td>42.597042</td>\n",
       "      <td>5.283650</td>\n",
       "      <td>4.595851</td>\n",
       "      <td>0.232405</td>\n",
       "      <td>Once upon a time tried to worried of. The dog ...</td>\n",
       "    </tr>\n",
       "    <tr>\n",
       "      <th>3</th>\n",
       "      <td>LMModel3</td>\n",
       "      <td>6487313</td>\n",
       "      <td>NVIDIA A100-SXM4-40GB</td>\n",
       "      <td>50257</td>\n",
       "      <td>1920000</td>\n",
       "      <td>1920000</td>\n",
       "      <td>64</td>\n",
       "      <td>1</td>\n",
       "      <td>33.035805</td>\n",
       "      <td>5.291462</td>\n",
       "      <td>4.612990</td>\n",
       "      <td>0.230420</td>\n",
       "      <td>Once upon a time they in mom needed and Worldw...</td>\n",
       "    </tr>\n",
       "  </tbody>\n",
       "</table>\n",
       "</div>\n",
       "    <div class=\"colab-df-buttons\">\n",
       "\n",
       "  <div class=\"colab-df-container\">\n",
       "    <button class=\"colab-df-convert\" onclick=\"convertToInteractive('df-36fb282f-3db6-4ae1-962d-8c9c0acc1f1a')\"\n",
       "            title=\"Convert this dataframe to an interactive table.\"\n",
       "            style=\"display:none;\">\n",
       "\n",
       "  <svg xmlns=\"http://www.w3.org/2000/svg\" height=\"24px\" viewBox=\"0 -960 960 960\">\n",
       "    <path d=\"M120-120v-720h720v720H120Zm60-500h600v-160H180v160Zm220 220h160v-160H400v160Zm0 220h160v-160H400v160ZM180-400h160v-160H180v160Zm440 0h160v-160H620v160ZM180-180h160v-160H180v160Zm440 0h160v-160H620v160Z\"/>\n",
       "  </svg>\n",
       "    </button>\n",
       "\n",
       "  <style>\n",
       "    .colab-df-container {\n",
       "      display:flex;\n",
       "      gap: 12px;\n",
       "    }\n",
       "\n",
       "    .colab-df-convert {\n",
       "      background-color: #E8F0FE;\n",
       "      border: none;\n",
       "      border-radius: 50%;\n",
       "      cursor: pointer;\n",
       "      display: none;\n",
       "      fill: #1967D2;\n",
       "      height: 32px;\n",
       "      padding: 0 0 0 0;\n",
       "      width: 32px;\n",
       "    }\n",
       "\n",
       "    .colab-df-convert:hover {\n",
       "      background-color: #E2EBFA;\n",
       "      box-shadow: 0px 1px 2px rgba(60, 64, 67, 0.3), 0px 1px 3px 1px rgba(60, 64, 67, 0.15);\n",
       "      fill: #174EA6;\n",
       "    }\n",
       "\n",
       "    .colab-df-buttons div {\n",
       "      margin-bottom: 4px;\n",
       "    }\n",
       "\n",
       "    [theme=dark] .colab-df-convert {\n",
       "      background-color: #3B4455;\n",
       "      fill: #D2E3FC;\n",
       "    }\n",
       "\n",
       "    [theme=dark] .colab-df-convert:hover {\n",
       "      background-color: #434B5C;\n",
       "      box-shadow: 0px 1px 3px 1px rgba(0, 0, 0, 0.15);\n",
       "      filter: drop-shadow(0px 1px 2px rgba(0, 0, 0, 0.3));\n",
       "      fill: #FFFFFF;\n",
       "    }\n",
       "  </style>\n",
       "\n",
       "    <script>\n",
       "      const buttonEl =\n",
       "        document.querySelector('#df-36fb282f-3db6-4ae1-962d-8c9c0acc1f1a button.colab-df-convert');\n",
       "      buttonEl.style.display =\n",
       "        google.colab.kernel.accessAllowed ? 'block' : 'none';\n",
       "\n",
       "      async function convertToInteractive(key) {\n",
       "        const element = document.querySelector('#df-36fb282f-3db6-4ae1-962d-8c9c0acc1f1a');\n",
       "        const dataTable =\n",
       "          await google.colab.kernel.invokeFunction('convertToInteractive',\n",
       "                                                    [key], {});\n",
       "        if (!dataTable) return;\n",
       "\n",
       "        const docLinkHtml = 'Like what you see? Visit the ' +\n",
       "          '<a target=\"_blank\" href=https://colab.research.google.com/notebooks/data_table.ipynb>data table notebook</a>'\n",
       "          + ' to learn more about interactive tables.';\n",
       "        element.innerHTML = '';\n",
       "        dataTable['output_type'] = 'display_data';\n",
       "        await google.colab.output.renderOutput(dataTable, element);\n",
       "        const docLink = document.createElement('div');\n",
       "        docLink.innerHTML = docLinkHtml;\n",
       "        element.appendChild(docLink);\n",
       "      }\n",
       "    </script>\n",
       "  </div>\n",
       "\n",
       "\n",
       "  <div id=\"id_b6248238-8d21-429d-a6b9-21332480de1a\">\n",
       "    <style>\n",
       "      .colab-df-generate {\n",
       "        background-color: #E8F0FE;\n",
       "        border: none;\n",
       "        border-radius: 50%;\n",
       "        cursor: pointer;\n",
       "        display: none;\n",
       "        fill: #1967D2;\n",
       "        height: 32px;\n",
       "        padding: 0 0 0 0;\n",
       "        width: 32px;\n",
       "      }\n",
       "\n",
       "      .colab-df-generate:hover {\n",
       "        background-color: #E2EBFA;\n",
       "        box-shadow: 0px 1px 2px rgba(60, 64, 67, 0.3), 0px 1px 3px 1px rgba(60, 64, 67, 0.15);\n",
       "        fill: #174EA6;\n",
       "      }\n",
       "\n",
       "      [theme=dark] .colab-df-generate {\n",
       "        background-color: #3B4455;\n",
       "        fill: #D2E3FC;\n",
       "      }\n",
       "\n",
       "      [theme=dark] .colab-df-generate:hover {\n",
       "        background-color: #434B5C;\n",
       "        box-shadow: 0px 1px 3px 1px rgba(0, 0, 0, 0.15);\n",
       "        filter: drop-shadow(0px 1px 2px rgba(0, 0, 0, 0.3));\n",
       "        fill: #FFFFFF;\n",
       "      }\n",
       "    </style>\n",
       "    <button class=\"colab-df-generate\" onclick=\"generateWithVariable('log')\"\n",
       "            title=\"Generate code using this dataframe.\"\n",
       "            style=\"display:none;\">\n",
       "\n",
       "  <svg xmlns=\"http://www.w3.org/2000/svg\" height=\"24px\"viewBox=\"0 0 24 24\"\n",
       "       width=\"24px\">\n",
       "    <path d=\"M7,19H8.4L18.45,9,17,7.55,7,17.6ZM5,21V16.75L18.45,3.32a2,2,0,0,1,2.83,0l1.4,1.43a1.91,1.91,0,0,1,.58,1.4,1.91,1.91,0,0,1-.58,1.4L9.25,21ZM18.45,9,17,7.55Zm-12,3A5.31,5.31,0,0,0,4.9,8.1,5.31,5.31,0,0,0,1,6.5,5.31,5.31,0,0,0,4.9,4.9,5.31,5.31,0,0,0,6.5,1,5.31,5.31,0,0,0,8.1,4.9,5.31,5.31,0,0,0,12,6.5,5.46,5.46,0,0,0,6.5,12Z\"/>\n",
       "  </svg>\n",
       "    </button>\n",
       "    <script>\n",
       "      (() => {\n",
       "      const buttonEl =\n",
       "        document.querySelector('#id_b6248238-8d21-429d-a6b9-21332480de1a button.colab-df-generate');\n",
       "      buttonEl.style.display =\n",
       "        google.colab.kernel.accessAllowed ? 'block' : 'none';\n",
       "\n",
       "      buttonEl.onclick = () => {\n",
       "        google.colab.notebook.generateWithVariable('log');\n",
       "      }\n",
       "      })();\n",
       "    </script>\n",
       "  </div>\n",
       "\n",
       "    </div>\n",
       "  </div>\n"
      ],
      "text/plain": [
       "      model   params            device_name vocab_size train_tokens  \\\n",
       "0  LMModel3  6487313                    mps      50257      1920000   \n",
       "1  LMModel3  6487313               Tesla T4      50257      1920000   \n",
       "2  LMModel3  6487313   Tesla V100-SXM2-16GB      50257      1920000   \n",
       "3  LMModel3  6487313  NVIDIA A100-SXM4-40GB      50257      1920000   \n",
       "\n",
       "  test_tokens batch_size epochs  train_time  train_loss  test_loss  accuracy  \\\n",
       "0     1920000         64      1  284.984944    5.295207   4.621000  0.231564   \n",
       "1     1920000         64      1   53.554449    5.290185   4.608912  0.233263   \n",
       "2     1920000         64      1   42.597042    5.283650   4.595851  0.232405   \n",
       "3     1920000         64      1   33.035805    5.291462   4.612990  0.230420   \n",
       "\n",
       "                                              sample  \n",
       "0  Once upon a time colorful. They thinks it.\\nOn...  \n",
       "1  Once upon a time on the toys in and theyAUD so...  \n",
       "2  Once upon a time tried to worried of. The dog ...  \n",
       "3  Once upon a time they in mom needed and Worldw...  "
      ]
     },
     "execution_count": 44,
     "metadata": {},
     "output_type": "execute_result"
    }
   ],
   "source": [
    "log"
   ]
  },
  {
   "cell_type": "code",
   "execution_count": null,
   "id": "1ecb2fc3-99a8-484b-b5e3-a6fe9442ed1f",
   "metadata": {
    "id": "1ecb2fc3-99a8-484b-b5e3-a6fe9442ed1f"
   },
   "outputs": [],
   "source": [
    "pd.to_pickle(log, log_path)"
   ]
  },
  {
   "cell_type": "markdown",
   "id": "83f1a0d5-d3d3-446e-a3b9-613253772968",
   "metadata": {
    "id": "83f1a0d5-d3d3-446e-a3b9-613253772968"
   },
   "source": [
    "## Notes\n",
    "\n",
    "First, very simple model (LMModel3) training for one epoch with less than 2m tokens took 5 minutes on my Macbook and less than a minute on Colab with a real GPU. The A100 was only twice as fast at the T4, which just suggests we are no where near to the point where we need the power of the A100."
   ]
  },
  {
   "cell_type": "markdown",
   "id": "7687df16-a521-4ba0-8b3b-89585f174ea2",
   "metadata": {
    "id": "7687df16-a521-4ba0-8b3b-89585f174ea2"
   },
   "source": [
    "# Training LMModel4 (Predict next token after every token)"
   ]
  },
  {
   "cell_type": "code",
   "execution_count": 133,
   "id": "28a88da1-3fdc-4edd-b39c-407d0655e6e5",
   "metadata": {
    "executionInfo": {
     "elapsed": 242,
     "status": "ok",
     "timestamp": 1694538761953,
     "user": {
      "displayName": "Alex Dow",
      "userId": "06741101372127917949"
     },
     "user_tz": 420
    },
    "id": "28a88da1-3fdc-4edd-b39c-407d0655e6e5"
   },
   "outputs": [],
   "source": [
    "bs = 64\n",
    "lr = 3e-3\n",
    "epochs = 5\n",
    "seq_len = 16"
   ]
  },
  {
   "cell_type": "code",
   "execution_count": 115,
   "id": "8ab6edba-b415-415d-9a2a-948f592d10bf",
   "metadata": {
    "colab": {
     "base_uri": "https://localhost:8080/"
    },
    "executionInfo": {
     "elapsed": 1,
     "status": "ok",
     "timestamp": 1694538512742,
     "user": {
      "displayName": "Alex Dow",
      "userId": "06741101372127917949"
     },
     "user_tz": 420
    },
    "id": "8ab6edba-b415-415d-9a2a-948f592d10bf",
    "outputId": "52b4200f-3fe3-466f-be11-fab75ff9e201"
   },
   "outputs": [
    {
     "data": {
      "text/plain": [
       "50257"
      ]
     },
     "execution_count": 115,
     "metadata": {},
     "output_type": "execute_result"
    }
   ],
   "source": [
    "vocab_size = tokenizer.vocab_size\n",
    "vocab_size"
   ]
  },
  {
   "cell_type": "code",
   "execution_count": 116,
   "id": "buAjGeR8H2Gl",
   "metadata": {
    "colab": {
     "base_uri": "https://localhost:8080/"
    },
    "executionInfo": {
     "elapsed": 7,
     "status": "ok",
     "timestamp": 1694538513843,
     "user": {
      "displayName": "Alex Dow",
      "userId": "06741101372127917949"
     },
     "user_tz": 420
    },
    "id": "buAjGeR8H2Gl",
    "outputId": "990f61a6-1973-40f7-a262-5d11a8671034"
   },
   "outputs": [
    {
     "data": {
      "text/plain": [
       "('cuda', 'Tesla T4')"
      ]
     },
     "execution_count": 116,
     "metadata": {},
     "output_type": "execute_result"
    }
   ],
   "source": [
    "if torch.backends.mps.is_available():\n",
    "    def_device = device_name = 'mps'\n",
    "elif torch.cuda.is_available():\n",
    "    def_device = 'cuda'\n",
    "    device_name = torch.cuda.get_device_name(0)\n",
    "else:\n",
    "    def_device = device_name = 'cpu'\n",
    "def_device, device_name"
   ]
  },
  {
   "cell_type": "code",
   "execution_count": 117,
   "id": "bb0f31c6-8fda-4a14-ab99-77a79f21514a",
   "metadata": {
    "executionInfo": {
     "elapsed": 4,
     "status": "ok",
     "timestamp": 1694538514989,
     "user": {
      "displayName": "Alex Dow",
      "userId": "06741101372127917949"
     },
     "user_tz": 420
    },
    "id": "bb0f31c6-8fda-4a14-ab99-77a79f21514a"
   },
   "outputs": [],
   "source": [
    "def get_sequences_from_doc(doc, seq_len):\n",
    "    return [(doc[i:i+seq_len], doc[i+1:i+seq_len+1]) for i in range(0,len(doc)-seq_len-1,seq_len)]\n",
    "\n",
    "def get_sequences_from_ds(ds, seq_len, token_limit):\n",
    "    seqs = []\n",
    "    for doc in ds:\n",
    "        i = 0 if len(seqs)==0 else i+1\n",
    "        seqs.extend(get_sequences_from_doc(tensor(doc['input_ids']), seq_len))\n",
    "        if i % 1000 == 0:\n",
    "            print(f'{len(seqs)}/{token_limit} done')\n",
    "        if len(seqs)*seq_len >= token_limit:\n",
    "            break\n",
    "    return seqs"
   ]
  },
  {
   "cell_type": "code",
   "execution_count": 118,
   "id": "332e9a2a-1110-4c6f-a196-53bfcb240383",
   "metadata": {
    "colab": {
     "base_uri": "https://localhost:8080/"
    },
    "executionInfo": {
     "elapsed": 20075,
     "status": "ok",
     "timestamp": 1694538536916,
     "user": {
      "displayName": "Alex Dow",
      "userId": "06741101372127917949"
     },
     "user_tz": 420
    },
    "id": "332e9a2a-1110-4c6f-a196-53bfcb240383",
    "outputId": "1952062f-9be9-40bb-e23d-625f610de88e"
   },
   "outputs": [
    {
     "name": "stdout",
     "output_type": "stream",
     "text": [
      "getting training sequences\n",
      "62/1920000.0 done\n",
      "65885/1920000.0 done\n",
      "132398/1920000.0 done\n",
      "198478/1920000.0 done\n",
      "265368/1920000.0 done\n",
      "331051/1920000.0 done\n",
      "396882/1920000.0 done\n",
      "462737/1920000.0 done\n",
      "529767/1920000.0 done\n",
      "596213/1920000.0 done\n",
      "getting testing sequences\n",
      "69/1920000.0 done\n",
      "64681/1920000.0 done\n",
      "129571/1920000.0 done\n",
      "194245/1920000.0 done\n",
      "259498/1920000.0 done\n",
      "324271/1920000.0 done\n",
      "389586/1920000.0 done\n",
      "453914/1920000.0 done\n",
      "519785/1920000.0 done\n",
      "585284/1920000.0 done\n"
     ]
    }
   ],
   "source": [
    "print('getting training sequences')\n",
    "train_seqs = get_sequences_from_ds(tds['train'], seq_len, token_limit)\n",
    "print('getting testing sequences')\n",
    "test_seqs = get_sequences_from_ds(tds['test'], seq_len, token_limit)"
   ]
  },
  {
   "cell_type": "code",
   "execution_count": 119,
   "id": "1674d3ef-2de2-4e48-acac-193ba91426bd",
   "metadata": {
    "colab": {
     "base_uri": "https://localhost:8080/"
    },
    "executionInfo": {
     "elapsed": 255,
     "status": "ok",
     "timestamp": 1694538539765,
     "user": {
      "displayName": "Alex Dow",
      "userId": "06741101372127917949"
     },
     "user_tz": 420
    },
    "id": "1674d3ef-2de2-4e48-acac-193ba91426bd",
    "outputId": "71f568cc-e740-412a-f805-787b57fd067c"
   },
   "outputs": [
    {
     "data": {
      "text/plain": [
       "(640015, 640006)"
      ]
     },
     "execution_count": 119,
     "metadata": {},
     "output_type": "execute_result"
    }
   ],
   "source": [
    "len(train_seqs), len(test_seqs)"
   ]
  },
  {
   "cell_type": "code",
   "execution_count": 120,
   "id": "cd12815d-fc59-4679-9c88-9d8254dc1e57",
   "metadata": {
    "colab": {
     "base_uri": "https://localhost:8080/"
    },
    "executionInfo": {
     "elapsed": 282,
     "status": "ok",
     "timestamp": 1694538549713,
     "user": {
      "displayName": "Alex Dow",
      "userId": "06741101372127917949"
     },
     "user_tz": 420
    },
    "id": "cd12815d-fc59-4679-9c88-9d8254dc1e57",
    "outputId": "1b3188ac-1991-4ff6-da31-8bf4a60960af"
   },
   "outputs": [
    {
     "data": {
      "text/plain": [
       "(tensor([7454, 2402,  257]), tensor([2402,  257,  640]))"
      ]
     },
     "execution_count": 120,
     "metadata": {},
     "output_type": "execute_result"
    }
   ],
   "source": [
    "train_seqs[0]"
   ]
  },
  {
   "cell_type": "code",
   "execution_count": 121,
   "id": "44b1586c-8adc-4500-b932-3be77e3f0f99",
   "metadata": {
    "colab": {
     "base_uri": "https://localhost:8080/"
    },
    "executionInfo": {
     "elapsed": 345,
     "status": "ok",
     "timestamp": 1694538564365,
     "user": {
      "displayName": "Alex Dow",
      "userId": "06741101372127917949"
     },
     "user_tz": 420
    },
    "id": "44b1586c-8adc-4500-b932-3be77e3f0f99",
    "outputId": "75c5f623-8706-4204-d6f1-11fb5a786aa4"
   },
   "outputs": [
    {
     "data": {
      "text/plain": [
       "(tensor([640, 612, 373]), tensor([612, 373, 257]))"
      ]
     },
     "execution_count": 121,
     "metadata": {},
     "output_type": "execute_result"
    }
   ],
   "source": [
    "train_seqs[1]"
   ]
  },
  {
   "cell_type": "code",
   "execution_count": 122,
   "id": "c94c5a60-fd26-485e-a846-713f20b28d56",
   "metadata": {
    "executionInfo": {
     "elapsed": 352,
     "status": "ok",
     "timestamp": 1694538572043,
     "user": {
      "displayName": "Alex Dow",
      "userId": "06741101372127917949"
     },
     "user_tz": 420
    },
    "id": "c94c5a60-fd26-485e-a846-713f20b28d56"
   },
   "outputs": [],
   "source": [
    "train_dl = DataLoader(group_chunks(train_seqs, bs), batch_size=bs, shuffle=False, drop_last=True)\n",
    "test_dl = DataLoader(group_chunks(train_seqs, bs), batch_size=bs, shuffle=False, drop_last=True)"
   ]
  },
  {
   "cell_type": "code",
   "execution_count": 123,
   "id": "1M08qa7OmVkv",
   "metadata": {
    "executionInfo": {
     "elapsed": 4,
     "status": "ok",
     "timestamp": 1694538573477,
     "user": {
      "displayName": "Alex Dow",
      "userId": "06741101372127917949"
     },
     "user_tz": 420
    },
    "id": "1M08qa7OmVkv"
   },
   "outputs": [],
   "source": [
    "class LMModel4(nn.Module):\n",
    "    def __init__(self, vocab_sz, n_hidden):\n",
    "      super().__init__()\n",
    "      self.i_h = nn.Embedding(vocab_sz, n_hidden)\n",
    "      self.h_h = nn.Linear(n_hidden, n_hidden)\n",
    "      self.h_o = nn.Linear(n_hidden,vocab_sz)\n",
    "      self.h = 0\n",
    "\n",
    "    def forward(self, x):\n",
    "        outs = []\n",
    "        for i in range(seq_len):\n",
    "            self.h = self.h + self.i_h(x[:,i])\n",
    "            self.h = F.relu(self.h_h(self.h))\n",
    "            outs.append(self.h_o(self.h))\n",
    "        self.h = self.h.detach()\n",
    "        return torch.stack(outs, dim=1)\n",
    "\n",
    "    def reset(self): self.h = 0\n",
    "\n",
    "    def generate(self, x, max_new_tokens):\n",
    "        # x is (B, T) array of indices in the current context\n",
    "        for _ in range(max_new_tokens):\n",
    "            # get the predictions based on seq_len most recent tokens\n",
    "            logits = self(x[:,-seq_len:]) # (B, T, C)\n",
    "            # focus only on the last time step\n",
    "            logits = logits[:, -1, :] # becomes (B, C)\n",
    "            # apply softmax to get probabilities\n",
    "            probs = F.softmax(logits, dim=-1) # (B, C)\n",
    "            # sample from the distribution\n",
    "            x_next = torch.multinomial(probs, num_samples=1) # (B, 1)\n",
    "            # append sampled index to the running sequence\n",
    "            x = torch.cat((x, x_next), dim=1) # (B, T+1)\n",
    "        return x"
   ]
  },
  {
   "cell_type": "code",
   "execution_count": 124,
   "id": "d5f80503-3541-4af1-a27f-da715e8b9fc6",
   "metadata": {
    "executionInfo": {
     "elapsed": 359,
     "status": "ok",
     "timestamp": 1694538576442,
     "user": {
      "displayName": "Alex Dow",
      "userId": "06741101372127917949"
     },
     "user_tz": 420
    },
    "id": "d5f80503-3541-4af1-a27f-da715e8b9fc6"
   },
   "outputs": [],
   "source": [
    "def train(train_dl, test_dl, model, epochs, one_batch=False):\n",
    "    start_time = time.time()\n",
    "    for epoch in range(epochs):\n",
    "        running_loss = 0.0\n",
    "        for i, data in enumerate(train_dl, 0):\n",
    "            # get the inputs; data is a list of [inputs, labels]\n",
    "            inputs, labels = data\n",
    "            # zero the parameter gradients\n",
    "            optimizer.zero_grad()\n",
    "            # forward (calc predictions) + backward (calc loss & gradients) +\n",
    "            # optimize (step the weights)\n",
    "            outputs = model(inputs.to(def_device))\n",
    "            # flatten outputs to (BATCH_SIZE * SEQ_LEN, VOCAB_SIZE)\n",
    "            # flatten labels to (BATCH_SIZE * SEQ_LEN)\n",
    "            loss = criterion(outputs.view(-1, vocab_size), labels.view(-1).to(def_device))\n",
    "            loss.backward()\n",
    "            optimizer.step()\n",
    "            # tally loss\n",
    "            running_loss += loss.item()\n",
    "            if i % 200 == 199:    # print every 200 mini-batches\n",
    "                print(f'\\t[{epoch + 1}, {i+1:5d}] loss: {running_loss / (i+1):.3f}')\n",
    "            if one_batch:\n",
    "                if epoch % 100 == 0:\n",
    "                    print(f'\\t[{epoch + 1}, {i+1:5d}] loss: {running_loss / (i+1):.3f}')\n",
    "                break\n",
    "        # reset hidden state before validation\n",
    "        model.reset()\n",
    "        if one_batch:\n",
    "            continue\n",
    "        # calc validation loss and accuracy\n",
    "        running_valid_loss = 0.0\n",
    "        correct = 0\n",
    "        total = 0\n",
    "        with torch.no_grad():\n",
    "            for valid_i, valid_data in enumerate(test_dl, 0):\n",
    "                inputs, labels = valid_data\n",
    "                outputs = model(inputs.to(def_device))\n",
    "                valid_loss = criterion(outputs.view(-1, vocab_size), labels.view(-1).to(def_device))\n",
    "                running_valid_loss += valid_loss.item()\n",
    "                # max across VOCAB_SIZE dim, result shape (BATCH_SIZE, SEQ_LEN)\n",
    "                _, predicted = torch.max(outputs, 2)\n",
    "                total += torch.numel(labels)\n",
    "                correct += (predicted == labels.to(def_device)).sum().item()\n",
    "        # print stats\n",
    "        print(f'[{epoch + 1}, {i + 1:5d}] train loss: {running_loss / (i+1):.3f} valid loss: {running_valid_loss / (valid_i+1):.3f} valid i: {valid_i} accuracy: {correct / total:.3f}')\n",
    "        # reset hidden state before next epoch\n",
    "        model.reset()\n",
    "    print('Finished Training')\n",
    "    train_time = time.time() - start_time\n",
    "    print(f'{train_time} seconds')\n",
    "    train_loss = running_loss / (i+1)\n",
    "    if one_batch:\n",
    "        test_loss = None\n",
    "        _, predicted = torch.max(outputs, 2)\n",
    "        total = torch.numel(labels)\n",
    "        correct = (predicted == labels.to(def_device)).sum().item()\n",
    "    else:\n",
    "        test_loss = running_valid_loss / (valid_i+1)\n",
    "    accuracy = correct / total\n",
    "    return train_time, train_loss, test_loss, accuracy"
   ]
  },
  {
   "cell_type": "code",
   "execution_count": 125,
   "id": "-9LS3VDJVEv_",
   "metadata": {
    "colab": {
     "base_uri": "https://localhost:8080/"
    },
    "executionInfo": {
     "elapsed": 13538,
     "status": "ok",
     "timestamp": 1694538594335,
     "user": {
      "displayName": "Alex Dow",
      "userId": "06741101372127917949"
     },
     "user_tz": 420
    },
    "id": "-9LS3VDJVEv_",
    "outputId": "55e9fd46-7616-414c-f52c-bba644b9a288"
   },
   "outputs": [
    {
     "name": "stdout",
     "output_type": "stream",
     "text": [
      "\t[1,     1] loss: 10.845\n",
      "\t[101,     1] loss: 9.619\n",
      "\t[201,     1] loss: 6.620\n",
      "\t[301,     1] loss: 4.063\n",
      "\t[401,     1] loss: 2.352\n",
      "\t[501,     1] loss: 1.382\n",
      "\t[601,     1] loss: 0.860\n",
      "\t[701,     1] loss: 0.546\n",
      "\t[801,     1] loss: 0.370\n",
      "\t[901,     1] loss: 0.273\n",
      "\t[1001,     1] loss: 0.223\n",
      "\t[1101,     1] loss: 0.193\n",
      "\t[1201,     1] loss: 0.176\n",
      "\t[1301,     1] loss: 0.167\n",
      "\t[1401,     1] loss: 0.161\n",
      "\t[1501,     1] loss: 0.157\n",
      "\t[1601,     1] loss: 0.154\n",
      "\t[1701,     1] loss: 0.152\n",
      "\t[1801,     1] loss: 0.150\n",
      "\t[1901,     1] loss: 0.149\n",
      "Finished Training\n",
      "13.018299341201782 seconds\n",
      "overfit_train_loss=0.15\n",
      "overfit_train_accuracy=0.93\n"
     ]
    }
   ],
   "source": [
    "# sanity check: overfit on a single batch\n",
    "model = LMModel4(vocab_size, 64).to(def_device)\n",
    "criterion = nn.CrossEntropyLoss()\n",
    "optimizer = torch.optim.SGD(model.parameters(), lr = lr, momentum = 0.9)\n",
    "_, overfit_train_loss, _, overfit_train_accuracy = train(train_dl, test_dl, model, epochs=2000, one_batch=True)\n",
    "print(f'{overfit_train_loss=:0.2f}\\n{overfit_train_accuracy=:0.2f}')"
   ]
  },
  {
   "cell_type": "code",
   "execution_count": 134,
   "id": "648453a8-c9d8-4963-b055-4e444efbbecc",
   "metadata": {
    "colab": {
     "base_uri": "https://localhost:8080/"
    },
    "executionInfo": {
     "elapsed": 481,
     "status": "ok",
     "timestamp": 1694538786572,
     "user": {
      "displayName": "Alex Dow",
      "userId": "06741101372127917949"
     },
     "user_tz": 420
    },
    "id": "648453a8-c9d8-4963-b055-4e444efbbecc",
    "outputId": "847c6a9e-3df1-4ad9-99a1-0f81e6dd9007"
   },
   "outputs": [
    {
     "data": {
      "text/plain": [
       "LMModel4(\n",
       "  (i_h): Embedding(50257, 64)\n",
       "  (h_h): Linear(in_features=64, out_features=64, bias=True)\n",
       "  (h_o): Linear(in_features=64, out_features=50257, bias=True)\n",
       ")"
      ]
     },
     "execution_count": 134,
     "metadata": {},
     "output_type": "execute_result"
    }
   ],
   "source": [
    "# init\n",
    "model = LMModel4(vocab_size, 64).to(def_device)\n",
    "criterion = nn.CrossEntropyLoss()\n",
    "optimizer = torch.optim.SGD(model.parameters(), lr = lr, momentum = 0.9)\n",
    "model"
   ]
  },
  {
   "cell_type": "code",
   "execution_count": 135,
   "id": "52f58ff7-54b9-4997-af1f-51af4ee6f9e0",
   "metadata": {
    "colab": {
     "base_uri": "https://localhost:8080/",
     "height": 1000
    },
    "executionInfo": {
     "elapsed": 135406,
     "status": "ok",
     "timestamp": 1694538924758,
     "user": {
      "displayName": "Alex Dow",
      "userId": "06741101372127917949"
     },
     "user_tz": 420
    },
    "id": "52f58ff7-54b9-4997-af1f-51af4ee6f9e0",
    "outputId": "b4256414-419f-4697-b744-f5c807a7562a"
   },
   "outputs": [
    {
     "name": "stdout",
     "output_type": "stream",
     "text": [
      "\t[1,   200] loss: 10.254\n",
      "\t[1,   400] loss: 9.283\n",
      "\t[1,   600] loss: 8.553\n",
      "\t[1,   800] loss: 8.045\n",
      "\t[1,  1000] loss: 7.695\n",
      "\t[1,  1200] loss: 7.426\n",
      "\t[1,  1400] loss: 7.209\n",
      "\t[1,  1600] loss: 7.031\n",
      "\t[1,  1800] loss: 6.882\n",
      "\t[1,  2000] loss: 6.753\n",
      "\t[1,  2200] loss: 6.637\n",
      "\t[1,  2400] loss: 6.536\n",
      "\t[1,  2600] loss: 6.441\n",
      "\t[1,  2800] loss: 6.359\n",
      "\t[1,  3000] loss: 6.287\n",
      "\t[1,  3200] loss: 6.218\n",
      "\t[1,  3400] loss: 6.159\n",
      "\t[1,  3600] loss: 6.101\n",
      "\t[1,  3800] loss: 6.048\n",
      "\t[1,  4000] loss: 6.001\n",
      "\t[1,  4200] loss: 5.952\n",
      "\t[1,  4400] loss: 5.909\n",
      "\t[1,  4600] loss: 5.868\n",
      "\t[1,  4800] loss: 5.831\n",
      "\t[1,  5000] loss: 5.795\n",
      "\t[1,  5200] loss: 5.758\n",
      "\t[1,  5400] loss: 5.726\n",
      "\t[1,  5600] loss: 5.695\n",
      "\t[1,  5800] loss: 5.666\n",
      "\t[1,  6000] loss: 5.638\n",
      "\t[1,  6200] loss: 5.610\n",
      "\t[1,  6400] loss: 5.583\n",
      "\t[1,  6600] loss: 5.560\n",
      "\t[1,  6800] loss: 5.538\n",
      "\t[1,  7000] loss: 5.517\n",
      "\t[1,  7200] loss: 5.495\n",
      "\t[1,  7400] loss: 5.473\n",
      "\t[1,  7600] loss: 5.452\n",
      "\t[1,  7800] loss: 5.432\n",
      "\t[1,  8000] loss: 5.412\n",
      "\t[1,  8200] loss: 5.395\n",
      "\t[1,  8400] loss: 5.377\n",
      "\t[1,  8600] loss: 5.361\n",
      "\t[1,  8800] loss: 5.345\n",
      "\t[1,  9000] loss: 5.330\n",
      "\t[1,  9200] loss: 5.313\n",
      "\t[1,  9400] loss: 5.299\n",
      "\t[1,  9600] loss: 5.286\n",
      "\t[1,  9800] loss: 5.271\n",
      "\t[1, 10000] loss: 5.258\n",
      "[1, 10000] train loss: 5.258 valid loss: 4.587 valid i: 9999 accuracy: 0.230\n",
      "\t[2,   200] loss: 4.600\n",
      "\t[2,   400] loss: 4.598\n",
      "\t[2,   600] loss: 4.599\n",
      "\t[2,   800] loss: 4.577\n",
      "\t[2,  1000] loss: 4.575\n",
      "\t[2,  1200] loss: 4.579\n",
      "\t[2,  1400] loss: 4.577\n",
      "\t[2,  1600] loss: 4.569\n",
      "\t[2,  1800] loss: 4.573\n",
      "\t[2,  2000] loss: 4.572\n",
      "\t[2,  2200] loss: 4.566\n",
      "\t[2,  2400] loss: 4.560\n",
      "\t[2,  2600] loss: 4.552\n",
      "\t[2,  2800] loss: 4.550\n",
      "\t[2,  3000] loss: 4.545\n",
      "\t[2,  3200] loss: 4.539\n",
      "\t[2,  3400] loss: 4.537\n",
      "\t[2,  3600] loss: 4.533\n",
      "\t[2,  3800] loss: 4.527\n",
      "\t[2,  4000] loss: 4.525\n",
      "\t[2,  4200] loss: 4.520\n",
      "\t[2,  4400] loss: 4.516\n",
      "\t[2,  4600] loss: 4.511\n",
      "\t[2,  4800] loss: 4.509\n",
      "\t[2,  5000] loss: 4.505\n",
      "\t[2,  5200] loss: 4.499\n",
      "\t[2,  5400] loss: 4.496\n",
      "\t[2,  5600] loss: 4.491\n",
      "\t[2,  5800] loss: 4.488\n",
      "\t[2,  6000] loss: 4.485\n",
      "\t[2,  6200] loss: 4.481\n",
      "\t[2,  6400] loss: 4.477\n",
      "\t[2,  6600] loss: 4.474\n",
      "\t[2,  6800] loss: 4.473\n",
      "\t[2,  7000] loss: 4.471\n",
      "\t[2,  7200] loss: 4.468\n"
     ]
    },
    {
     "ename": "KeyboardInterrupt",
     "evalue": "ignored",
     "output_type": "error",
     "traceback": [
      "\u001b[0;31m---------------------------------------------------------------------------\u001b[0m",
      "\u001b[0;31mKeyboardInterrupt\u001b[0m                         Traceback (most recent call last)",
      "\u001b[0;32m<timed exec>\u001b[0m in \u001b[0;36m<module>\u001b[0;34m\u001b[0m\n",
      "\u001b[0;32m<ipython-input-124-a62b702b235f>\u001b[0m in \u001b[0;36mtrain\u001b[0;34m(train_dl, test_dl, model, epochs, one_batch)\u001b[0m\n\u001b[1;32m     14\u001b[0m             \u001b[0;31m# flatten labels to (BATCH_SIZE * SEQ_LEN)\u001b[0m\u001b[0;34m\u001b[0m\u001b[0;34m\u001b[0m\u001b[0m\n\u001b[1;32m     15\u001b[0m             \u001b[0mloss\u001b[0m \u001b[0;34m=\u001b[0m \u001b[0mcriterion\u001b[0m\u001b[0;34m(\u001b[0m\u001b[0moutputs\u001b[0m\u001b[0;34m.\u001b[0m\u001b[0mview\u001b[0m\u001b[0;34m(\u001b[0m\u001b[0;34m-\u001b[0m\u001b[0;36m1\u001b[0m\u001b[0;34m,\u001b[0m \u001b[0mvocab_size\u001b[0m\u001b[0;34m)\u001b[0m\u001b[0;34m,\u001b[0m \u001b[0mlabels\u001b[0m\u001b[0;34m.\u001b[0m\u001b[0mview\u001b[0m\u001b[0;34m(\u001b[0m\u001b[0;34m-\u001b[0m\u001b[0;36m1\u001b[0m\u001b[0;34m)\u001b[0m\u001b[0;34m.\u001b[0m\u001b[0mto\u001b[0m\u001b[0;34m(\u001b[0m\u001b[0mdef_device\u001b[0m\u001b[0;34m)\u001b[0m\u001b[0;34m)\u001b[0m\u001b[0;34m\u001b[0m\u001b[0;34m\u001b[0m\u001b[0m\n\u001b[0;32m---> 16\u001b[0;31m             \u001b[0mloss\u001b[0m\u001b[0;34m.\u001b[0m\u001b[0mbackward\u001b[0m\u001b[0;34m(\u001b[0m\u001b[0;34m)\u001b[0m\u001b[0;34m\u001b[0m\u001b[0;34m\u001b[0m\u001b[0m\n\u001b[0m\u001b[1;32m     17\u001b[0m             \u001b[0moptimizer\u001b[0m\u001b[0;34m.\u001b[0m\u001b[0mstep\u001b[0m\u001b[0;34m(\u001b[0m\u001b[0;34m)\u001b[0m\u001b[0;34m\u001b[0m\u001b[0;34m\u001b[0m\u001b[0m\n\u001b[1;32m     18\u001b[0m             \u001b[0;31m# tally loss\u001b[0m\u001b[0;34m\u001b[0m\u001b[0;34m\u001b[0m\u001b[0m\n",
      "\u001b[0;32m/usr/local/lib/python3.10/dist-packages/torch/_tensor.py\u001b[0m in \u001b[0;36mbackward\u001b[0;34m(self, gradient, retain_graph, create_graph, inputs)\u001b[0m\n\u001b[1;32m    485\u001b[0m                 \u001b[0minputs\u001b[0m\u001b[0;34m=\u001b[0m\u001b[0minputs\u001b[0m\u001b[0;34m,\u001b[0m\u001b[0;34m\u001b[0m\u001b[0;34m\u001b[0m\u001b[0m\n\u001b[1;32m    486\u001b[0m             )\n\u001b[0;32m--> 487\u001b[0;31m         torch.autograd.backward(\n\u001b[0m\u001b[1;32m    488\u001b[0m             \u001b[0mself\u001b[0m\u001b[0;34m,\u001b[0m \u001b[0mgradient\u001b[0m\u001b[0;34m,\u001b[0m \u001b[0mretain_graph\u001b[0m\u001b[0;34m,\u001b[0m \u001b[0mcreate_graph\u001b[0m\u001b[0;34m,\u001b[0m \u001b[0minputs\u001b[0m\u001b[0;34m=\u001b[0m\u001b[0minputs\u001b[0m\u001b[0;34m\u001b[0m\u001b[0;34m\u001b[0m\u001b[0m\n\u001b[1;32m    489\u001b[0m         )\n",
      "\u001b[0;32m/usr/local/lib/python3.10/dist-packages/torch/autograd/__init__.py\u001b[0m in \u001b[0;36mbackward\u001b[0;34m(tensors, grad_tensors, retain_graph, create_graph, grad_variables, inputs)\u001b[0m\n\u001b[1;32m    198\u001b[0m     \u001b[0;31m# some Python versions print out the first line of a multi-line function\u001b[0m\u001b[0;34m\u001b[0m\u001b[0;34m\u001b[0m\u001b[0m\n\u001b[1;32m    199\u001b[0m     \u001b[0;31m# calls in the traceback and some print out the last line\u001b[0m\u001b[0;34m\u001b[0m\u001b[0;34m\u001b[0m\u001b[0m\n\u001b[0;32m--> 200\u001b[0;31m     Variable._execution_engine.run_backward(  # Calls into the C++ engine to run the backward pass\n\u001b[0m\u001b[1;32m    201\u001b[0m         \u001b[0mtensors\u001b[0m\u001b[0;34m,\u001b[0m \u001b[0mgrad_tensors_\u001b[0m\u001b[0;34m,\u001b[0m \u001b[0mretain_graph\u001b[0m\u001b[0;34m,\u001b[0m \u001b[0mcreate_graph\u001b[0m\u001b[0;34m,\u001b[0m \u001b[0minputs\u001b[0m\u001b[0;34m,\u001b[0m\u001b[0;34m\u001b[0m\u001b[0;34m\u001b[0m\u001b[0m\n\u001b[1;32m    202\u001b[0m         allow_unreachable=True, accumulate_grad=True)  # Calls into the C++ engine to run the backward pass\n",
      "\u001b[0;31mKeyboardInterrupt\u001b[0m: "
     ]
    }
   ],
   "source": [
    "%%time\n",
    "# train\n",
    "train_time, train_loss, test_loss, accuracy = train(train_dl, test_dl, model, epochs)"
   ]
  },
  {
   "cell_type": "code",
   "execution_count": 128,
   "id": "b3eead84-3465-42ad-aa60-d1fd11b87bcf",
   "metadata": {
    "colab": {
     "base_uri": "https://localhost:8080/"
    },
    "executionInfo": {
     "elapsed": 258,
     "status": "ok",
     "timestamp": 1694538696916,
     "user": {
      "displayName": "Alex Dow",
      "userId": "06741101372127917949"
     },
     "user_tz": 420
    },
    "id": "b3eead84-3465-42ad-aa60-d1fd11b87bcf",
    "outputId": "cafa5d72-256d-4d46-af29-1e403e29bc7a"
   },
   "outputs": [
    {
     "name": "stdout",
     "output_type": "stream",
     "text": [
      "Once upon a time, why lived all day, a little chest moved fixed to play with near as to listen food\n"
     ]
    }
   ],
   "source": [
    "# do some generation\n",
    "model.reset()\n",
    "with torch.no_grad():\n",
    "    prompt = tensor(tds['train'][0]['input_ids'][:seq_len]).view(1, -1)\n",
    "    gen_txt = model.generate(prompt.to(def_device), max_new_tokens=20)[0].tolist()\n",
    "    print(tokenizer.decode(gen_txt))"
   ]
  },
  {
   "cell_type": "markdown",
   "id": "4d94f310-483d-4664-9a26-6d95666dc8ce",
   "metadata": {
    "id": "4d94f310-483d-4664-9a26-6d95666dc8ce"
   },
   "source": [
    "**Log results**"
   ]
  },
  {
   "cell_type": "code",
   "execution_count": 129,
   "id": "4de0b9b5-fc44-440d-8d71-61afadb6116f",
   "metadata": {
    "executionInfo": {
     "elapsed": 265,
     "status": "ok",
     "timestamp": 1694538700809,
     "user": {
      "displayName": "Alex Dow",
      "userId": "06741101372127917949"
     },
     "user_tz": 420
    },
    "id": "4de0b9b5-fc44-440d-8d71-61afadb6116f"
   },
   "outputs": [],
   "source": [
    "log_dir = Path(project_dir/'logs')\n",
    "log_dir.mkdir(exist_ok=True)"
   ]
  },
  {
   "cell_type": "code",
   "execution_count": 130,
   "id": "b70f1867-8c05-41b7-bcd4-8b09d7385408",
   "metadata": {
    "executionInfo": {
     "elapsed": 4,
     "status": "ok",
     "timestamp": 1694538702058,
     "user": {
      "displayName": "Alex Dow",
      "userId": "06741101372127917949"
     },
     "user_tz": 420
    },
    "id": "b70f1867-8c05-41b7-bcd4-8b09d7385408"
   },
   "outputs": [],
   "source": [
    "log_path = log_dir/'log.pkl'\n",
    "if os.path.exists(log_path):\n",
    "    log = pd.read_pickle(log_path)\n",
    "else:\n",
    "    log = pd.DataFrame(columns=['model', 'params', 'device_name', 'vocab_size', 'train_tokens', 'test_tokens', 'seq_len',\n",
    "                                'batch_size', 'epochs', 'train_time', 'train_loss', 'test_loss', 'accuracy', 'sample'])"
   ]
  },
  {
   "cell_type": "code",
   "execution_count": 131,
   "id": "5556d64d-654f-4944-85c4-e77447306c73",
   "metadata": {
    "executionInfo": {
     "elapsed": 433,
     "status": "ok",
     "timestamp": 1694538704644,
     "user": {
      "displayName": "Alex Dow",
      "userId": "06741101372127917949"
     },
     "user_tz": 420
    },
    "id": "5556d64d-654f-4944-85c4-e77447306c73"
   },
   "outputs": [],
   "source": [
    "log = \\\n",
    "pd.concat([log,\n",
    "           pd.DataFrame({'model': model.__class__.__name__, 'params': get_params(model),'device_name': device_name,\n",
    "                         'vocab_size': tokenizer.vocab_size, 'train_tokens': seq_len*len(train_dl)*bs,\n",
    "                         'test_tokens': seq_len*len(test_dl)*bs, 'seq_len': seq_len,\n",
    "                         'batch_size': bs, 'epochs':epochs, 'train_time': train_time,\n",
    "                         'train_loss': train_loss, 'test_loss': test_loss, 'accuracy': accuracy,\n",
    "                         'sample': tokenizer.decode(gen_txt)}, index=[len(log)])\n",
    "          ])"
   ]
  },
  {
   "cell_type": "code",
   "execution_count": 132,
   "id": "d6558e64-6112-45d7-851b-fe2e531c70b9",
   "metadata": {
    "colab": {
     "base_uri": "https://localhost:8080/",
     "height": 595
    },
    "executionInfo": {
     "elapsed": 4,
     "status": "ok",
     "timestamp": 1694538705489,
     "user": {
      "displayName": "Alex Dow",
      "userId": "06741101372127917949"
     },
     "user_tz": 420
    },
    "id": "d6558e64-6112-45d7-851b-fe2e531c70b9",
    "outputId": "c845e437-fc81-4b0a-b792-468ca9dec8a2"
   },
   "outputs": [
    {
     "data": {
      "text/html": [
       "\n",
       "  <div id=\"df-257338fe-9241-4f0e-8ea2-740cf06f0a6b\" class=\"colab-df-container\">\n",
       "    <div>\n",
       "<style scoped>\n",
       "    .dataframe tbody tr th:only-of-type {\n",
       "        vertical-align: middle;\n",
       "    }\n",
       "\n",
       "    .dataframe tbody tr th {\n",
       "        vertical-align: top;\n",
       "    }\n",
       "\n",
       "    .dataframe thead th {\n",
       "        text-align: right;\n",
       "    }\n",
       "</style>\n",
       "<table border=\"1\" class=\"dataframe\">\n",
       "  <thead>\n",
       "    <tr style=\"text-align: right;\">\n",
       "      <th></th>\n",
       "      <th>model</th>\n",
       "      <th>params</th>\n",
       "      <th>device_name</th>\n",
       "      <th>vocab_size</th>\n",
       "      <th>train_tokens</th>\n",
       "      <th>test_tokens</th>\n",
       "      <th>seq_len</th>\n",
       "      <th>batch_size</th>\n",
       "      <th>epochs</th>\n",
       "      <th>train_time</th>\n",
       "      <th>train_loss</th>\n",
       "      <th>test_loss</th>\n",
       "      <th>accuracy</th>\n",
       "      <th>sample</th>\n",
       "    </tr>\n",
       "  </thead>\n",
       "  <tbody>\n",
       "    <tr>\n",
       "      <th>0</th>\n",
       "      <td>LMModel3</td>\n",
       "      <td>6487313</td>\n",
       "      <td>mps</td>\n",
       "      <td>50257</td>\n",
       "      <td>1920000</td>\n",
       "      <td>1920000</td>\n",
       "      <td>3</td>\n",
       "      <td>64</td>\n",
       "      <td>1</td>\n",
       "      <td>284.984944</td>\n",
       "      <td>5.295207</td>\n",
       "      <td>4.621000</td>\n",
       "      <td>0.231564</td>\n",
       "      <td>Once upon a time colorful. They thinks it.\\nOn...</td>\n",
       "    </tr>\n",
       "    <tr>\n",
       "      <th>1</th>\n",
       "      <td>LMModel3</td>\n",
       "      <td>6487313</td>\n",
       "      <td>Tesla T4</td>\n",
       "      <td>50257</td>\n",
       "      <td>1920000</td>\n",
       "      <td>1920000</td>\n",
       "      <td>3</td>\n",
       "      <td>64</td>\n",
       "      <td>1</td>\n",
       "      <td>53.554449</td>\n",
       "      <td>5.290185</td>\n",
       "      <td>4.608912</td>\n",
       "      <td>0.233263</td>\n",
       "      <td>Once upon a time on the toys in and theyAUD so...</td>\n",
       "    </tr>\n",
       "    <tr>\n",
       "      <th>2</th>\n",
       "      <td>LMModel3</td>\n",
       "      <td>6487313</td>\n",
       "      <td>Tesla V100-SXM2-16GB</td>\n",
       "      <td>50257</td>\n",
       "      <td>1920000</td>\n",
       "      <td>1920000</td>\n",
       "      <td>3</td>\n",
       "      <td>64</td>\n",
       "      <td>1</td>\n",
       "      <td>42.597042</td>\n",
       "      <td>5.283650</td>\n",
       "      <td>4.595851</td>\n",
       "      <td>0.232405</td>\n",
       "      <td>Once upon a time tried to worried of. The dog ...</td>\n",
       "    </tr>\n",
       "    <tr>\n",
       "      <th>3</th>\n",
       "      <td>LMModel3</td>\n",
       "      <td>6487313</td>\n",
       "      <td>NVIDIA A100-SXM4-40GB</td>\n",
       "      <td>50257</td>\n",
       "      <td>1920000</td>\n",
       "      <td>1920000</td>\n",
       "      <td>3</td>\n",
       "      <td>64</td>\n",
       "      <td>1</td>\n",
       "      <td>33.035805</td>\n",
       "      <td>5.291462</td>\n",
       "      <td>4.612990</td>\n",
       "      <td>0.230420</td>\n",
       "      <td>Once upon a time they in mom needed and Worldw...</td>\n",
       "    </tr>\n",
       "    <tr>\n",
       "      <th>4</th>\n",
       "      <td>LMModel4</td>\n",
       "      <td>6487313</td>\n",
       "      <td>mps</td>\n",
       "      <td>50257</td>\n",
       "      <td>1920000</td>\n",
       "      <td>1920000</td>\n",
       "      <td>16</td>\n",
       "      <td>64</td>\n",
       "      <td>1</td>\n",
       "      <td>5874.020087</td>\n",
       "      <td>6.197495</td>\n",
       "      <td>5.400086</td>\n",
       "      <td>0.193369</td>\n",
       "      <td>Once upon a time there was a little boy named ...</td>\n",
       "    </tr>\n",
       "    <tr>\n",
       "      <th>5</th>\n",
       "      <td>LMModel4</td>\n",
       "      <td>6487313</td>\n",
       "      <td>Tesla T4</td>\n",
       "      <td>50257</td>\n",
       "      <td>1920000</td>\n",
       "      <td>1920000</td>\n",
       "      <td>16</td>\n",
       "      <td>64</td>\n",
       "      <td>1</td>\n",
       "      <td>74.523791</td>\n",
       "      <td>6.187801</td>\n",
       "      <td>5.388711</td>\n",
       "      <td>0.193032</td>\n",
       "      <td>Once upon a time there was a little boy named ...</td>\n",
       "    </tr>\n",
       "    <tr>\n",
       "      <th>6</th>\n",
       "      <td>LMModel4</td>\n",
       "      <td>6487313</td>\n",
       "      <td>Tesla T4</td>\n",
       "      <td>50257</td>\n",
       "      <td>1920000</td>\n",
       "      <td>1920000</td>\n",
       "      <td>16</td>\n",
       "      <td>64</td>\n",
       "      <td>5</td>\n",
       "      <td>376.552830</td>\n",
       "      <td>4.536768</td>\n",
       "      <td>4.486406</td>\n",
       "      <td>0.242363</td>\n",
       "      <td>Once upon a time there was a little boy named ...</td>\n",
       "    </tr>\n",
       "    <tr>\n",
       "      <th>7</th>\n",
       "      <td>LMModel4</td>\n",
       "      <td>6487313</td>\n",
       "      <td>Tesla T4</td>\n",
       "      <td>50257</td>\n",
       "      <td>1920000</td>\n",
       "      <td>1920000</td>\n",
       "      <td>3</td>\n",
       "      <td>64</td>\n",
       "      <td>1</td>\n",
       "      <td>89.348678</td>\n",
       "      <td>5.287874</td>\n",
       "      <td>4.599583</td>\n",
       "      <td>0.228013</td>\n",
       "      <td>Once upon a time, why lived all day, a little ...</td>\n",
       "    </tr>\n",
       "  </tbody>\n",
       "</table>\n",
       "</div>\n",
       "    <div class=\"colab-df-buttons\">\n",
       "\n",
       "  <div class=\"colab-df-container\">\n",
       "    <button class=\"colab-df-convert\" onclick=\"convertToInteractive('df-257338fe-9241-4f0e-8ea2-740cf06f0a6b')\"\n",
       "            title=\"Convert this dataframe to an interactive table.\"\n",
       "            style=\"display:none;\">\n",
       "\n",
       "  <svg xmlns=\"http://www.w3.org/2000/svg\" height=\"24px\" viewBox=\"0 -960 960 960\">\n",
       "    <path d=\"M120-120v-720h720v720H120Zm60-500h600v-160H180v160Zm220 220h160v-160H400v160Zm0 220h160v-160H400v160ZM180-400h160v-160H180v160Zm440 0h160v-160H620v160ZM180-180h160v-160H180v160Zm440 0h160v-160H620v160Z\"/>\n",
       "  </svg>\n",
       "    </button>\n",
       "\n",
       "  <style>\n",
       "    .colab-df-container {\n",
       "      display:flex;\n",
       "      gap: 12px;\n",
       "    }\n",
       "\n",
       "    .colab-df-convert {\n",
       "      background-color: #E8F0FE;\n",
       "      border: none;\n",
       "      border-radius: 50%;\n",
       "      cursor: pointer;\n",
       "      display: none;\n",
       "      fill: #1967D2;\n",
       "      height: 32px;\n",
       "      padding: 0 0 0 0;\n",
       "      width: 32px;\n",
       "    }\n",
       "\n",
       "    .colab-df-convert:hover {\n",
       "      background-color: #E2EBFA;\n",
       "      box-shadow: 0px 1px 2px rgba(60, 64, 67, 0.3), 0px 1px 3px 1px rgba(60, 64, 67, 0.15);\n",
       "      fill: #174EA6;\n",
       "    }\n",
       "\n",
       "    .colab-df-buttons div {\n",
       "      margin-bottom: 4px;\n",
       "    }\n",
       "\n",
       "    [theme=dark] .colab-df-convert {\n",
       "      background-color: #3B4455;\n",
       "      fill: #D2E3FC;\n",
       "    }\n",
       "\n",
       "    [theme=dark] .colab-df-convert:hover {\n",
       "      background-color: #434B5C;\n",
       "      box-shadow: 0px 1px 3px 1px rgba(0, 0, 0, 0.15);\n",
       "      filter: drop-shadow(0px 1px 2px rgba(0, 0, 0, 0.3));\n",
       "      fill: #FFFFFF;\n",
       "    }\n",
       "  </style>\n",
       "\n",
       "    <script>\n",
       "      const buttonEl =\n",
       "        document.querySelector('#df-257338fe-9241-4f0e-8ea2-740cf06f0a6b button.colab-df-convert');\n",
       "      buttonEl.style.display =\n",
       "        google.colab.kernel.accessAllowed ? 'block' : 'none';\n",
       "\n",
       "      async function convertToInteractive(key) {\n",
       "        const element = document.querySelector('#df-257338fe-9241-4f0e-8ea2-740cf06f0a6b');\n",
       "        const dataTable =\n",
       "          await google.colab.kernel.invokeFunction('convertToInteractive',\n",
       "                                                    [key], {});\n",
       "        if (!dataTable) return;\n",
       "\n",
       "        const docLinkHtml = 'Like what you see? Visit the ' +\n",
       "          '<a target=\"_blank\" href=https://colab.research.google.com/notebooks/data_table.ipynb>data table notebook</a>'\n",
       "          + ' to learn more about interactive tables.';\n",
       "        element.innerHTML = '';\n",
       "        dataTable['output_type'] = 'display_data';\n",
       "        await google.colab.output.renderOutput(dataTable, element);\n",
       "        const docLink = document.createElement('div');\n",
       "        docLink.innerHTML = docLinkHtml;\n",
       "        element.appendChild(docLink);\n",
       "      }\n",
       "    </script>\n",
       "  </div>\n",
       "\n",
       "\n",
       "<div id=\"df-6719c4f8-1d2c-4c8d-847f-aa6d087e5531\">\n",
       "  <button class=\"colab-df-quickchart\" onclick=\"quickchart('df-6719c4f8-1d2c-4c8d-847f-aa6d087e5531')\"\n",
       "            title=\"Suggest charts.\"\n",
       "            style=\"display:none;\">\n",
       "\n",
       "<svg xmlns=\"http://www.w3.org/2000/svg\" height=\"24px\"viewBox=\"0 0 24 24\"\n",
       "     width=\"24px\">\n",
       "    <g>\n",
       "        <path d=\"M19 3H5c-1.1 0-2 .9-2 2v14c0 1.1.9 2 2 2h14c1.1 0 2-.9 2-2V5c0-1.1-.9-2-2-2zM9 17H7v-7h2v7zm4 0h-2V7h2v10zm4 0h-2v-4h2v4z\"/>\n",
       "    </g>\n",
       "</svg>\n",
       "  </button>\n",
       "\n",
       "<style>\n",
       "  .colab-df-quickchart {\n",
       "      --bg-color: #E8F0FE;\n",
       "      --fill-color: #1967D2;\n",
       "      --hover-bg-color: #E2EBFA;\n",
       "      --hover-fill-color: #174EA6;\n",
       "      --disabled-fill-color: #AAA;\n",
       "      --disabled-bg-color: #DDD;\n",
       "  }\n",
       "\n",
       "  [theme=dark] .colab-df-quickchart {\n",
       "      --bg-color: #3B4455;\n",
       "      --fill-color: #D2E3FC;\n",
       "      --hover-bg-color: #434B5C;\n",
       "      --hover-fill-color: #FFFFFF;\n",
       "      --disabled-bg-color: #3B4455;\n",
       "      --disabled-fill-color: #666;\n",
       "  }\n",
       "\n",
       "  .colab-df-quickchart {\n",
       "    background-color: var(--bg-color);\n",
       "    border: none;\n",
       "    border-radius: 50%;\n",
       "    cursor: pointer;\n",
       "    display: none;\n",
       "    fill: var(--fill-color);\n",
       "    height: 32px;\n",
       "    padding: 0;\n",
       "    width: 32px;\n",
       "  }\n",
       "\n",
       "  .colab-df-quickchart:hover {\n",
       "    background-color: var(--hover-bg-color);\n",
       "    box-shadow: 0 1px 2px rgba(60, 64, 67, 0.3), 0 1px 3px 1px rgba(60, 64, 67, 0.15);\n",
       "    fill: var(--button-hover-fill-color);\n",
       "  }\n",
       "\n",
       "  .colab-df-quickchart-complete:disabled,\n",
       "  .colab-df-quickchart-complete:disabled:hover {\n",
       "    background-color: var(--disabled-bg-color);\n",
       "    fill: var(--disabled-fill-color);\n",
       "    box-shadow: none;\n",
       "  }\n",
       "\n",
       "  .colab-df-spinner {\n",
       "    border: 2px solid var(--fill-color);\n",
       "    border-color: transparent;\n",
       "    border-bottom-color: var(--fill-color);\n",
       "    animation:\n",
       "      spin 1s steps(1) infinite;\n",
       "  }\n",
       "\n",
       "  @keyframes spin {\n",
       "    0% {\n",
       "      border-color: transparent;\n",
       "      border-bottom-color: var(--fill-color);\n",
       "      border-left-color: var(--fill-color);\n",
       "    }\n",
       "    20% {\n",
       "      border-color: transparent;\n",
       "      border-left-color: var(--fill-color);\n",
       "      border-top-color: var(--fill-color);\n",
       "    }\n",
       "    30% {\n",
       "      border-color: transparent;\n",
       "      border-left-color: var(--fill-color);\n",
       "      border-top-color: var(--fill-color);\n",
       "      border-right-color: var(--fill-color);\n",
       "    }\n",
       "    40% {\n",
       "      border-color: transparent;\n",
       "      border-right-color: var(--fill-color);\n",
       "      border-top-color: var(--fill-color);\n",
       "    }\n",
       "    60% {\n",
       "      border-color: transparent;\n",
       "      border-right-color: var(--fill-color);\n",
       "    }\n",
       "    80% {\n",
       "      border-color: transparent;\n",
       "      border-right-color: var(--fill-color);\n",
       "      border-bottom-color: var(--fill-color);\n",
       "    }\n",
       "    90% {\n",
       "      border-color: transparent;\n",
       "      border-bottom-color: var(--fill-color);\n",
       "    }\n",
       "  }\n",
       "</style>\n",
       "\n",
       "  <script>\n",
       "    async function quickchart(key) {\n",
       "      const quickchartButtonEl =\n",
       "        document.querySelector('#' + key + ' button');\n",
       "      quickchartButtonEl.disabled = true;  // To prevent multiple clicks.\n",
       "      quickchartButtonEl.classList.add('colab-df-spinner');\n",
       "      try {\n",
       "        const charts = await google.colab.kernel.invokeFunction(\n",
       "            'suggestCharts', [key], {});\n",
       "      } catch (error) {\n",
       "        console.error('Error during call to suggestCharts:', error);\n",
       "      }\n",
       "      quickchartButtonEl.classList.remove('colab-df-spinner');\n",
       "      quickchartButtonEl.classList.add('colab-df-quickchart-complete');\n",
       "    }\n",
       "    (() => {\n",
       "      let quickchartButtonEl =\n",
       "        document.querySelector('#df-6719c4f8-1d2c-4c8d-847f-aa6d087e5531 button');\n",
       "      quickchartButtonEl.style.display =\n",
       "        google.colab.kernel.accessAllowed ? 'block' : 'none';\n",
       "    })();\n",
       "  </script>\n",
       "</div>\n",
       "\n",
       "  <div id=\"id_fdfb91d0-2c0c-452d-ba24-ee85c7ccff05\">\n",
       "    <style>\n",
       "      .colab-df-generate {\n",
       "        background-color: #E8F0FE;\n",
       "        border: none;\n",
       "        border-radius: 50%;\n",
       "        cursor: pointer;\n",
       "        display: none;\n",
       "        fill: #1967D2;\n",
       "        height: 32px;\n",
       "        padding: 0 0 0 0;\n",
       "        width: 32px;\n",
       "      }\n",
       "\n",
       "      .colab-df-generate:hover {\n",
       "        background-color: #E2EBFA;\n",
       "        box-shadow: 0px 1px 2px rgba(60, 64, 67, 0.3), 0px 1px 3px 1px rgba(60, 64, 67, 0.15);\n",
       "        fill: #174EA6;\n",
       "      }\n",
       "\n",
       "      [theme=dark] .colab-df-generate {\n",
       "        background-color: #3B4455;\n",
       "        fill: #D2E3FC;\n",
       "      }\n",
       "\n",
       "      [theme=dark] .colab-df-generate:hover {\n",
       "        background-color: #434B5C;\n",
       "        box-shadow: 0px 1px 3px 1px rgba(0, 0, 0, 0.15);\n",
       "        filter: drop-shadow(0px 1px 2px rgba(0, 0, 0, 0.3));\n",
       "        fill: #FFFFFF;\n",
       "      }\n",
       "    </style>\n",
       "    <button class=\"colab-df-generate\" onclick=\"generateWithVariable('log')\"\n",
       "            title=\"Generate code using this dataframe.\"\n",
       "            style=\"display:none;\">\n",
       "\n",
       "  <svg xmlns=\"http://www.w3.org/2000/svg\" height=\"24px\"viewBox=\"0 0 24 24\"\n",
       "       width=\"24px\">\n",
       "    <path d=\"M7,19H8.4L18.45,9,17,7.55,7,17.6ZM5,21V16.75L18.45,3.32a2,2,0,0,1,2.83,0l1.4,1.43a1.91,1.91,0,0,1,.58,1.4,1.91,1.91,0,0,1-.58,1.4L9.25,21ZM18.45,9,17,7.55Zm-12,3A5.31,5.31,0,0,0,4.9,8.1,5.31,5.31,0,0,0,1,6.5,5.31,5.31,0,0,0,4.9,4.9,5.31,5.31,0,0,0,6.5,1,5.31,5.31,0,0,0,8.1,4.9,5.31,5.31,0,0,0,12,6.5,5.46,5.46,0,0,0,6.5,12Z\"/>\n",
       "  </svg>\n",
       "    </button>\n",
       "    <script>\n",
       "      (() => {\n",
       "      const buttonEl =\n",
       "        document.querySelector('#id_fdfb91d0-2c0c-452d-ba24-ee85c7ccff05 button.colab-df-generate');\n",
       "      buttonEl.style.display =\n",
       "        google.colab.kernel.accessAllowed ? 'block' : 'none';\n",
       "\n",
       "      buttonEl.onclick = () => {\n",
       "        google.colab.notebook.generateWithVariable('log');\n",
       "      }\n",
       "      })();\n",
       "    </script>\n",
       "  </div>\n",
       "\n",
       "    </div>\n",
       "  </div>\n"
      ],
      "text/plain": [
       "      model   params            device_name vocab_size train_tokens  \\\n",
       "0  LMModel3  6487313                    mps      50257      1920000   \n",
       "1  LMModel3  6487313               Tesla T4      50257      1920000   \n",
       "2  LMModel3  6487313   Tesla V100-SXM2-16GB      50257      1920000   \n",
       "3  LMModel3  6487313  NVIDIA A100-SXM4-40GB      50257      1920000   \n",
       "4  LMModel4  6487313                    mps      50257      1920000   \n",
       "5  LMModel4  6487313               Tesla T4      50257      1920000   \n",
       "6  LMModel4  6487313               Tesla T4      50257      1920000   \n",
       "7  LMModel4  6487313               Tesla T4      50257      1920000   \n",
       "\n",
       "  test_tokens  seq_len batch_size epochs   train_time  train_loss  test_loss  \\\n",
       "0     1920000        3         64      1   284.984944    5.295207   4.621000   \n",
       "1     1920000        3         64      1    53.554449    5.290185   4.608912   \n",
       "2     1920000        3         64      1    42.597042    5.283650   4.595851   \n",
       "3     1920000        3         64      1    33.035805    5.291462   4.612990   \n",
       "4     1920000       16         64      1  5874.020087    6.197495   5.400086   \n",
       "5     1920000       16         64      1    74.523791    6.187801   5.388711   \n",
       "6     1920000       16         64      5   376.552830    4.536768   4.486406   \n",
       "7     1920000        3         64      1    89.348678    5.287874   4.599583   \n",
       "\n",
       "   accuracy                                             sample  \n",
       "0  0.231564  Once upon a time colorful. They thinks it.\\nOn...  \n",
       "1  0.233263  Once upon a time on the toys in and theyAUD so...  \n",
       "2  0.232405  Once upon a time tried to worried of. The dog ...  \n",
       "3  0.230420  Once upon a time they in mom needed and Worldw...  \n",
       "4  0.193369  Once upon a time there was a little boy named ...  \n",
       "5  0.193032  Once upon a time there was a little boy named ...  \n",
       "6  0.242363  Once upon a time there was a little boy named ...  \n",
       "7  0.228013  Once upon a time, why lived all day, a little ...  "
      ]
     },
     "execution_count": 132,
     "metadata": {},
     "output_type": "execute_result"
    }
   ],
   "source": [
    "log"
   ]
  },
  {
   "cell_type": "code",
   "execution_count": 113,
   "id": "6353be46-262b-4070-8c9a-dd001857eb3c",
   "metadata": {
    "executionInfo": {
     "elapsed": 629,
     "status": "ok",
     "timestamp": 1694538495028,
     "user": {
      "displayName": "Alex Dow",
      "userId": "06741101372127917949"
     },
     "user_tz": 420
    },
    "id": "6353be46-262b-4070-8c9a-dd001857eb3c"
   },
   "outputs": [],
   "source": [
    "pd.to_pickle(log, log_path)"
   ]
  },
  {
   "cell_type": "markdown",
   "id": "v5FtfdRyXHMc",
   "metadata": {
    "id": "v5FtfdRyXHMc"
   },
   "source": [
    "## Notes\n",
    "\n",
    "Added complexity to the task and effective depth to the model. Not seeing any improvement, but perhaps that is expected. Model should be more flexible now, so maybe we will then build on that to improve performance."
   ]
  },
  {
   "cell_type": "markdown",
   "id": "753a393a-25d2-4f5b-a6eb-86c95720c5cd",
   "metadata": {},
   "source": [
    "# Training LMModel5 (multiple layers)"
   ]
  },
  {
   "cell_type": "code",
   "execution_count": 341,
   "id": "d7e56709-91db-4ae0-81d6-eb4d1aaa1332",
   "metadata": {},
   "outputs": [],
   "source": [
    "bs = 64\n",
    "lr = 3e-3\n",
    "epochs = 5\n",
    "seq_len = 16"
   ]
  },
  {
   "cell_type": "code",
   "execution_count": 342,
   "id": "5c18768f-a38c-44d2-adec-bbd0188df036",
   "metadata": {},
   "outputs": [
    {
     "data": {
      "text/plain": [
       "50257"
      ]
     },
     "execution_count": 342,
     "metadata": {},
     "output_type": "execute_result"
    }
   ],
   "source": [
    "vocab_size = tokenizer.vocab_size\n",
    "vocab_size"
   ]
  },
  {
   "cell_type": "code",
   "execution_count": 343,
   "id": "ef6f19af-8830-408e-b68c-8786524d7f72",
   "metadata": {},
   "outputs": [
    {
     "data": {
      "text/plain": [
       "('mps', 'mps')"
      ]
     },
     "execution_count": 343,
     "metadata": {},
     "output_type": "execute_result"
    }
   ],
   "source": [
    "if torch.backends.mps.is_available():\n",
    "    def_device = device_name = 'mps'\n",
    "elif torch.cuda.is_available():\n",
    "    def_device = 'cuda'\n",
    "    device_name = torch.cuda.get_device_name(0)\n",
    "else:\n",
    "    def_device = device_name = 'cpu'\n",
    "def_device, device_name"
   ]
  },
  {
   "cell_type": "code",
   "execution_count": null,
   "id": "aff870d1-38ce-4772-9c9f-9e70012eafd9",
   "metadata": {},
   "outputs": [],
   "source": []
  }
 ],
 "metadata": {
  "accelerator": "GPU",
  "colab": {
   "gpuType": "A100",
   "machine_shape": "hm",
   "provenance": []
  },
  "kernelspec": {
   "display_name": "Python 3 (ipykernel)",
   "language": "python",
   "name": "python3"
  },
  "language_info": {
   "codemirror_mode": {
    "name": "ipython",
    "version": 3
   },
   "file_extension": ".py",
   "mimetype": "text/x-python",
   "name": "python",
   "nbconvert_exporter": "python",
   "pygments_lexer": "ipython3",
   "version": "3.11.4"
  },
  "widgets": {
   "application/vnd.jupyter.widget-state+json": {
    "043fc46ce2b343dfaf525526dabcc806": {
     "model_module": "@jupyter-widgets/controls",
     "model_module_version": "1.5.0",
     "model_name": "ProgressStyleModel",
     "state": {
      "_model_module": "@jupyter-widgets/controls",
      "_model_module_version": "1.5.0",
      "_model_name": "ProgressStyleModel",
      "_view_count": null,
      "_view_module": "@jupyter-widgets/base",
      "_view_module_version": "1.2.0",
      "_view_name": "StyleView",
      "bar_color": null,
      "description_width": ""
     }
    },
    "07727398e3a54d9194802b256eba51d4": {
     "model_module": "@jupyter-widgets/base",
     "model_module_version": "1.2.0",
     "model_name": "LayoutModel",
     "state": {
      "_model_module": "@jupyter-widgets/base",
      "_model_module_version": "1.2.0",
      "_model_name": "LayoutModel",
      "_view_count": null,
      "_view_module": "@jupyter-widgets/base",
      "_view_module_version": "1.2.0",
      "_view_name": "LayoutView",
      "align_content": null,
      "align_items": null,
      "align_self": null,
      "border": null,
      "bottom": null,
      "display": null,
      "flex": null,
      "flex_flow": null,
      "grid_area": null,
      "grid_auto_columns": null,
      "grid_auto_flow": null,
      "grid_auto_rows": null,
      "grid_column": null,
      "grid_gap": null,
      "grid_row": null,
      "grid_template_areas": null,
      "grid_template_columns": null,
      "grid_template_rows": null,
      "height": null,
      "justify_content": null,
      "justify_items": null,
      "left": null,
      "margin": null,
      "max_height": null,
      "max_width": null,
      "min_height": null,
      "min_width": null,
      "object_fit": null,
      "object_position": null,
      "order": null,
      "overflow": null,
      "overflow_x": null,
      "overflow_y": null,
      "padding": null,
      "right": null,
      "top": null,
      "visibility": null,
      "width": null
     }
    },
    "0c2fc45c87bd49ce97bf7b09c482dc38": {
     "model_module": "@jupyter-widgets/base",
     "model_module_version": "1.2.0",
     "model_name": "LayoutModel",
     "state": {
      "_model_module": "@jupyter-widgets/base",
      "_model_module_version": "1.2.0",
      "_model_name": "LayoutModel",
      "_view_count": null,
      "_view_module": "@jupyter-widgets/base",
      "_view_module_version": "1.2.0",
      "_view_name": "LayoutView",
      "align_content": null,
      "align_items": null,
      "align_self": null,
      "border": null,
      "bottom": null,
      "display": null,
      "flex": null,
      "flex_flow": null,
      "grid_area": null,
      "grid_auto_columns": null,
      "grid_auto_flow": null,
      "grid_auto_rows": null,
      "grid_column": null,
      "grid_gap": null,
      "grid_row": null,
      "grid_template_areas": null,
      "grid_template_columns": null,
      "grid_template_rows": null,
      "height": null,
      "justify_content": null,
      "justify_items": null,
      "left": null,
      "margin": null,
      "max_height": null,
      "max_width": null,
      "min_height": null,
      "min_width": null,
      "object_fit": null,
      "object_position": null,
      "order": null,
      "overflow": null,
      "overflow_x": null,
      "overflow_y": null,
      "padding": null,
      "right": null,
      "top": null,
      "visibility": null,
      "width": null
     }
    },
    "0e80175b6664409ba0f1a9490cc14b05": {
     "model_module": "@jupyter-widgets/base",
     "model_module_version": "1.2.0",
     "model_name": "LayoutModel",
     "state": {
      "_model_module": "@jupyter-widgets/base",
      "_model_module_version": "1.2.0",
      "_model_name": "LayoutModel",
      "_view_count": null,
      "_view_module": "@jupyter-widgets/base",
      "_view_module_version": "1.2.0",
      "_view_name": "LayoutView",
      "align_content": null,
      "align_items": null,
      "align_self": null,
      "border": null,
      "bottom": null,
      "display": null,
      "flex": null,
      "flex_flow": null,
      "grid_area": null,
      "grid_auto_columns": null,
      "grid_auto_flow": null,
      "grid_auto_rows": null,
      "grid_column": null,
      "grid_gap": null,
      "grid_row": null,
      "grid_template_areas": null,
      "grid_template_columns": null,
      "grid_template_rows": null,
      "height": null,
      "justify_content": null,
      "justify_items": null,
      "left": null,
      "margin": null,
      "max_height": null,
      "max_width": null,
      "min_height": null,
      "min_width": null,
      "object_fit": null,
      "object_position": null,
      "order": null,
      "overflow": null,
      "overflow_x": null,
      "overflow_y": null,
      "padding": null,
      "right": null,
      "top": null,
      "visibility": null,
      "width": "20px"
     }
    },
    "0f448af6fafd4a6aa99d070b964d3c1d": {
     "model_module": "@jupyter-widgets/controls",
     "model_module_version": "1.5.0",
     "model_name": "HBoxModel",
     "state": {
      "_dom_classes": [],
      "_model_module": "@jupyter-widgets/controls",
      "_model_module_version": "1.5.0",
      "_model_name": "HBoxModel",
      "_view_count": null,
      "_view_module": "@jupyter-widgets/controls",
      "_view_module_version": "1.5.0",
      "_view_name": "HBoxView",
      "box_style": "",
      "children": [
       "IPY_MODEL_415ecd6c4d2148ce913607d70a2f3ad6",
       "IPY_MODEL_4c42e49a85974413a8653d6b99b4c889",
       "IPY_MODEL_a6b18678e7014bfbbffc40451a48b947"
      ],
      "layout": "IPY_MODEL_0c2fc45c87bd49ce97bf7b09c482dc38"
     }
    },
    "0ffad6680f7a4c57adc0c082f187d26b": {
     "model_module": "@jupyter-widgets/base",
     "model_module_version": "1.2.0",
     "model_name": "LayoutModel",
     "state": {
      "_model_module": "@jupyter-widgets/base",
      "_model_module_version": "1.2.0",
      "_model_name": "LayoutModel",
      "_view_count": null,
      "_view_module": "@jupyter-widgets/base",
      "_view_module_version": "1.2.0",
      "_view_name": "LayoutView",
      "align_content": null,
      "align_items": null,
      "align_self": null,
      "border": null,
      "bottom": null,
      "display": null,
      "flex": null,
      "flex_flow": null,
      "grid_area": null,
      "grid_auto_columns": null,
      "grid_auto_flow": null,
      "grid_auto_rows": null,
      "grid_column": null,
      "grid_gap": null,
      "grid_row": null,
      "grid_template_areas": null,
      "grid_template_columns": null,
      "grid_template_rows": null,
      "height": null,
      "justify_content": null,
      "justify_items": null,
      "left": null,
      "margin": null,
      "max_height": null,
      "max_width": null,
      "min_height": null,
      "min_width": null,
      "object_fit": null,
      "object_position": null,
      "order": null,
      "overflow": null,
      "overflow_x": null,
      "overflow_y": null,
      "padding": null,
      "right": null,
      "top": null,
      "visibility": null,
      "width": null
     }
    },
    "12a247ff0fc247a68565d9a40f46bd32": {
     "model_module": "@jupyter-widgets/base",
     "model_module_version": "1.2.0",
     "model_name": "LayoutModel",
     "state": {
      "_model_module": "@jupyter-widgets/base",
      "_model_module_version": "1.2.0",
      "_model_name": "LayoutModel",
      "_view_count": null,
      "_view_module": "@jupyter-widgets/base",
      "_view_module_version": "1.2.0",
      "_view_name": "LayoutView",
      "align_content": null,
      "align_items": null,
      "align_self": null,
      "border": null,
      "bottom": null,
      "display": null,
      "flex": null,
      "flex_flow": null,
      "grid_area": null,
      "grid_auto_columns": null,
      "grid_auto_flow": null,
      "grid_auto_rows": null,
      "grid_column": null,
      "grid_gap": null,
      "grid_row": null,
      "grid_template_areas": null,
      "grid_template_columns": null,
      "grid_template_rows": null,
      "height": null,
      "justify_content": null,
      "justify_items": null,
      "left": null,
      "margin": null,
      "max_height": null,
      "max_width": null,
      "min_height": null,
      "min_width": null,
      "object_fit": null,
      "object_position": null,
      "order": null,
      "overflow": null,
      "overflow_x": null,
      "overflow_y": null,
      "padding": null,
      "right": null,
      "top": null,
      "visibility": null,
      "width": null
     }
    },
    "1665fede7373400a8afaae4f664cc9e7": {
     "model_module": "@jupyter-widgets/controls",
     "model_module_version": "1.5.0",
     "model_name": "HBoxModel",
     "state": {
      "_dom_classes": [],
      "_model_module": "@jupyter-widgets/controls",
      "_model_module_version": "1.5.0",
      "_model_name": "HBoxModel",
      "_view_count": null,
      "_view_module": "@jupyter-widgets/controls",
      "_view_module_version": "1.5.0",
      "_view_name": "HBoxView",
      "box_style": "",
      "children": [
       "IPY_MODEL_1baf6bd75d2341b8aa00344d622c4007",
       "IPY_MODEL_4750fde4a3bf45dfb28ae71d37c31689",
       "IPY_MODEL_2d659766e6c84e1abf2b6a613da46243"
      ],
      "layout": "IPY_MODEL_564c2567badf4ce7b628880eb22b366e"
     }
    },
    "186e56b96b9745d6a48fe9596a64e383": {
     "model_module": "@jupyter-widgets/controls",
     "model_module_version": "1.5.0",
     "model_name": "DescriptionStyleModel",
     "state": {
      "_model_module": "@jupyter-widgets/controls",
      "_model_module_version": "1.5.0",
      "_model_name": "DescriptionStyleModel",
      "_view_count": null,
      "_view_module": "@jupyter-widgets/base",
      "_view_module_version": "1.2.0",
      "_view_name": "StyleView",
      "description_width": ""
     }
    },
    "1baf6bd75d2341b8aa00344d622c4007": {
     "model_module": "@jupyter-widgets/controls",
     "model_module_version": "1.5.0",
     "model_name": "HTMLModel",
     "state": {
      "_dom_classes": [],
      "_model_module": "@jupyter-widgets/controls",
      "_model_module_version": "1.5.0",
      "_model_name": "HTMLModel",
      "_view_count": null,
      "_view_module": "@jupyter-widgets/controls",
      "_view_module_version": "1.5.0",
      "_view_name": "HTMLView",
      "description": "",
      "description_tooltip": null,
      "layout": "IPY_MODEL_50eaa9f0ff4148c0a81195e5108a191f",
      "placeholder": "​",
      "style": "IPY_MODEL_186e56b96b9745d6a48fe9596a64e383",
      "value": "Downloading (…)olve/main/merges.txt: 100%"
     }
    },
    "1f16c91721024104ba77437c29128371": {
     "model_module": "@jupyter-widgets/base",
     "model_module_version": "1.2.0",
     "model_name": "LayoutModel",
     "state": {
      "_model_module": "@jupyter-widgets/base",
      "_model_module_version": "1.2.0",
      "_model_name": "LayoutModel",
      "_view_count": null,
      "_view_module": "@jupyter-widgets/base",
      "_view_module_version": "1.2.0",
      "_view_name": "LayoutView",
      "align_content": null,
      "align_items": null,
      "align_self": null,
      "border": null,
      "bottom": null,
      "display": null,
      "flex": null,
      "flex_flow": null,
      "grid_area": null,
      "grid_auto_columns": null,
      "grid_auto_flow": null,
      "grid_auto_rows": null,
      "grid_column": null,
      "grid_gap": null,
      "grid_row": null,
      "grid_template_areas": null,
      "grid_template_columns": null,
      "grid_template_rows": null,
      "height": null,
      "justify_content": null,
      "justify_items": null,
      "left": null,
      "margin": null,
      "max_height": null,
      "max_width": null,
      "min_height": null,
      "min_width": null,
      "object_fit": null,
      "object_position": null,
      "order": null,
      "overflow": null,
      "overflow_x": null,
      "overflow_y": null,
      "padding": null,
      "right": null,
      "top": null,
      "visibility": null,
      "width": null
     }
    },
    "24bc9edfc8114ccdb1f4a3a9e152b5f2": {
     "model_module": "@jupyter-widgets/controls",
     "model_module_version": "1.5.0",
     "model_name": "HTMLModel",
     "state": {
      "_dom_classes": [],
      "_model_module": "@jupyter-widgets/controls",
      "_model_module_version": "1.5.0",
      "_model_name": "HTMLModel",
      "_view_count": null,
      "_view_module": "@jupyter-widgets/controls",
      "_view_module_version": "1.5.0",
      "_view_name": "HTMLView",
      "description": "",
      "description_tooltip": null,
      "layout": "IPY_MODEL_fa4fcd79427f4eea8d58c8cd7e64045b",
      "placeholder": "​",
      "style": "IPY_MODEL_a21eae30729b4e84a7d15447ac256c7d",
      "value": "Downloading (…)cial_tokens_map.json: 100%"
     }
    },
    "2be467c180ac41dea84c8371f2e5b715": {
     "model_module": "@jupyter-widgets/controls",
     "model_module_version": "1.5.0",
     "model_name": "HBoxModel",
     "state": {
      "_dom_classes": [],
      "_model_module": "@jupyter-widgets/controls",
      "_model_module_version": "1.5.0",
      "_model_name": "HBoxModel",
      "_view_count": null,
      "_view_module": "@jupyter-widgets/controls",
      "_view_module_version": "1.5.0",
      "_view_name": "HBoxView",
      "box_style": "",
      "children": [
       "IPY_MODEL_5d3f8bbeab3d4d0aaf03baedea6b9a93",
       "IPY_MODEL_fdc0f74887c54a0685a3857c25d26c24",
       "IPY_MODEL_360d22be1fc44c8a8a54a24c41df4e1c"
      ],
      "layout": "IPY_MODEL_60d86fc9ec3c4b5daa17015dfe79e0e9"
     }
    },
    "2d659766e6c84e1abf2b6a613da46243": {
     "model_module": "@jupyter-widgets/controls",
     "model_module_version": "1.5.0",
     "model_name": "HTMLModel",
     "state": {
      "_dom_classes": [],
      "_model_module": "@jupyter-widgets/controls",
      "_model_module_version": "1.5.0",
      "_model_name": "HTMLModel",
      "_view_count": null,
      "_view_module": "@jupyter-widgets/controls",
      "_view_module_version": "1.5.0",
      "_view_name": "HTMLView",
      "description": "",
      "description_tooltip": null,
      "layout": "IPY_MODEL_f1de52e5ac4345f19e159853265ecd86",
      "placeholder": "​",
      "style": "IPY_MODEL_71a929da757844a1964e7de55447c8c6",
      "value": " 456k/456k [00:00&lt;00:00, 1.59MB/s]"
     }
    },
    "304d3df9ac674039a7e09852b1748453": {
     "model_module": "@jupyter-widgets/controls",
     "model_module_version": "1.5.0",
     "model_name": "HBoxModel",
     "state": {
      "_dom_classes": [],
      "_model_module": "@jupyter-widgets/controls",
      "_model_module_version": "1.5.0",
      "_model_name": "HBoxModel",
      "_view_count": null,
      "_view_module": "@jupyter-widgets/controls",
      "_view_module_version": "1.5.0",
      "_view_name": "HBoxView",
      "box_style": "",
      "children": [
       "IPY_MODEL_24bc9edfc8114ccdb1f4a3a9e152b5f2",
       "IPY_MODEL_8abdfd425a7f43d8aa49b8f3b4573a40",
       "IPY_MODEL_7837b2c05c4043febe5990b9423fcc6e"
      ],
      "layout": "IPY_MODEL_4c730edf6c7445d08f97c41d1bcbebd8"
     }
    },
    "360d22be1fc44c8a8a54a24c41df4e1c": {
     "model_module": "@jupyter-widgets/controls",
     "model_module_version": "1.5.0",
     "model_name": "HTMLModel",
     "state": {
      "_dom_classes": [],
      "_model_module": "@jupyter-widgets/controls",
      "_model_module_version": "1.5.0",
      "_model_name": "HTMLModel",
      "_view_count": null,
      "_view_module": "@jupyter-widgets/controls",
      "_view_module_version": "1.5.0",
      "_view_name": "HTMLView",
      "description": "",
      "description_tooltip": null,
      "layout": "IPY_MODEL_3ba01cec556c46b9bb7eaff3461c5adf",
      "placeholder": "​",
      "style": "IPY_MODEL_f5b0bbb9629642b3b1dd990fa1a81be7",
      "value": " 2717699/0 [01:01&lt;00:00, 97107.59 examples/s]"
     }
    },
    "396e5ac49f194ce1925cce0870c356d0": {
     "model_module": "@jupyter-widgets/base",
     "model_module_version": "1.2.0",
     "model_name": "LayoutModel",
     "state": {
      "_model_module": "@jupyter-widgets/base",
      "_model_module_version": "1.2.0",
      "_model_name": "LayoutModel",
      "_view_count": null,
      "_view_module": "@jupyter-widgets/base",
      "_view_module_version": "1.2.0",
      "_view_name": "LayoutView",
      "align_content": null,
      "align_items": null,
      "align_self": null,
      "border": null,
      "bottom": null,
      "display": null,
      "flex": null,
      "flex_flow": null,
      "grid_area": null,
      "grid_auto_columns": null,
      "grid_auto_flow": null,
      "grid_auto_rows": null,
      "grid_column": null,
      "grid_gap": null,
      "grid_row": null,
      "grid_template_areas": null,
      "grid_template_columns": null,
      "grid_template_rows": null,
      "height": null,
      "justify_content": null,
      "justify_items": null,
      "left": null,
      "margin": null,
      "max_height": null,
      "max_width": null,
      "min_height": null,
      "min_width": null,
      "object_fit": null,
      "object_position": null,
      "order": null,
      "overflow": null,
      "overflow_x": null,
      "overflow_y": null,
      "padding": null,
      "right": null,
      "top": null,
      "visibility": null,
      "width": null
     }
    },
    "3a124b2f20884e87bdcdb5f7856e0895": {
     "model_module": "@jupyter-widgets/controls",
     "model_module_version": "1.5.0",
     "model_name": "ProgressStyleModel",
     "state": {
      "_model_module": "@jupyter-widgets/controls",
      "_model_module_version": "1.5.0",
      "_model_name": "ProgressStyleModel",
      "_view_count": null,
      "_view_module": "@jupyter-widgets/base",
      "_view_module_version": "1.2.0",
      "_view_name": "StyleView",
      "bar_color": null,
      "description_width": ""
     }
    },
    "3a56e46d6a2f4e8da8fb4a3ae38fb177": {
     "model_module": "@jupyter-widgets/base",
     "model_module_version": "1.2.0",
     "model_name": "LayoutModel",
     "state": {
      "_model_module": "@jupyter-widgets/base",
      "_model_module_version": "1.2.0",
      "_model_name": "LayoutModel",
      "_view_count": null,
      "_view_module": "@jupyter-widgets/base",
      "_view_module_version": "1.2.0",
      "_view_name": "LayoutView",
      "align_content": null,
      "align_items": null,
      "align_self": null,
      "border": null,
      "bottom": null,
      "display": null,
      "flex": null,
      "flex_flow": null,
      "grid_area": null,
      "grid_auto_columns": null,
      "grid_auto_flow": null,
      "grid_auto_rows": null,
      "grid_column": null,
      "grid_gap": null,
      "grid_row": null,
      "grid_template_areas": null,
      "grid_template_columns": null,
      "grid_template_rows": null,
      "height": null,
      "justify_content": null,
      "justify_items": null,
      "left": null,
      "margin": null,
      "max_height": null,
      "max_width": null,
      "min_height": null,
      "min_width": null,
      "object_fit": null,
      "object_position": null,
      "order": null,
      "overflow": null,
      "overflow_x": null,
      "overflow_y": null,
      "padding": null,
      "right": null,
      "top": null,
      "visibility": null,
      "width": null
     }
    },
    "3ba01cec556c46b9bb7eaff3461c5adf": {
     "model_module": "@jupyter-widgets/base",
     "model_module_version": "1.2.0",
     "model_name": "LayoutModel",
     "state": {
      "_model_module": "@jupyter-widgets/base",
      "_model_module_version": "1.2.0",
      "_model_name": "LayoutModel",
      "_view_count": null,
      "_view_module": "@jupyter-widgets/base",
      "_view_module_version": "1.2.0",
      "_view_name": "LayoutView",
      "align_content": null,
      "align_items": null,
      "align_self": null,
      "border": null,
      "bottom": null,
      "display": null,
      "flex": null,
      "flex_flow": null,
      "grid_area": null,
      "grid_auto_columns": null,
      "grid_auto_flow": null,
      "grid_auto_rows": null,
      "grid_column": null,
      "grid_gap": null,
      "grid_row": null,
      "grid_template_areas": null,
      "grid_template_columns": null,
      "grid_template_rows": null,
      "height": null,
      "justify_content": null,
      "justify_items": null,
      "left": null,
      "margin": null,
      "max_height": null,
      "max_width": null,
      "min_height": null,
      "min_width": null,
      "object_fit": null,
      "object_position": null,
      "order": null,
      "overflow": null,
      "overflow_x": null,
      "overflow_y": null,
      "padding": null,
      "right": null,
      "top": null,
      "visibility": null,
      "width": null
     }
    },
    "415ecd6c4d2148ce913607d70a2f3ad6": {
     "model_module": "@jupyter-widgets/controls",
     "model_module_version": "1.5.0",
     "model_name": "HTMLModel",
     "state": {
      "_dom_classes": [],
      "_model_module": "@jupyter-widgets/controls",
      "_model_module_version": "1.5.0",
      "_model_name": "HTMLModel",
      "_view_count": null,
      "_view_module": "@jupyter-widgets/controls",
      "_view_module_version": "1.5.0",
      "_view_name": "HTMLView",
      "description": "",
      "description_tooltip": null,
      "layout": "IPY_MODEL_862927a8b9d14544bd27fded529b6f30",
      "placeholder": "​",
      "style": "IPY_MODEL_b6cd83681bf74639a5d40f6ae151aa36",
      "value": "Downloading (…)lve/main/config.json: 100%"
     }
    },
    "4375987be9384451a66910b16726bc5f": {
     "model_module": "@jupyter-widgets/controls",
     "model_module_version": "1.5.0",
     "model_name": "FloatProgressModel",
     "state": {
      "_dom_classes": [],
      "_model_module": "@jupyter-widgets/controls",
      "_model_module_version": "1.5.0",
      "_model_name": "FloatProgressModel",
      "_view_count": null,
      "_view_module": "@jupyter-widgets/controls",
      "_view_module_version": "1.5.0",
      "_view_name": "ProgressView",
      "bar_style": "success",
      "description": "",
      "description_tooltip": null,
      "layout": "IPY_MODEL_79832ffcbadf4f2d8672ccb0c61454d2",
      "max": 798156,
      "min": 0,
      "orientation": "horizontal",
      "style": "IPY_MODEL_83d1a660ed004b4aaad7b5c32b3855f7",
      "value": 798156
     }
    },
    "4750fde4a3bf45dfb28ae71d37c31689": {
     "model_module": "@jupyter-widgets/controls",
     "model_module_version": "1.5.0",
     "model_name": "FloatProgressModel",
     "state": {
      "_dom_classes": [],
      "_model_module": "@jupyter-widgets/controls",
      "_model_module_version": "1.5.0",
      "_model_name": "FloatProgressModel",
      "_view_count": null,
      "_view_module": "@jupyter-widgets/controls",
      "_view_module_version": "1.5.0",
      "_view_name": "ProgressView",
      "bar_style": "success",
      "description": "",
      "description_tooltip": null,
      "layout": "IPY_MODEL_b4122330c6c545ba83c913bde50ce418",
      "max": 456356,
      "min": 0,
      "orientation": "horizontal",
      "style": "IPY_MODEL_043fc46ce2b343dfaf525526dabcc806",
      "value": 456356
     }
    },
    "4c21857c0f734a3da00c62e0689f2c25": {
     "model_module": "@jupyter-widgets/base",
     "model_module_version": "1.2.0",
     "model_name": "LayoutModel",
     "state": {
      "_model_module": "@jupyter-widgets/base",
      "_model_module_version": "1.2.0",
      "_model_name": "LayoutModel",
      "_view_count": null,
      "_view_module": "@jupyter-widgets/base",
      "_view_module_version": "1.2.0",
      "_view_name": "LayoutView",
      "align_content": null,
      "align_items": null,
      "align_self": null,
      "border": null,
      "bottom": null,
      "display": null,
      "flex": null,
      "flex_flow": null,
      "grid_area": null,
      "grid_auto_columns": null,
      "grid_auto_flow": null,
      "grid_auto_rows": null,
      "grid_column": null,
      "grid_gap": null,
      "grid_row": null,
      "grid_template_areas": null,
      "grid_template_columns": null,
      "grid_template_rows": null,
      "height": null,
      "justify_content": null,
      "justify_items": null,
      "left": null,
      "margin": null,
      "max_height": null,
      "max_width": null,
      "min_height": null,
      "min_width": null,
      "object_fit": null,
      "object_position": null,
      "order": null,
      "overflow": null,
      "overflow_x": null,
      "overflow_y": null,
      "padding": null,
      "right": null,
      "top": null,
      "visibility": null,
      "width": null
     }
    },
    "4c42e49a85974413a8653d6b99b4c889": {
     "model_module": "@jupyter-widgets/controls",
     "model_module_version": "1.5.0",
     "model_name": "FloatProgressModel",
     "state": {
      "_dom_classes": [],
      "_model_module": "@jupyter-widgets/controls",
      "_model_module_version": "1.5.0",
      "_model_name": "FloatProgressModel",
      "_view_count": null,
      "_view_module": "@jupyter-widgets/controls",
      "_view_module_version": "1.5.0",
      "_view_name": "ProgressView",
      "bar_style": "success",
      "description": "",
      "description_tooltip": null,
      "layout": "IPY_MODEL_0ffad6680f7a4c57adc0c082f187d26b",
      "max": 1347,
      "min": 0,
      "orientation": "horizontal",
      "style": "IPY_MODEL_6cd5223c2e4e47e8ad0377cdb3323a82",
      "value": 1347
     }
    },
    "4c730edf6c7445d08f97c41d1bcbebd8": {
     "model_module": "@jupyter-widgets/base",
     "model_module_version": "1.2.0",
     "model_name": "LayoutModel",
     "state": {
      "_model_module": "@jupyter-widgets/base",
      "_model_module_version": "1.2.0",
      "_model_name": "LayoutModel",
      "_view_count": null,
      "_view_module": "@jupyter-widgets/base",
      "_view_module_version": "1.2.0",
      "_view_name": "LayoutView",
      "align_content": null,
      "align_items": null,
      "align_self": null,
      "border": null,
      "bottom": null,
      "display": null,
      "flex": null,
      "flex_flow": null,
      "grid_area": null,
      "grid_auto_columns": null,
      "grid_auto_flow": null,
      "grid_auto_rows": null,
      "grid_column": null,
      "grid_gap": null,
      "grid_row": null,
      "grid_template_areas": null,
      "grid_template_columns": null,
      "grid_template_rows": null,
      "height": null,
      "justify_content": null,
      "justify_items": null,
      "left": null,
      "margin": null,
      "max_height": null,
      "max_width": null,
      "min_height": null,
      "min_width": null,
      "object_fit": null,
      "object_position": null,
      "order": null,
      "overflow": null,
      "overflow_x": null,
      "overflow_y": null,
      "padding": null,
      "right": null,
      "top": null,
      "visibility": null,
      "width": null
     }
    },
    "4c7e53c56f304ef59a704cfdf898f570": {
     "model_module": "@jupyter-widgets/base",
     "model_module_version": "1.2.0",
     "model_name": "LayoutModel",
     "state": {
      "_model_module": "@jupyter-widgets/base",
      "_model_module_version": "1.2.0",
      "_model_name": "LayoutModel",
      "_view_count": null,
      "_view_module": "@jupyter-widgets/base",
      "_view_module_version": "1.2.0",
      "_view_name": "LayoutView",
      "align_content": null,
      "align_items": null,
      "align_self": null,
      "border": null,
      "bottom": null,
      "display": null,
      "flex": null,
      "flex_flow": null,
      "grid_area": null,
      "grid_auto_columns": null,
      "grid_auto_flow": null,
      "grid_auto_rows": null,
      "grid_column": null,
      "grid_gap": null,
      "grid_row": null,
      "grid_template_areas": null,
      "grid_template_columns": null,
      "grid_template_rows": null,
      "height": null,
      "justify_content": null,
      "justify_items": null,
      "left": null,
      "margin": null,
      "max_height": null,
      "max_width": null,
      "min_height": null,
      "min_width": null,
      "object_fit": null,
      "object_position": null,
      "order": null,
      "overflow": null,
      "overflow_x": null,
      "overflow_y": null,
      "padding": null,
      "right": null,
      "top": null,
      "visibility": null,
      "width": null
     }
    },
    "4f3aba312bfc4c4bb53f63089025e57e": {
     "model_module": "@jupyter-widgets/controls",
     "model_module_version": "1.5.0",
     "model_name": "DescriptionStyleModel",
     "state": {
      "_model_module": "@jupyter-widgets/controls",
      "_model_module_version": "1.5.0",
      "_model_name": "DescriptionStyleModel",
      "_view_count": null,
      "_view_module": "@jupyter-widgets/base",
      "_view_module_version": "1.2.0",
      "_view_name": "StyleView",
      "description_width": ""
     }
    },
    "50eaa9f0ff4148c0a81195e5108a191f": {
     "model_module": "@jupyter-widgets/base",
     "model_module_version": "1.2.0",
     "model_name": "LayoutModel",
     "state": {
      "_model_module": "@jupyter-widgets/base",
      "_model_module_version": "1.2.0",
      "_model_name": "LayoutModel",
      "_view_count": null,
      "_view_module": "@jupyter-widgets/base",
      "_view_module_version": "1.2.0",
      "_view_name": "LayoutView",
      "align_content": null,
      "align_items": null,
      "align_self": null,
      "border": null,
      "bottom": null,
      "display": null,
      "flex": null,
      "flex_flow": null,
      "grid_area": null,
      "grid_auto_columns": null,
      "grid_auto_flow": null,
      "grid_auto_rows": null,
      "grid_column": null,
      "grid_gap": null,
      "grid_row": null,
      "grid_template_areas": null,
      "grid_template_columns": null,
      "grid_template_rows": null,
      "height": null,
      "justify_content": null,
      "justify_items": null,
      "left": null,
      "margin": null,
      "max_height": null,
      "max_width": null,
      "min_height": null,
      "min_width": null,
      "object_fit": null,
      "object_position": null,
      "order": null,
      "overflow": null,
      "overflow_x": null,
      "overflow_y": null,
      "padding": null,
      "right": null,
      "top": null,
      "visibility": null,
      "width": null
     }
    },
    "564c2567badf4ce7b628880eb22b366e": {
     "model_module": "@jupyter-widgets/base",
     "model_module_version": "1.2.0",
     "model_name": "LayoutModel",
     "state": {
      "_model_module": "@jupyter-widgets/base",
      "_model_module_version": "1.2.0",
      "_model_name": "LayoutModel",
      "_view_count": null,
      "_view_module": "@jupyter-widgets/base",
      "_view_module_version": "1.2.0",
      "_view_name": "LayoutView",
      "align_content": null,
      "align_items": null,
      "align_self": null,
      "border": null,
      "bottom": null,
      "display": null,
      "flex": null,
      "flex_flow": null,
      "grid_area": null,
      "grid_auto_columns": null,
      "grid_auto_flow": null,
      "grid_auto_rows": null,
      "grid_column": null,
      "grid_gap": null,
      "grid_row": null,
      "grid_template_areas": null,
      "grid_template_columns": null,
      "grid_template_rows": null,
      "height": null,
      "justify_content": null,
      "justify_items": null,
      "left": null,
      "margin": null,
      "max_height": null,
      "max_width": null,
      "min_height": null,
      "min_width": null,
      "object_fit": null,
      "object_position": null,
      "order": null,
      "overflow": null,
      "overflow_x": null,
      "overflow_y": null,
      "padding": null,
      "right": null,
      "top": null,
      "visibility": null,
      "width": null
     }
    },
    "5bc384bda83e4a738d4ba081248be90b": {
     "model_module": "@jupyter-widgets/controls",
     "model_module_version": "1.5.0",
     "model_name": "DescriptionStyleModel",
     "state": {
      "_model_module": "@jupyter-widgets/controls",
      "_model_module_version": "1.5.0",
      "_model_name": "DescriptionStyleModel",
      "_view_count": null,
      "_view_module": "@jupyter-widgets/base",
      "_view_module_version": "1.2.0",
      "_view_name": "StyleView",
      "description_width": ""
     }
    },
    "5d3f8bbeab3d4d0aaf03baedea6b9a93": {
     "model_module": "@jupyter-widgets/controls",
     "model_module_version": "1.5.0",
     "model_name": "HTMLModel",
     "state": {
      "_dom_classes": [],
      "_model_module": "@jupyter-widgets/controls",
      "_model_module_version": "1.5.0",
      "_model_name": "HTMLModel",
      "_view_count": null,
      "_view_module": "@jupyter-widgets/controls",
      "_view_module_version": "1.5.0",
      "_view_name": "HTMLView",
      "description": "",
      "description_tooltip": null,
      "layout": "IPY_MODEL_da0dcd0b2ea84a108b9bbe6bae93e392",
      "placeholder": "​",
      "style": "IPY_MODEL_69bde1bb40c74add93faaf1a5ade9ce5",
      "value": "Generating train split: "
     }
    },
    "60d86fc9ec3c4b5daa17015dfe79e0e9": {
     "model_module": "@jupyter-widgets/base",
     "model_module_version": "1.2.0",
     "model_name": "LayoutModel",
     "state": {
      "_model_module": "@jupyter-widgets/base",
      "_model_module_version": "1.2.0",
      "_model_name": "LayoutModel",
      "_view_count": null,
      "_view_module": "@jupyter-widgets/base",
      "_view_module_version": "1.2.0",
      "_view_name": "LayoutView",
      "align_content": null,
      "align_items": null,
      "align_self": null,
      "border": null,
      "bottom": null,
      "display": null,
      "flex": null,
      "flex_flow": null,
      "grid_area": null,
      "grid_auto_columns": null,
      "grid_auto_flow": null,
      "grid_auto_rows": null,
      "grid_column": null,
      "grid_gap": null,
      "grid_row": null,
      "grid_template_areas": null,
      "grid_template_columns": null,
      "grid_template_rows": null,
      "height": null,
      "justify_content": null,
      "justify_items": null,
      "left": null,
      "margin": null,
      "max_height": null,
      "max_width": null,
      "min_height": null,
      "min_width": null,
      "object_fit": null,
      "object_position": null,
      "order": null,
      "overflow": null,
      "overflow_x": null,
      "overflow_y": null,
      "padding": null,
      "right": null,
      "top": null,
      "visibility": null,
      "width": null
     }
    },
    "6103a66095c14f718bd64a5ae9f6f902": {
     "model_module": "@jupyter-widgets/base",
     "model_module_version": "1.2.0",
     "model_name": "LayoutModel",
     "state": {
      "_model_module": "@jupyter-widgets/base",
      "_model_module_version": "1.2.0",
      "_model_name": "LayoutModel",
      "_view_count": null,
      "_view_module": "@jupyter-widgets/base",
      "_view_module_version": "1.2.0",
      "_view_name": "LayoutView",
      "align_content": null,
      "align_items": null,
      "align_self": null,
      "border": null,
      "bottom": null,
      "display": null,
      "flex": null,
      "flex_flow": null,
      "grid_area": null,
      "grid_auto_columns": null,
      "grid_auto_flow": null,
      "grid_auto_rows": null,
      "grid_column": null,
      "grid_gap": null,
      "grid_row": null,
      "grid_template_areas": null,
      "grid_template_columns": null,
      "grid_template_rows": null,
      "height": null,
      "justify_content": null,
      "justify_items": null,
      "left": null,
      "margin": null,
      "max_height": null,
      "max_width": null,
      "min_height": null,
      "min_width": null,
      "object_fit": null,
      "object_position": null,
      "order": null,
      "overflow": null,
      "overflow_x": null,
      "overflow_y": null,
      "padding": null,
      "right": null,
      "top": null,
      "visibility": null,
      "width": null
     }
    },
    "641f1ce867314d9bbb82b00faee1d067": {
     "model_module": "@jupyter-widgets/controls",
     "model_module_version": "1.5.0",
     "model_name": "FloatProgressModel",
     "state": {
      "_dom_classes": [],
      "_model_module": "@jupyter-widgets/controls",
      "_model_module_version": "1.5.0",
      "_model_name": "FloatProgressModel",
      "_view_count": null,
      "_view_module": "@jupyter-widgets/controls",
      "_view_module_version": "1.5.0",
      "_view_name": "ProgressView",
      "bar_style": "success",
      "description": "",
      "description_tooltip": null,
      "layout": "IPY_MODEL_396e5ac49f194ce1925cce0870c356d0",
      "max": 200,
      "min": 0,
      "orientation": "horizontal",
      "style": "IPY_MODEL_750f1d0d0e6c47da8314cebbb80f2204",
      "value": 200
     }
    },
    "69bde1bb40c74add93faaf1a5ade9ce5": {
     "model_module": "@jupyter-widgets/controls",
     "model_module_version": "1.5.0",
     "model_name": "DescriptionStyleModel",
     "state": {
      "_model_module": "@jupyter-widgets/controls",
      "_model_module_version": "1.5.0",
      "_model_name": "DescriptionStyleModel",
      "_view_count": null,
      "_view_module": "@jupyter-widgets/base",
      "_view_module_version": "1.2.0",
      "_view_name": "StyleView",
      "description_width": ""
     }
    },
    "6a561d79ee40404bb42bdf5a58ab8735": {
     "model_module": "@jupyter-widgets/base",
     "model_module_version": "1.2.0",
     "model_name": "LayoutModel",
     "state": {
      "_model_module": "@jupyter-widgets/base",
      "_model_module_version": "1.2.0",
      "_model_name": "LayoutModel",
      "_view_count": null,
      "_view_module": "@jupyter-widgets/base",
      "_view_module_version": "1.2.0",
      "_view_name": "LayoutView",
      "align_content": null,
      "align_items": null,
      "align_self": null,
      "border": null,
      "bottom": null,
      "display": null,
      "flex": null,
      "flex_flow": null,
      "grid_area": null,
      "grid_auto_columns": null,
      "grid_auto_flow": null,
      "grid_auto_rows": null,
      "grid_column": null,
      "grid_gap": null,
      "grid_row": null,
      "grid_template_areas": null,
      "grid_template_columns": null,
      "grid_template_rows": null,
      "height": null,
      "justify_content": null,
      "justify_items": null,
      "left": null,
      "margin": null,
      "max_height": null,
      "max_width": null,
      "min_height": null,
      "min_width": null,
      "object_fit": null,
      "object_position": null,
      "order": null,
      "overflow": null,
      "overflow_x": null,
      "overflow_y": null,
      "padding": null,
      "right": null,
      "top": null,
      "visibility": null,
      "width": null
     }
    },
    "6a726e6e13bf4167a59c90d0e0ffd3b6": {
     "model_module": "@jupyter-widgets/controls",
     "model_module_version": "1.5.0",
     "model_name": "HTMLModel",
     "state": {
      "_dom_classes": [],
      "_model_module": "@jupyter-widgets/controls",
      "_model_module_version": "1.5.0",
      "_model_name": "HTMLModel",
      "_view_count": null,
      "_view_module": "@jupyter-widgets/controls",
      "_view_module_version": "1.5.0",
      "_view_name": "HTMLView",
      "description": "",
      "description_tooltip": null,
      "layout": "IPY_MODEL_fe0b40e84ae544ebbfc7da86915f0f32",
      "placeholder": "​",
      "style": "IPY_MODEL_ad7bc6d5e1c9446d972bf45125d1ade6",
      "value": " 27629/0 [00:01&lt;00:00, 34620.66 examples/s]"
     }
    },
    "6cd5223c2e4e47e8ad0377cdb3323a82": {
     "model_module": "@jupyter-widgets/controls",
     "model_module_version": "1.5.0",
     "model_name": "ProgressStyleModel",
     "state": {
      "_model_module": "@jupyter-widgets/controls",
      "_model_module_version": "1.5.0",
      "_model_name": "ProgressStyleModel",
      "_view_count": null,
      "_view_module": "@jupyter-widgets/base",
      "_view_module_version": "1.2.0",
      "_view_name": "StyleView",
      "bar_color": null,
      "description_width": ""
     }
    },
    "6dc6a8d254044ebcb3717482941b8dba": {
     "model_module": "@jupyter-widgets/controls",
     "model_module_version": "1.5.0",
     "model_name": "HBoxModel",
     "state": {
      "_dom_classes": [],
      "_model_module": "@jupyter-widgets/controls",
      "_model_module_version": "1.5.0",
      "_model_name": "HBoxModel",
      "_view_count": null,
      "_view_module": "@jupyter-widgets/controls",
      "_view_module_version": "1.5.0",
      "_view_name": "HBoxView",
      "box_style": "",
      "children": [
       "IPY_MODEL_d4c40208ce24484d980cfc7ee6ecf6ba",
       "IPY_MODEL_b67008a6c6ba4003a52912b8ee9e436d",
       "IPY_MODEL_6a726e6e13bf4167a59c90d0e0ffd3b6"
      ],
      "layout": "IPY_MODEL_12a247ff0fc247a68565d9a40f46bd32"
     }
    },
    "71a929da757844a1964e7de55447c8c6": {
     "model_module": "@jupyter-widgets/controls",
     "model_module_version": "1.5.0",
     "model_name": "DescriptionStyleModel",
     "state": {
      "_model_module": "@jupyter-widgets/controls",
      "_model_module_version": "1.5.0",
      "_model_name": "DescriptionStyleModel",
      "_view_count": null,
      "_view_module": "@jupyter-widgets/base",
      "_view_module_version": "1.2.0",
      "_view_name": "StyleView",
      "description_width": ""
     }
    },
    "750f1d0d0e6c47da8314cebbb80f2204": {
     "model_module": "@jupyter-widgets/controls",
     "model_module_version": "1.5.0",
     "model_name": "ProgressStyleModel",
     "state": {
      "_model_module": "@jupyter-widgets/controls",
      "_model_module_version": "1.5.0",
      "_model_name": "ProgressStyleModel",
      "_view_count": null,
      "_view_module": "@jupyter-widgets/base",
      "_view_module_version": "1.2.0",
      "_view_name": "StyleView",
      "bar_color": null,
      "description_width": ""
     }
    },
    "7837b2c05c4043febe5990b9423fcc6e": {
     "model_module": "@jupyter-widgets/controls",
     "model_module_version": "1.5.0",
     "model_name": "HTMLModel",
     "state": {
      "_dom_classes": [],
      "_model_module": "@jupyter-widgets/controls",
      "_model_module_version": "1.5.0",
      "_model_name": "HTMLModel",
      "_view_count": null,
      "_view_module": "@jupyter-widgets/controls",
      "_view_module_version": "1.5.0",
      "_view_name": "HTMLView",
      "description": "",
      "description_tooltip": null,
      "layout": "IPY_MODEL_4c7e53c56f304ef59a704cfdf898f570",
      "placeholder": "​",
      "style": "IPY_MODEL_5bc384bda83e4a738d4ba081248be90b",
      "value": " 90.0/90.0 [00:00&lt;00:00, 5.96kB/s]"
     }
    },
    "79832ffcbadf4f2d8672ccb0c61454d2": {
     "model_module": "@jupyter-widgets/base",
     "model_module_version": "1.2.0",
     "model_name": "LayoutModel",
     "state": {
      "_model_module": "@jupyter-widgets/base",
      "_model_module_version": "1.2.0",
      "_model_name": "LayoutModel",
      "_view_count": null,
      "_view_module": "@jupyter-widgets/base",
      "_view_module_version": "1.2.0",
      "_view_name": "LayoutView",
      "align_content": null,
      "align_items": null,
      "align_self": null,
      "border": null,
      "bottom": null,
      "display": null,
      "flex": null,
      "flex_flow": null,
      "grid_area": null,
      "grid_auto_columns": null,
      "grid_auto_flow": null,
      "grid_auto_rows": null,
      "grid_column": null,
      "grid_gap": null,
      "grid_row": null,
      "grid_template_areas": null,
      "grid_template_columns": null,
      "grid_template_rows": null,
      "height": null,
      "justify_content": null,
      "justify_items": null,
      "left": null,
      "margin": null,
      "max_height": null,
      "max_width": null,
      "min_height": null,
      "min_width": null,
      "object_fit": null,
      "object_position": null,
      "order": null,
      "overflow": null,
      "overflow_x": null,
      "overflow_y": null,
      "padding": null,
      "right": null,
      "top": null,
      "visibility": null,
      "width": null
     }
    },
    "7cbcbca973054204a58e340fe4ad83b4": {
     "model_module": "@jupyter-widgets/base",
     "model_module_version": "1.2.0",
     "model_name": "LayoutModel",
     "state": {
      "_model_module": "@jupyter-widgets/base",
      "_model_module_version": "1.2.0",
      "_model_name": "LayoutModel",
      "_view_count": null,
      "_view_module": "@jupyter-widgets/base",
      "_view_module_version": "1.2.0",
      "_view_name": "LayoutView",
      "align_content": null,
      "align_items": null,
      "align_self": null,
      "border": null,
      "bottom": null,
      "display": null,
      "flex": null,
      "flex_flow": null,
      "grid_area": null,
      "grid_auto_columns": null,
      "grid_auto_flow": null,
      "grid_auto_rows": null,
      "grid_column": null,
      "grid_gap": null,
      "grid_row": null,
      "grid_template_areas": null,
      "grid_template_columns": null,
      "grid_template_rows": null,
      "height": null,
      "justify_content": null,
      "justify_items": null,
      "left": null,
      "margin": null,
      "max_height": null,
      "max_width": null,
      "min_height": null,
      "min_width": null,
      "object_fit": null,
      "object_position": null,
      "order": null,
      "overflow": null,
      "overflow_x": null,
      "overflow_y": null,
      "padding": null,
      "right": null,
      "top": null,
      "visibility": null,
      "width": "20px"
     }
    },
    "835976c99663435fbded19cfcead0008": {
     "model_module": "@jupyter-widgets/controls",
     "model_module_version": "1.5.0",
     "model_name": "HTMLModel",
     "state": {
      "_dom_classes": [],
      "_model_module": "@jupyter-widgets/controls",
      "_model_module_version": "1.5.0",
      "_model_name": "HTMLModel",
      "_view_count": null,
      "_view_module": "@jupyter-widgets/controls",
      "_view_module_version": "1.5.0",
      "_view_name": "HTMLView",
      "description": "",
      "description_tooltip": null,
      "layout": "IPY_MODEL_a1cc5acf134541ffa3cffb3ac95704dc",
      "placeholder": "​",
      "style": "IPY_MODEL_c2d947cd71554e8a812eb04a665bf29c",
      "value": "Downloading (…)okenizer_config.json: 100%"
     }
    },
    "83d1a660ed004b4aaad7b5c32b3855f7": {
     "model_module": "@jupyter-widgets/controls",
     "model_module_version": "1.5.0",
     "model_name": "ProgressStyleModel",
     "state": {
      "_model_module": "@jupyter-widgets/controls",
      "_model_module_version": "1.5.0",
      "_model_name": "ProgressStyleModel",
      "_view_count": null,
      "_view_module": "@jupyter-widgets/base",
      "_view_module_version": "1.2.0",
      "_view_name": "StyleView",
      "bar_color": null,
      "description_width": ""
     }
    },
    "862927a8b9d14544bd27fded529b6f30": {
     "model_module": "@jupyter-widgets/base",
     "model_module_version": "1.2.0",
     "model_name": "LayoutModel",
     "state": {
      "_model_module": "@jupyter-widgets/base",
      "_model_module_version": "1.2.0",
      "_model_name": "LayoutModel",
      "_view_count": null,
      "_view_module": "@jupyter-widgets/base",
      "_view_module_version": "1.2.0",
      "_view_name": "LayoutView",
      "align_content": null,
      "align_items": null,
      "align_self": null,
      "border": null,
      "bottom": null,
      "display": null,
      "flex": null,
      "flex_flow": null,
      "grid_area": null,
      "grid_auto_columns": null,
      "grid_auto_flow": null,
      "grid_auto_rows": null,
      "grid_column": null,
      "grid_gap": null,
      "grid_row": null,
      "grid_template_areas": null,
      "grid_template_columns": null,
      "grid_template_rows": null,
      "height": null,
      "justify_content": null,
      "justify_items": null,
      "left": null,
      "margin": null,
      "max_height": null,
      "max_width": null,
      "min_height": null,
      "min_width": null,
      "object_fit": null,
      "object_position": null,
      "order": null,
      "overflow": null,
      "overflow_x": null,
      "overflow_y": null,
      "padding": null,
      "right": null,
      "top": null,
      "visibility": null,
      "width": null
     }
    },
    "8abdfd425a7f43d8aa49b8f3b4573a40": {
     "model_module": "@jupyter-widgets/controls",
     "model_module_version": "1.5.0",
     "model_name": "FloatProgressModel",
     "state": {
      "_dom_classes": [],
      "_model_module": "@jupyter-widgets/controls",
      "_model_module_version": "1.5.0",
      "_model_name": "FloatProgressModel",
      "_view_count": null,
      "_view_module": "@jupyter-widgets/controls",
      "_view_module_version": "1.5.0",
      "_view_name": "ProgressView",
      "bar_style": "success",
      "description": "",
      "description_tooltip": null,
      "layout": "IPY_MODEL_e649a26d05184ca7a336d8dc13ac47fb",
      "max": 90,
      "min": 0,
      "orientation": "horizontal",
      "style": "IPY_MODEL_ac4bdd8fcd794f57b1f3a4f7f60cc872",
      "value": 90
     }
    },
    "a1cc5acf134541ffa3cffb3ac95704dc": {
     "model_module": "@jupyter-widgets/base",
     "model_module_version": "1.2.0",
     "model_name": "LayoutModel",
     "state": {
      "_model_module": "@jupyter-widgets/base",
      "_model_module_version": "1.2.0",
      "_model_name": "LayoutModel",
      "_view_count": null,
      "_view_module": "@jupyter-widgets/base",
      "_view_module_version": "1.2.0",
      "_view_name": "LayoutView",
      "align_content": null,
      "align_items": null,
      "align_self": null,
      "border": null,
      "bottom": null,
      "display": null,
      "flex": null,
      "flex_flow": null,
      "grid_area": null,
      "grid_auto_columns": null,
      "grid_auto_flow": null,
      "grid_auto_rows": null,
      "grid_column": null,
      "grid_gap": null,
      "grid_row": null,
      "grid_template_areas": null,
      "grid_template_columns": null,
      "grid_template_rows": null,
      "height": null,
      "justify_content": null,
      "justify_items": null,
      "left": null,
      "margin": null,
      "max_height": null,
      "max_width": null,
      "min_height": null,
      "min_width": null,
      "object_fit": null,
      "object_position": null,
      "order": null,
      "overflow": null,
      "overflow_x": null,
      "overflow_y": null,
      "padding": null,
      "right": null,
      "top": null,
      "visibility": null,
      "width": null
     }
    },
    "a21eae30729b4e84a7d15447ac256c7d": {
     "model_module": "@jupyter-widgets/controls",
     "model_module_version": "1.5.0",
     "model_name": "DescriptionStyleModel",
     "state": {
      "_model_module": "@jupyter-widgets/controls",
      "_model_module_version": "1.5.0",
      "_model_name": "DescriptionStyleModel",
      "_view_count": null,
      "_view_module": "@jupyter-widgets/base",
      "_view_module_version": "1.2.0",
      "_view_name": "StyleView",
      "description_width": ""
     }
    },
    "a380e30f9f7f4997a84e22ad8de3dcb7": {
     "model_module": "@jupyter-widgets/controls",
     "model_module_version": "1.5.0",
     "model_name": "HBoxModel",
     "state": {
      "_dom_classes": [],
      "_model_module": "@jupyter-widgets/controls",
      "_model_module_version": "1.5.0",
      "_model_name": "HBoxModel",
      "_view_count": null,
      "_view_module": "@jupyter-widgets/controls",
      "_view_module_version": "1.5.0",
      "_view_name": "HBoxView",
      "box_style": "",
      "children": [
       "IPY_MODEL_cc11805c6b9b4a548dedcc4d96c2a23f",
       "IPY_MODEL_4375987be9384451a66910b16726bc5f",
       "IPY_MODEL_aded652451844d9ba0483a8481b288cc"
      ],
      "layout": "IPY_MODEL_07727398e3a54d9194802b256eba51d4"
     }
    },
    "a3f7148bb90b450488e92e58c7f4ea52": {
     "model_module": "@jupyter-widgets/controls",
     "model_module_version": "1.5.0",
     "model_name": "ProgressStyleModel",
     "state": {
      "_model_module": "@jupyter-widgets/controls",
      "_model_module_version": "1.5.0",
      "_model_name": "ProgressStyleModel",
      "_view_count": null,
      "_view_module": "@jupyter-widgets/base",
      "_view_module_version": "1.2.0",
      "_view_name": "StyleView",
      "bar_color": null,
      "description_width": ""
     }
    },
    "a6b18678e7014bfbbffc40451a48b947": {
     "model_module": "@jupyter-widgets/controls",
     "model_module_version": "1.5.0",
     "model_name": "HTMLModel",
     "state": {
      "_dom_classes": [],
      "_model_module": "@jupyter-widgets/controls",
      "_model_module_version": "1.5.0",
      "_model_name": "HTMLModel",
      "_view_count": null,
      "_view_module": "@jupyter-widgets/controls",
      "_view_module_version": "1.5.0",
      "_view_name": "HTMLView",
      "description": "",
      "description_tooltip": null,
      "layout": "IPY_MODEL_4c21857c0f734a3da00c62e0689f2c25",
      "placeholder": "​",
      "style": "IPY_MODEL_d2284797c2e14f129bdefd38290f4616",
      "value": " 1.35k/1.35k [00:00&lt;00:00, 89.5kB/s]"
     }
    },
    "ac4bdd8fcd794f57b1f3a4f7f60cc872": {
     "model_module": "@jupyter-widgets/controls",
     "model_module_version": "1.5.0",
     "model_name": "ProgressStyleModel",
     "state": {
      "_model_module": "@jupyter-widgets/controls",
      "_model_module_version": "1.5.0",
      "_model_name": "ProgressStyleModel",
      "_view_count": null,
      "_view_module": "@jupyter-widgets/base",
      "_view_module_version": "1.2.0",
      "_view_name": "StyleView",
      "bar_color": null,
      "description_width": ""
     }
    },
    "ad7bc6d5e1c9446d972bf45125d1ade6": {
     "model_module": "@jupyter-widgets/controls",
     "model_module_version": "1.5.0",
     "model_name": "DescriptionStyleModel",
     "state": {
      "_model_module": "@jupyter-widgets/controls",
      "_model_module_version": "1.5.0",
      "_model_name": "DescriptionStyleModel",
      "_view_count": null,
      "_view_module": "@jupyter-widgets/base",
      "_view_module_version": "1.2.0",
      "_view_name": "StyleView",
      "description_width": ""
     }
    },
    "ad861c226c92402eb9f45407cbbfa865": {
     "model_module": "@jupyter-widgets/controls",
     "model_module_version": "1.5.0",
     "model_name": "DescriptionStyleModel",
     "state": {
      "_model_module": "@jupyter-widgets/controls",
      "_model_module_version": "1.5.0",
      "_model_name": "DescriptionStyleModel",
      "_view_count": null,
      "_view_module": "@jupyter-widgets/base",
      "_view_module_version": "1.2.0",
      "_view_name": "StyleView",
      "description_width": ""
     }
    },
    "aded652451844d9ba0483a8481b288cc": {
     "model_module": "@jupyter-widgets/controls",
     "model_module_version": "1.5.0",
     "model_name": "HTMLModel",
     "state": {
      "_dom_classes": [],
      "_model_module": "@jupyter-widgets/controls",
      "_model_module_version": "1.5.0",
      "_model_name": "HTMLModel",
      "_view_count": null,
      "_view_module": "@jupyter-widgets/controls",
      "_view_module_version": "1.5.0",
      "_view_name": "HTMLView",
      "description": "",
      "description_tooltip": null,
      "layout": "IPY_MODEL_1f16c91721024104ba77437c29128371",
      "placeholder": "​",
      "style": "IPY_MODEL_e48da240437a485e9ed42afc90ef1a6f",
      "value": " 798k/798k [00:00&lt;00:00, 8.17MB/s]"
     }
    },
    "b4122330c6c545ba83c913bde50ce418": {
     "model_module": "@jupyter-widgets/base",
     "model_module_version": "1.2.0",
     "model_name": "LayoutModel",
     "state": {
      "_model_module": "@jupyter-widgets/base",
      "_model_module_version": "1.2.0",
      "_model_name": "LayoutModel",
      "_view_count": null,
      "_view_module": "@jupyter-widgets/base",
      "_view_module_version": "1.2.0",
      "_view_name": "LayoutView",
      "align_content": null,
      "align_items": null,
      "align_self": null,
      "border": null,
      "bottom": null,
      "display": null,
      "flex": null,
      "flex_flow": null,
      "grid_area": null,
      "grid_auto_columns": null,
      "grid_auto_flow": null,
      "grid_auto_rows": null,
      "grid_column": null,
      "grid_gap": null,
      "grid_row": null,
      "grid_template_areas": null,
      "grid_template_columns": null,
      "grid_template_rows": null,
      "height": null,
      "justify_content": null,
      "justify_items": null,
      "left": null,
      "margin": null,
      "max_height": null,
      "max_width": null,
      "min_height": null,
      "min_width": null,
      "object_fit": null,
      "object_position": null,
      "order": null,
      "overflow": null,
      "overflow_x": null,
      "overflow_y": null,
      "padding": null,
      "right": null,
      "top": null,
      "visibility": null,
      "width": null
     }
    },
    "b67008a6c6ba4003a52912b8ee9e436d": {
     "model_module": "@jupyter-widgets/controls",
     "model_module_version": "1.5.0",
     "model_name": "FloatProgressModel",
     "state": {
      "_dom_classes": [],
      "_model_module": "@jupyter-widgets/controls",
      "_model_module_version": "1.5.0",
      "_model_name": "FloatProgressModel",
      "_view_count": null,
      "_view_module": "@jupyter-widgets/controls",
      "_view_module_version": "1.5.0",
      "_view_name": "ProgressView",
      "bar_style": "success",
      "description": "",
      "description_tooltip": null,
      "layout": "IPY_MODEL_0e80175b6664409ba0f1a9490cc14b05",
      "max": 1,
      "min": 0,
      "orientation": "horizontal",
      "style": "IPY_MODEL_3a124b2f20884e87bdcdb5f7856e0895",
      "value": 1
     }
    },
    "b6cd83681bf74639a5d40f6ae151aa36": {
     "model_module": "@jupyter-widgets/controls",
     "model_module_version": "1.5.0",
     "model_name": "DescriptionStyleModel",
     "state": {
      "_model_module": "@jupyter-widgets/controls",
      "_model_module_version": "1.5.0",
      "_model_name": "DescriptionStyleModel",
      "_view_count": null,
      "_view_module": "@jupyter-widgets/base",
      "_view_module_version": "1.2.0",
      "_view_name": "StyleView",
      "description_width": ""
     }
    },
    "ba5be020cd5b42529d3aaf21669105cb": {
     "model_module": "@jupyter-widgets/controls",
     "model_module_version": "1.5.0",
     "model_name": "HTMLModel",
     "state": {
      "_dom_classes": [],
      "_model_module": "@jupyter-widgets/controls",
      "_model_module_version": "1.5.0",
      "_model_name": "HTMLModel",
      "_view_count": null,
      "_view_module": "@jupyter-widgets/controls",
      "_view_module_version": "1.5.0",
      "_view_name": "HTMLView",
      "description": "",
      "description_tooltip": null,
      "layout": "IPY_MODEL_fb89563f211b494aabddaadaa1c08823",
      "placeholder": "​",
      "style": "IPY_MODEL_ad861c226c92402eb9f45407cbbfa865",
      "value": " 200/200 [00:00&lt;00:00, 15.9kB/s]"
     }
    },
    "c2d947cd71554e8a812eb04a665bf29c": {
     "model_module": "@jupyter-widgets/controls",
     "model_module_version": "1.5.0",
     "model_name": "DescriptionStyleModel",
     "state": {
      "_model_module": "@jupyter-widgets/controls",
      "_model_module_version": "1.5.0",
      "_model_name": "DescriptionStyleModel",
      "_view_count": null,
      "_view_module": "@jupyter-widgets/base",
      "_view_module_version": "1.2.0",
      "_view_name": "StyleView",
      "description_width": ""
     }
    },
    "cc11805c6b9b4a548dedcc4d96c2a23f": {
     "model_module": "@jupyter-widgets/controls",
     "model_module_version": "1.5.0",
     "model_name": "HTMLModel",
     "state": {
      "_dom_classes": [],
      "_model_module": "@jupyter-widgets/controls",
      "_model_module_version": "1.5.0",
      "_model_name": "HTMLModel",
      "_view_count": null,
      "_view_module": "@jupyter-widgets/controls",
      "_view_module_version": "1.5.0",
      "_view_name": "HTMLView",
      "description": "",
      "description_tooltip": null,
      "layout": "IPY_MODEL_6103a66095c14f718bd64a5ae9f6f902",
      "placeholder": "​",
      "style": "IPY_MODEL_4f3aba312bfc4c4bb53f63089025e57e",
      "value": "Downloading (…)olve/main/vocab.json: 100%"
     }
    },
    "d2284797c2e14f129bdefd38290f4616": {
     "model_module": "@jupyter-widgets/controls",
     "model_module_version": "1.5.0",
     "model_name": "DescriptionStyleModel",
     "state": {
      "_model_module": "@jupyter-widgets/controls",
      "_model_module_version": "1.5.0",
      "_model_name": "DescriptionStyleModel",
      "_view_count": null,
      "_view_module": "@jupyter-widgets/base",
      "_view_module_version": "1.2.0",
      "_view_name": "StyleView",
      "description_width": ""
     }
    },
    "d4c40208ce24484d980cfc7ee6ecf6ba": {
     "model_module": "@jupyter-widgets/controls",
     "model_module_version": "1.5.0",
     "model_name": "HTMLModel",
     "state": {
      "_dom_classes": [],
      "_model_module": "@jupyter-widgets/controls",
      "_model_module_version": "1.5.0",
      "_model_name": "HTMLModel",
      "_view_count": null,
      "_view_module": "@jupyter-widgets/controls",
      "_view_module_version": "1.5.0",
      "_view_name": "HTMLView",
      "description": "",
      "description_tooltip": null,
      "layout": "IPY_MODEL_6a561d79ee40404bb42bdf5a58ab8735",
      "placeholder": "​",
      "style": "IPY_MODEL_f0661ee032ec4a049059eb6501b9597a",
      "value": "Generating train split: "
     }
    },
    "da0dcd0b2ea84a108b9bbe6bae93e392": {
     "model_module": "@jupyter-widgets/base",
     "model_module_version": "1.2.0",
     "model_name": "LayoutModel",
     "state": {
      "_model_module": "@jupyter-widgets/base",
      "_model_module_version": "1.2.0",
      "_model_name": "LayoutModel",
      "_view_count": null,
      "_view_module": "@jupyter-widgets/base",
      "_view_module_version": "1.2.0",
      "_view_name": "LayoutView",
      "align_content": null,
      "align_items": null,
      "align_self": null,
      "border": null,
      "bottom": null,
      "display": null,
      "flex": null,
      "flex_flow": null,
      "grid_area": null,
      "grid_auto_columns": null,
      "grid_auto_flow": null,
      "grid_auto_rows": null,
      "grid_column": null,
      "grid_gap": null,
      "grid_row": null,
      "grid_template_areas": null,
      "grid_template_columns": null,
      "grid_template_rows": null,
      "height": null,
      "justify_content": null,
      "justify_items": null,
      "left": null,
      "margin": null,
      "max_height": null,
      "max_width": null,
      "min_height": null,
      "min_width": null,
      "object_fit": null,
      "object_position": null,
      "order": null,
      "overflow": null,
      "overflow_x": null,
      "overflow_y": null,
      "padding": null,
      "right": null,
      "top": null,
      "visibility": null,
      "width": null
     }
    },
    "e48da240437a485e9ed42afc90ef1a6f": {
     "model_module": "@jupyter-widgets/controls",
     "model_module_version": "1.5.0",
     "model_name": "DescriptionStyleModel",
     "state": {
      "_model_module": "@jupyter-widgets/controls",
      "_model_module_version": "1.5.0",
      "_model_name": "DescriptionStyleModel",
      "_view_count": null,
      "_view_module": "@jupyter-widgets/base",
      "_view_module_version": "1.2.0",
      "_view_name": "StyleView",
      "description_width": ""
     }
    },
    "e649a26d05184ca7a336d8dc13ac47fb": {
     "model_module": "@jupyter-widgets/base",
     "model_module_version": "1.2.0",
     "model_name": "LayoutModel",
     "state": {
      "_model_module": "@jupyter-widgets/base",
      "_model_module_version": "1.2.0",
      "_model_name": "LayoutModel",
      "_view_count": null,
      "_view_module": "@jupyter-widgets/base",
      "_view_module_version": "1.2.0",
      "_view_name": "LayoutView",
      "align_content": null,
      "align_items": null,
      "align_self": null,
      "border": null,
      "bottom": null,
      "display": null,
      "flex": null,
      "flex_flow": null,
      "grid_area": null,
      "grid_auto_columns": null,
      "grid_auto_flow": null,
      "grid_auto_rows": null,
      "grid_column": null,
      "grid_gap": null,
      "grid_row": null,
      "grid_template_areas": null,
      "grid_template_columns": null,
      "grid_template_rows": null,
      "height": null,
      "justify_content": null,
      "justify_items": null,
      "left": null,
      "margin": null,
      "max_height": null,
      "max_width": null,
      "min_height": null,
      "min_width": null,
      "object_fit": null,
      "object_position": null,
      "order": null,
      "overflow": null,
      "overflow_x": null,
      "overflow_y": null,
      "padding": null,
      "right": null,
      "top": null,
      "visibility": null,
      "width": null
     }
    },
    "ee23e3248803464bac4f3b296c75f750": {
     "model_module": "@jupyter-widgets/controls",
     "model_module_version": "1.5.0",
     "model_name": "HBoxModel",
     "state": {
      "_dom_classes": [],
      "_model_module": "@jupyter-widgets/controls",
      "_model_module_version": "1.5.0",
      "_model_name": "HBoxModel",
      "_view_count": null,
      "_view_module": "@jupyter-widgets/controls",
      "_view_module_version": "1.5.0",
      "_view_name": "HBoxView",
      "box_style": "",
      "children": [
       "IPY_MODEL_835976c99663435fbded19cfcead0008",
       "IPY_MODEL_641f1ce867314d9bbb82b00faee1d067",
       "IPY_MODEL_ba5be020cd5b42529d3aaf21669105cb"
      ],
      "layout": "IPY_MODEL_3a56e46d6a2f4e8da8fb4a3ae38fb177"
     }
    },
    "f0661ee032ec4a049059eb6501b9597a": {
     "model_module": "@jupyter-widgets/controls",
     "model_module_version": "1.5.0",
     "model_name": "DescriptionStyleModel",
     "state": {
      "_model_module": "@jupyter-widgets/controls",
      "_model_module_version": "1.5.0",
      "_model_name": "DescriptionStyleModel",
      "_view_count": null,
      "_view_module": "@jupyter-widgets/base",
      "_view_module_version": "1.2.0",
      "_view_name": "StyleView",
      "description_width": ""
     }
    },
    "f1de52e5ac4345f19e159853265ecd86": {
     "model_module": "@jupyter-widgets/base",
     "model_module_version": "1.2.0",
     "model_name": "LayoutModel",
     "state": {
      "_model_module": "@jupyter-widgets/base",
      "_model_module_version": "1.2.0",
      "_model_name": "LayoutModel",
      "_view_count": null,
      "_view_module": "@jupyter-widgets/base",
      "_view_module_version": "1.2.0",
      "_view_name": "LayoutView",
      "align_content": null,
      "align_items": null,
      "align_self": null,
      "border": null,
      "bottom": null,
      "display": null,
      "flex": null,
      "flex_flow": null,
      "grid_area": null,
      "grid_auto_columns": null,
      "grid_auto_flow": null,
      "grid_auto_rows": null,
      "grid_column": null,
      "grid_gap": null,
      "grid_row": null,
      "grid_template_areas": null,
      "grid_template_columns": null,
      "grid_template_rows": null,
      "height": null,
      "justify_content": null,
      "justify_items": null,
      "left": null,
      "margin": null,
      "max_height": null,
      "max_width": null,
      "min_height": null,
      "min_width": null,
      "object_fit": null,
      "object_position": null,
      "order": null,
      "overflow": null,
      "overflow_x": null,
      "overflow_y": null,
      "padding": null,
      "right": null,
      "top": null,
      "visibility": null,
      "width": null
     }
    },
    "f5b0bbb9629642b3b1dd990fa1a81be7": {
     "model_module": "@jupyter-widgets/controls",
     "model_module_version": "1.5.0",
     "model_name": "DescriptionStyleModel",
     "state": {
      "_model_module": "@jupyter-widgets/controls",
      "_model_module_version": "1.5.0",
      "_model_name": "DescriptionStyleModel",
      "_view_count": null,
      "_view_module": "@jupyter-widgets/base",
      "_view_module_version": "1.2.0",
      "_view_name": "StyleView",
      "description_width": ""
     }
    },
    "fa4fcd79427f4eea8d58c8cd7e64045b": {
     "model_module": "@jupyter-widgets/base",
     "model_module_version": "1.2.0",
     "model_name": "LayoutModel",
     "state": {
      "_model_module": "@jupyter-widgets/base",
      "_model_module_version": "1.2.0",
      "_model_name": "LayoutModel",
      "_view_count": null,
      "_view_module": "@jupyter-widgets/base",
      "_view_module_version": "1.2.0",
      "_view_name": "LayoutView",
      "align_content": null,
      "align_items": null,
      "align_self": null,
      "border": null,
      "bottom": null,
      "display": null,
      "flex": null,
      "flex_flow": null,
      "grid_area": null,
      "grid_auto_columns": null,
      "grid_auto_flow": null,
      "grid_auto_rows": null,
      "grid_column": null,
      "grid_gap": null,
      "grid_row": null,
      "grid_template_areas": null,
      "grid_template_columns": null,
      "grid_template_rows": null,
      "height": null,
      "justify_content": null,
      "justify_items": null,
      "left": null,
      "margin": null,
      "max_height": null,
      "max_width": null,
      "min_height": null,
      "min_width": null,
      "object_fit": null,
      "object_position": null,
      "order": null,
      "overflow": null,
      "overflow_x": null,
      "overflow_y": null,
      "padding": null,
      "right": null,
      "top": null,
      "visibility": null,
      "width": null
     }
    },
    "fb89563f211b494aabddaadaa1c08823": {
     "model_module": "@jupyter-widgets/base",
     "model_module_version": "1.2.0",
     "model_name": "LayoutModel",
     "state": {
      "_model_module": "@jupyter-widgets/base",
      "_model_module_version": "1.2.0",
      "_model_name": "LayoutModel",
      "_view_count": null,
      "_view_module": "@jupyter-widgets/base",
      "_view_module_version": "1.2.0",
      "_view_name": "LayoutView",
      "align_content": null,
      "align_items": null,
      "align_self": null,
      "border": null,
      "bottom": null,
      "display": null,
      "flex": null,
      "flex_flow": null,
      "grid_area": null,
      "grid_auto_columns": null,
      "grid_auto_flow": null,
      "grid_auto_rows": null,
      "grid_column": null,
      "grid_gap": null,
      "grid_row": null,
      "grid_template_areas": null,
      "grid_template_columns": null,
      "grid_template_rows": null,
      "height": null,
      "justify_content": null,
      "justify_items": null,
      "left": null,
      "margin": null,
      "max_height": null,
      "max_width": null,
      "min_height": null,
      "min_width": null,
      "object_fit": null,
      "object_position": null,
      "order": null,
      "overflow": null,
      "overflow_x": null,
      "overflow_y": null,
      "padding": null,
      "right": null,
      "top": null,
      "visibility": null,
      "width": null
     }
    },
    "fdc0f74887c54a0685a3857c25d26c24": {
     "model_module": "@jupyter-widgets/controls",
     "model_module_version": "1.5.0",
     "model_name": "FloatProgressModel",
     "state": {
      "_dom_classes": [],
      "_model_module": "@jupyter-widgets/controls",
      "_model_module_version": "1.5.0",
      "_model_name": "FloatProgressModel",
      "_view_count": null,
      "_view_module": "@jupyter-widgets/controls",
      "_view_module_version": "1.5.0",
      "_view_name": "ProgressView",
      "bar_style": "success",
      "description": "",
      "description_tooltip": null,
      "layout": "IPY_MODEL_7cbcbca973054204a58e340fe4ad83b4",
      "max": 1,
      "min": 0,
      "orientation": "horizontal",
      "style": "IPY_MODEL_a3f7148bb90b450488e92e58c7f4ea52",
      "value": 1
     }
    },
    "fe0b40e84ae544ebbfc7da86915f0f32": {
     "model_module": "@jupyter-widgets/base",
     "model_module_version": "1.2.0",
     "model_name": "LayoutModel",
     "state": {
      "_model_module": "@jupyter-widgets/base",
      "_model_module_version": "1.2.0",
      "_model_name": "LayoutModel",
      "_view_count": null,
      "_view_module": "@jupyter-widgets/base",
      "_view_module_version": "1.2.0",
      "_view_name": "LayoutView",
      "align_content": null,
      "align_items": null,
      "align_self": null,
      "border": null,
      "bottom": null,
      "display": null,
      "flex": null,
      "flex_flow": null,
      "grid_area": null,
      "grid_auto_columns": null,
      "grid_auto_flow": null,
      "grid_auto_rows": null,
      "grid_column": null,
      "grid_gap": null,
      "grid_row": null,
      "grid_template_areas": null,
      "grid_template_columns": null,
      "grid_template_rows": null,
      "height": null,
      "justify_content": null,
      "justify_items": null,
      "left": null,
      "margin": null,
      "max_height": null,
      "max_width": null,
      "min_height": null,
      "min_width": null,
      "object_fit": null,
      "object_position": null,
      "order": null,
      "overflow": null,
      "overflow_x": null,
      "overflow_y": null,
      "padding": null,
      "right": null,
      "top": null,
      "visibility": null,
      "width": null
     }
    }
   }
  }
 },
 "nbformat": 4,
 "nbformat_minor": 5
}
